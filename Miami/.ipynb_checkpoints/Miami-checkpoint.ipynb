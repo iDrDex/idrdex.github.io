{
 "metadata": {
  "celltoolbar": "Slideshow",
  "name": "",
  "signature": "sha256:e481e1b9bf2c1f9c77ffcca9e7d4c1f67ba59ab22993f67fbf1436a45b6eac36"
 },
 "nbformat": 3,
 "nbformat_minor": 0,
 "worksheets": [
  {
   "cells": [
    {
     "cell_type": "markdown",
     "metadata": {
      "internals": {
       "slide_helper": "subslide_end",
       "slide_type": "subslide"
      },
      "slide_helper": "slide_end",
      "slideshow": {
       "slide_type": "slide"
      }
     },
     "source": [
      "![](ucsf_logo.png)\n",
      "#From Bits to Bedside\n",
      "##*Translating Big Data into Biomedical Innovation*\n",
      "###Dexter Hadley, MD/PhD (<dexter.hadley@ucsf.edu>)\n",
      "###Assistant Professor of Pediatrics\n",
      "![](dex_lab.gif)"
     ]
    },
    {
     "cell_type": "code",
     "collapsed": false,
     "input": [
      "from IPython.display import HTML\n",
      "import pandas as pd, numpy as np\n",
      "def getIframe(url, height = 400, width = 800):\n",
      "    return HTML('<iframe src=%s height=%s width=%s></iframe>'%(url, height, width))\n",
      "def getWikipedia(page_words, height = 400, width = 800):\n",
      "    page = \"_\".join(page_words.split()).title()\n",
      "    url = \"http://en.wikipedia.org/wiki/%s\"%page\n",
      "    return getIframe(url, height, width)\n",
      "def getPubmed(pmid, height = 400, width = 800):\n",
      "    url = \"http://www.ncbi.nlm.nih.gov/m/pubmed/%s\"%pmid\n",
      "    return getIframe(url, height, width)\n",
      "from IPython.display import YouTubeVideo\n",
      "def getYouTubeVideo(code, height=400, width=800):\n",
      "    return YouTubeVideo(code, height=height, width=width)"
     ],
     "language": "python",
     "metadata": {
      "internals": {
       "slide_helper": "subslide_end",
       "slide_type": "subslide"
      },
      "slide_helper": "slide_end",
      "slideshow": {
       "slide_type": "subslide"
      }
     },
     "outputs": [],
     "prompt_number": 1
    },
    {
     "cell_type": "markdown",
     "metadata": {
      "internals": {
       "slide_helper": "subslide_end",
       "slide_type": "subslide"
      },
      "slide_helper": "slide_end",
      "slideshow": {
       "slide_type": "slide"
      }
     },
     "source": [
      "#Novel opportunities for personalizing treatment\n",
      "* **Rare genetic causes for common neuropsychiatric diseases**\n",
      "    * **ADHD and ASD**\n",
      "    * **Closed Big Data**\n",
      "* Systematic characterizations of disease\n",
      "    * Severe dengue\n",
      "    * Open Big Data\n",
      "* Future opportunities for tranlsation \n",
      "    * Crowdsourcing knowledge from open data\n",
      "    * Towards a deeper understanding of disease"
     ]
    },
    {
     "cell_type": "markdown",
     "metadata": {
      "internals": {
       "slide_helper": "subslide_end",
       "slide_type": "subslide"
      },
      "slide_helper": "slide_end",
      "slideshow": {
       "slide_type": "slide"
      }
     },
     "source": [
      "![](cag_logo.png)\n",
      "#Rare genetic causes for common neuropsychiatric diseases\n",
      "![](childrensPhiladelphia.jpg)\n",
      "#*Translating defective genetic networks into personalized therapeutics*"
     ]
    },
    {
     "cell_type": "markdown",
     "metadata": {
      "internals": {
       "slide_helper": "subslide_end",
       "slide_type": "subslide"
      },
      "slide_helper": "slide_end",
      "slideshow": {
       "slide_type": "slide"
      }
     },
     "source": [
      "#Precision Medicine\n",
      "![](http://www.nih.gov/precisionmedicine/images/pmi-people-map-yellow.jpg)\n",
      ">Tonight, I'm launching a new Precision Medicine Initiative to bring us closer to curing diseases like cancer and diabetes \u2014 and to give all of us access to the personalized information we need to keep ourselves and our families healthier.\n",
      ">> <cite>\u2014 President Barack Obama, State of the Union Address, **January 20, 2015**</cite>\n"
     ]
    },
    {
     "cell_type": "heading",
     "level": 1,
     "metadata": {
      "internals": {
       "slide_type": "subslide"
      },
      "slideshow": {
       "slide_type": "slide"
      }
     },
     "source": [
      "Precision medicine in neuropsychiactic disorders since 2011!"
     ]
    },
    {
     "cell_type": "code",
     "collapsed": false,
     "input": [
      "getPubmed(22138692)"
     ],
     "language": "python",
     "metadata": {
      "internals": {
       "slide_helper": "subslide_end"
      },
      "slide_helper": "slide_end",
      "slideshow": {
       "slide_type": "-"
      }
     },
     "outputs": [
      {
       "html": [
        "<iframe src=http://www.ncbi.nlm.nih.gov/m/pubmed/22138692 height=400 width=800></iframe>"
       ],
       "metadata": {},
       "output_type": "pyout",
       "prompt_number": 3,
       "text": [
        "<IPython.core.display.HTML at 0x10459c8d0>"
       ]
      }
     ],
     "prompt_number": 3
    },
    {
     "cell_type": "markdown",
     "metadata": {
      "internals": {
       "slide_helper": "subslide_end",
       "slide_type": "subslide"
      },
      "slide_helper": "subslide_end",
      "slideshow": {
       "slide_type": "slide"
      }
     },
     "source": [
      "#CAG hosts the world's largest pediatric biobank\n",
      "![](nature_biobank.png)"
     ]
    },
    {
     "cell_type": "markdown",
     "metadata": {
      "internals": {
       "slide_helper": "subslide_end",
       "slide_type": "subslide"
      },
      "slide_helper": "slide_end",
      "slideshow": {
       "slide_type": "subslide"
      }
     },
     "source": [
      "#CAG @ CHoP today\n",
      "\n",
      "* Founded in June 2006\n",
      "    * 100 current employees\n",
      "    * 50 active disease projects\n",
      "* Comprehensive Database\n",
      "    * 150K samples genotyped\n",
      "    * 70K linked EMR and extensive demographics \n",
      "    * 85%+ consented for future studies\n",
      "    * Parental DNA collected where available\n",
      "* Automation/Informatics/InforSense\n",
      "    * State of the art robotic LIMS\n",
      "    * Over 150B genotypes in DB\n",
      "    * Blood, LCL & iPSC\n"
     ]
    },
    {
     "cell_type": "code",
     "collapsed": false,
     "input": [
      "getPubmed(17921354)"
     ],
     "language": "python",
     "metadata": {
      "internals": {
       "slide_helper": "subslide_end",
       "slide_type": "subslide"
      },
      "slide_helper": "subslide_end",
      "slideshow": {
       "slide_type": "slide"
      }
     },
     "outputs": [
      {
       "html": [
        "<iframe src=http://www.ncbi.nlm.nih.gov/m/pubmed/17921354 height=400 width=800></iframe>"
       ],
       "metadata": {},
       "output_type": "pyout",
       "prompt_number": 4,
       "text": [
        "<IPython.core.display.HTML at 0x104593b50>"
       ]
      }
     ],
     "prompt_number": 4
    },
    {
     "cell_type": "markdown",
     "metadata": {
      "internals": {
       "slide_type": "subslide"
      },
      "slideshow": {
       "slide_type": "subslide"
      }
     },
     "source": [
      "![](http://genome.cshlp.org/content/17/11/1665/F1.large.jpg)"
     ]
    },
    {
     "cell_type": "markdown",
     "metadata": {
      "internals": {
       "slide_helper": "subslide_end",
       "slide_type": "subslide"
      },
      "slide_helper": "slide_end",
      "slideshow": {
       "slide_type": "slide"
      }
     },
     "source": [
      "#Genetic analysis of ADHD\n",
      "* 13K+ samples genotyped for CNVs\n",
      "    * 3.5K+ cases\n",
      "    * 9K+ controls\n",
      "\n",
      "* Identified many rare highly penetrant CNVs\n",
      "    * Defects in GRM family of genes most significant\n",
      "\n",
      "* Pathway analysis significant for metabotropic glutamate receptor (mGluR) network of GRMs\n",
      "    * Captures 10% of disease cohort\n"
     ]
    },
    {
     "cell_type": "heading",
     "level": 1,
     "metadata": {
      "internals": {
       "slide_type": "subslide"
      },
      "slideshow": {
       "slide_type": "slide"
      }
     },
     "source": [
      "GRM most significant CNV defect"
     ]
    },
    {
     "cell_type": "code",
     "collapsed": false,
     "input": [
      "pd.read_csv('adhd_results.csv', index_col=0)"
     ],
     "language": "python",
     "metadata": {
      "internals": {},
      "slideshow": {
       "slide_type": "-"
      }
     },
     "outputs": [
      {
       "html": [
        "<div style=\"max-height:1000px;max-width:1500px;overflow:auto;\">\n",
        "<table border=\"1\" class=\"dataframe\">\n",
        "  <thead>\n",
        "    <tr style=\"text-align: right;\">\n",
        "      <th></th>\n",
        "      <th>Info</th>\n",
        "      <th>dCase</th>\n",
        "      <th>dCtrl</th>\n",
        "      <th>rCase</th>\n",
        "      <th>rCtrl</th>\n",
        "      <th>Inheritance</th>\n",
        "      <th>Pval</th>\n",
        "      <th>OR</th>\n",
        "    </tr>\n",
        "    <tr>\n",
        "      <th>Gene</th>\n",
        "      <th></th>\n",
        "      <th></th>\n",
        "      <th></th>\n",
        "      <th></th>\n",
        "      <th></th>\n",
        "      <th></th>\n",
        "      <th></th>\n",
        "      <th></th>\n",
        "    </tr>\n",
        "  </thead>\n",
        "  <tbody>\n",
        "    <tr>\n",
        "      <th>GRM5</th>\n",
        "      <td> chr11 del intron</td>\n",
        "      <td> 4</td>\n",
        "      <td> 0</td>\n",
        "      <td> 6</td>\n",
        "      <td> 1</td>\n",
        "      <td> 4:1:3 (62.5%)</td>\n",
        "      <td> 0.000001</td>\n",
        "      <td> 38</td>\n",
        "    </tr>\n",
        "    <tr>\n",
        "      <th>GRM8</th>\n",
        "      <td>    chr7 del exon</td>\n",
        "      <td> 3</td>\n",
        "      <td> 0</td>\n",
        "      <td> 5</td>\n",
        "      <td> 0</td>\n",
        "      <td>  0:1:0 (100%)</td>\n",
        "      <td> 0.000004</td>\n",
        "      <td>NaN</td>\n",
        "    </tr>\n",
        "    <tr>\n",
        "      <th>GRM7</th>\n",
        "      <td>  chr3 del intron</td>\n",
        "      <td> 4</td>\n",
        "      <td> 0</td>\n",
        "      <td> 2</td>\n",
        "      <td> 0</td>\n",
        "      <td>  0:2:0 (100%)</td>\n",
        "      <td> 0.000081</td>\n",
        "      <td>NaN</td>\n",
        "    </tr>\n",
        "    <tr>\n",
        "      <th>GRM1</th>\n",
        "      <td>    chr6 dup exon</td>\n",
        "      <td> 5</td>\n",
        "      <td> 2</td>\n",
        "      <td> 3</td>\n",
        "      <td> 0</td>\n",
        "      <td>  2:0:0 (100%)</td>\n",
        "      <td> 0.000105</td>\n",
        "      <td> 15</td>\n",
        "    </tr>\n",
        "    <tr>\n",
        "      <th>NEGR1</th>\n",
        "      <td>  chr1 dup intron</td>\n",
        "      <td> 4</td>\n",
        "      <td> 0</td>\n",
        "      <td> 1</td>\n",
        "      <td> 0</td>\n",
        "      <td>  0:3:0 (100%)</td>\n",
        "      <td> 0.000391</td>\n",
        "      <td>NaN</td>\n",
        "    </tr>\n",
        "    <tr>\n",
        "      <th>DPP6</th>\n",
        "      <td>  chr7 dup intron</td>\n",
        "      <td> 5</td>\n",
        "      <td> 0</td>\n",
        "      <td> 3</td>\n",
        "      <td> 2</td>\n",
        "      <td>  1:2:0 (100%)</td>\n",
        "      <td> 0.000408</td>\n",
        "      <td> 15</td>\n",
        "    </tr>\n",
        "    <tr>\n",
        "      <th>SGTB/NLN</th>\n",
        "      <td>    chr5 del exon</td>\n",
        "      <td> 4</td>\n",
        "      <td> 0</td>\n",
        "      <td> 2</td>\n",
        "      <td> 1</td>\n",
        "      <td>   2:0:2 (50%)</td>\n",
        "      <td> 0.000468</td>\n",
        "      <td> 23</td>\n",
        "    </tr>\n",
        "    <tr>\n",
        "      <th>USP24e</th>\n",
        "      <td>  chr1 del intron</td>\n",
        "      <td> 2</td>\n",
        "      <td> 0</td>\n",
        "      <td> 4</td>\n",
        "      <td> 2</td>\n",
        "      <td>   1:0:3 (25%)</td>\n",
        "      <td> 0.001540</td>\n",
        "      <td> 11</td>\n",
        "    </tr>\n",
        "    <tr>\n",
        "      <th>SLC7A10e</th>\n",
        "      <td> chr19 del intron</td>\n",
        "      <td> 5</td>\n",
        "      <td> 2</td>\n",
        "      <td> 2</td>\n",
        "      <td> 3</td>\n",
        "      <td>   2:2:1 (80%)</td>\n",
        "      <td> 0.004950</td>\n",
        "      <td>  5</td>\n",
        "    </tr>\n",
        "    <tr>\n",
        "      <th>CNTN4e</th>\n",
        "      <td>  chr3 del intron</td>\n",
        "      <td> 4</td>\n",
        "      <td> 0</td>\n",
        "      <td> 3</td>\n",
        "      <td> 6</td>\n",
        "      <td>  2:4:0 (100%)</td>\n",
        "      <td> 0.008810</td>\n",
        "      <td>  4</td>\n",
        "    </tr>\n",
        "    <tr>\n",
        "      <th>CTNNA2e</th>\n",
        "      <td>  chr2 dup intron</td>\n",
        "      <td> 2</td>\n",
        "      <td> 0</td>\n",
        "      <td> 2</td>\n",
        "      <td> 3</td>\n",
        "      <td>   1:0:1 (50%)</td>\n",
        "      <td> 0.038300</td>\n",
        "      <td>  5</td>\n",
        "    </tr>\n",
        "    <tr>\n",
        "      <th>LARP7</th>\n",
        "      <td>    chr4 dup exon</td>\n",
        "      <td> 2</td>\n",
        "      <td> 0</td>\n",
        "      <td> 2</td>\n",
        "      <td> 3</td>\n",
        "      <td>    0:0:0 (NA)</td>\n",
        "      <td> 0.038300</td>\n",
        "      <td>  5</td>\n",
        "    </tr>\n",
        "  </tbody>\n",
        "</table>\n",
        "</div>"
       ],
       "metadata": {},
       "output_type": "pyout",
       "prompt_number": 21,
       "text": [
        "                      Info  dCase  dCtrl  rCase  rCtrl    Inheritance  \\\n",
        "Gene                                                                    \n",
        "GRM5      chr11 del intron      4      0      6      1  4:1:3 (62.5%)   \n",
        "GRM8         chr7 del exon      3      0      5      0   0:1:0 (100%)   \n",
        "GRM7       chr3 del intron      4      0      2      0   0:2:0 (100%)   \n",
        "GRM1         chr6 dup exon      5      2      3      0   2:0:0 (100%)   \n",
        "NEGR1      chr1 dup intron      4      0      1      0   0:3:0 (100%)   \n",
        "DPP6       chr7 dup intron      5      0      3      2   1:2:0 (100%)   \n",
        "SGTB/NLN     chr5 del exon      4      0      2      1    2:0:2 (50%)   \n",
        "USP24e     chr1 del intron      2      0      4      2    1:0:3 (25%)   \n",
        "SLC7A10e  chr19 del intron      5      2      2      3    2:2:1 (80%)   \n",
        "CNTN4e     chr3 del intron      4      0      3      6   2:4:0 (100%)   \n",
        "CTNNA2e    chr2 dup intron      2      0      2      3    1:0:1 (50%)   \n",
        "LARP7        chr4 dup exon      2      0      2      3     0:0:0 (NA)   \n",
        "\n",
        "              Pval  OR  \n",
        "Gene                    \n",
        "GRM5      0.000001  38  \n",
        "GRM8      0.000004 NaN  \n",
        "GRM7      0.000081 NaN  \n",
        "GRM1      0.000105  15  \n",
        "NEGR1     0.000391 NaN  \n",
        "DPP6      0.000408  15  \n",
        "SGTB/NLN  0.000468  23  \n",
        "USP24e    0.001540  11  \n",
        "SLC7A10e  0.004950   5  \n",
        "CNTN4e    0.008810   4  \n",
        "CTNNA2e   0.038300   5  \n",
        "LARP7     0.038300   5  "
       ]
      }
     ],
     "prompt_number": 21
    },
    {
     "cell_type": "markdown",
     "metadata": {
      "internals": {
       "slide_helper": "subslide_end"
      },
      "slide_helper": "slide_end",
      "slideshow": {
       "slide_type": "slide"
      }
     },
     "source": [
      "#GRM5 mutation exclusive to cases\n",
      "![](GRM5_GB.jpg)"
     ]
    },
    {
     "cell_type": "markdown",
     "metadata": {
      "internals": {
       "slide_helper": "subslide_end",
       "slide_type": "subslide"
      },
      "slide_helper": "slide_end",
      "slideshow": {
       "slide_type": "slide"
      }
     },
     "source": [
      "#Defective GRM network\n",
      "![](ADHD_network.jpg)"
     ]
    },
    {
     "cell_type": "markdown",
     "metadata": {
      "internals": {
       "slide_helper": "subslide_end",
       "slide_type": "subslide"
      },
      "slide_helper": "slide_end",
      "slideshow": {
       "slide_type": "slide"
      }
     },
     "source": [
      "#Genetic analysis of ASD\n",
      "* 19K+ samples genotyped for CNVs\n",
      "    * 6.5K+ cases\n",
      "    * 12.5K+ controls\n",
      "* Identified many rare highly penetrant CNVs\n",
      "    * Defects in GABR-A family of genes most significant\n",
      "    * 25 duplications unique to cases in GABRB3 and other highly significant duplications in GABRA5 and GABRA3\n",
      "* Analysis of defective genetic networks significant for many attractive candidate pathways\n",
      "    * Captures >5% of disease cohort"
     ]
    },
    {
     "cell_type": "markdown",
     "metadata": {
      "internals": {
       "slide_helper": "subslide_end",
       "slide_type": "subslide"
      },
      "slide_helper": "slide_end",
      "slideshow": {
       "slide_type": "slide"
      }
     },
     "source": [
      "#Population structure by PCA of SNPs used to assign continental ancestry\n",
      "![](hgdp_pca.png)"
     ]
    },
    {
     "cell_type": "heading",
     "level": 1,
     "metadata": {
      "internals": {
       "slide_type": "subslide"
      },
      "slideshow": {
       "slide_type": "slide"
      }
     },
     "source": [
      "ASD Sample inventory"
     ]
    },
    {
     "cell_type": "code",
     "collapsed": false,
     "input": [
      "pd.read_csv(\"asd_inventory.csv\", index_col=0)"
     ],
     "language": "python",
     "metadata": {
      "internals": {},
      "slideshow": {
       "slide_type": "-"
      }
     },
     "outputs": [
      {
       "html": [
        "<div style=\"max-height:1000px;max-width:1500px;overflow:auto;\">\n",
        "<table border=\"1\" class=\"dataframe\">\n",
        "  <thead>\n",
        "    <tr style=\"text-align: right;\">\n",
        "      <th></th>\n",
        "      <th>Case</th>\n",
        "      <th>Control</th>\n",
        "      <th>Total</th>\n",
        "    </tr>\n",
        "    <tr>\n",
        "      <th>Ancestry </th>\n",
        "      <th></th>\n",
        "      <th></th>\n",
        "      <th></th>\n",
        "    </tr>\n",
        "  </thead>\n",
        "  <tbody>\n",
        "    <tr>\n",
        "      <th>Europe</th>\n",
        "      <td> 4,602</td>\n",
        "      <td> 4,722</td>\n",
        "      <td>  9,324</td>\n",
        "    </tr>\n",
        "    <tr>\n",
        "      <th>Africa</th>\n",
        "      <td>   312</td>\n",
        "      <td> 4,169</td>\n",
        "      <td>  4,481</td>\n",
        "    </tr>\n",
        "    <tr>\n",
        "      <th>America</th>\n",
        "      <td>   485</td>\n",
        "      <td>   276</td>\n",
        "      <td>    761</td>\n",
        "    </tr>\n",
        "    <tr>\n",
        "      <th>Asia</th>\n",
        "      <td>   201</td>\n",
        "      <td>   350</td>\n",
        "      <td>    551</td>\n",
        "    </tr>\n",
        "    <tr>\n",
        "      <th>Other</th>\n",
        "      <td>    27</td>\n",
        "      <td>   127</td>\n",
        "      <td>    154</td>\n",
        "    </tr>\n",
        "    <tr>\n",
        "      <th>Grand total</th>\n",
        "      <td> 5,627</td>\n",
        "      <td> 9,644</td>\n",
        "      <td> 15,271</td>\n",
        "    </tr>\n",
        "  </tbody>\n",
        "</table>\n",
        "</div>"
       ],
       "metadata": {},
       "output_type": "pyout",
       "prompt_number": 25,
       "text": [
        "              Case Control   Total\n",
        "Ancestry                          \n",
        "Europe       4,602   4,722   9,324\n",
        "Africa         312   4,169   4,481\n",
        "America        485     276     761\n",
        "Asia           201     350     551\n",
        "Other           27     127     154\n",
        "Grand total  5,627   9,644  15,271"
       ]
      }
     ],
     "prompt_number": 25
    },
    {
     "cell_type": "markdown",
     "metadata": {
      "internals": {},
      "slideshow": {
       "slide_type": "slide"
      }
     },
     "source": [
      "#GWAS results not novel\n",
      "![](GWAS.png)"
     ]
    },
    {
     "cell_type": "heading",
     "level": 1,
     "metadata": {
      "internals": {},
      "slideshow": {
       "slide_type": "slide"
      }
     },
     "source": [
      "mGluR defines an axis of synaptopathology for ASD"
     ]
    },
    {
     "cell_type": "code",
     "collapsed": false,
     "input": [
      "getPubmed(22113615)"
     ],
     "language": "python",
     "metadata": {
      "internals": {
       "slide_helper": "subslide_end"
      },
      "slide_helper": "slide_end",
      "slideshow": {
       "slide_type": "-"
      }
     },
     "outputs": [
      {
       "html": [
        "<iframe src=http://www.ncbi.nlm.nih.gov/m/pubmed/22113615 height=400 width=800></iframe>"
       ],
       "metadata": {},
       "output_type": "pyout",
       "prompt_number": 27,
       "text": [
        "<IPython.core.display.HTML at 0x108bcbb10>"
       ]
      }
     ],
     "prompt_number": 27
    },
    {
     "cell_type": "markdown",
     "metadata": {
      "internals": {
       "slide_helper": "subslide_end",
       "slide_type": "subslide"
      },
      "slide_helper": "slide_end",
      "slideshow": {
       "slide_type": "subslide"
      }
     },
     "source": [
      "#mGluR Tx personalized for one cause of ASD may be ineffective or even deleterious for another\n",
      "![](asd_axis.png)"
     ]
    },
    {
     "cell_type": "markdown",
     "metadata": {
      "internals": {
       "slide_helper": "subslide_end",
       "slide_type": "subslide"
      },
      "slide_helper": "slide_end",
      "slideshow": {
       "slide_type": "slide"
      }
     },
     "source": [
      "#mGluR network also significant in ASD\n",
      "![](ASD_network.jpg)"
     ]
    },
    {
     "cell_type": "heading",
     "level": 1,
     "metadata": {
      "internals": {
       "slide_type": "subslide"
      },
      "slideshow": {
       "slide_type": "slide"
      }
     },
     "source": [
      "Marginal GRMs nowhere near significant in ASD!"
     ]
    },
    {
     "cell_type": "code",
     "collapsed": false,
     "input": [
      "pd.read_csv(\"asd_results.csv\", index_col=0)"
     ],
     "language": "python",
     "metadata": {
      "internals": {
       "slide_helper": "subslide_end"
      },
      "slide_helper": "slide_end",
      "slideshow": {
       "slide_type": "-"
      }
     },
     "outputs": [
      {
       "html": [
        "<div style=\"max-height:1000px;max-width:1500px;overflow:auto;\">\n",
        "<table border=\"1\" class=\"dataframe\">\n",
        "  <thead>\n",
        "    <tr style=\"text-align: right;\">\n",
        "      <th></th>\n",
        "      <th>CNV</th>\n",
        "      <th>bands</th>\n",
        "      <th>Size(Kb)</th>\n",
        "      <th>#SNP</th>\n",
        "      <th>#Case</th>\n",
        "      <th>#Ctrl</th>\n",
        "      <th>P</th>\n",
        "      <th>OR</th>\n",
        "    </tr>\n",
        "    <tr>\n",
        "      <th>gene</th>\n",
        "      <th></th>\n",
        "      <th></th>\n",
        "      <th></th>\n",
        "      <th></th>\n",
        "      <th></th>\n",
        "      <th></th>\n",
        "      <th></th>\n",
        "      <th></th>\n",
        "    </tr>\n",
        "  </thead>\n",
        "  <tbody>\n",
        "    <tr>\n",
        "      <th>CACNA1B</th>\n",
        "      <td> dup</td>\n",
        "      <td>   9q34.3</td>\n",
        "      <td>   6.98</td>\n",
        "      <td>  2</td>\n",
        "      <td> 11</td>\n",
        "      <td> 0</td>\n",
        "      <td> 0.000421</td>\n",
        "      <td>  NaN</td>\n",
        "    </tr>\n",
        "    <tr>\n",
        "      <th>ECHS1</th>\n",
        "      <td> dup</td>\n",
        "      <td>  10q26.3</td>\n",
        "      <td>   8.89</td>\n",
        "      <td>  2</td>\n",
        "      <td> 10</td>\n",
        "      <td> 0</td>\n",
        "      <td> 0.000854</td>\n",
        "      <td>  NaN</td>\n",
        "    </tr>\n",
        "    <tr>\n",
        "      <th>PSMD1</th>\n",
        "      <td> del</td>\n",
        "      <td>   2q37.1</td>\n",
        "      <td>  10.51</td>\n",
        "      <td>  1</td>\n",
        "      <td> 14</td>\n",
        "      <td> 2</td>\n",
        "      <td> 0.001770</td>\n",
        "      <td> 7.20</td>\n",
        "    </tr>\n",
        "    <tr>\n",
        "      <th>RANBP1</th>\n",
        "      <td> dup</td>\n",
        "      <td> 22q11.21</td>\n",
        "      <td>   9.62</td>\n",
        "      <td>  1</td>\n",
        "      <td> 13</td>\n",
        "      <td> 3</td>\n",
        "      <td> 0.009240</td>\n",
        "      <td> 4.46</td>\n",
        "    </tr>\n",
        "    <tr>\n",
        "      <th>TUBA3C</th>\n",
        "      <td> dup</td>\n",
        "      <td> 13q12.11</td>\n",
        "      <td>   4.85</td>\n",
        "      <td>  4</td>\n",
        "      <td> 17</td>\n",
        "      <td> 8</td>\n",
        "      <td> 0.047000</td>\n",
        "      <td> 2.18</td>\n",
        "    </tr>\n",
        "    <tr>\n",
        "      <th>TRAF2</th>\n",
        "      <td> dup</td>\n",
        "      <td>   9q34.3</td>\n",
        "      <td>  44.67</td>\n",
        "      <td>  3</td>\n",
        "      <td>  6</td>\n",
        "      <td> 1</td>\n",
        "      <td> 0.058300</td>\n",
        "      <td> 6.16</td>\n",
        "    </tr>\n",
        "    <tr>\n",
        "      <th>RYR2</th>\n",
        "      <td> del</td>\n",
        "      <td>     1q43</td>\n",
        "      <td>   2.01</td>\n",
        "      <td>  1</td>\n",
        "      <td>  4</td>\n",
        "      <td> 0</td>\n",
        "      <td> 0.059300</td>\n",
        "      <td>  NaN</td>\n",
        "    </tr>\n",
        "    <tr>\n",
        "      <th>TJP1</th>\n",
        "      <td> del</td>\n",
        "      <td>  15q13.1</td>\n",
        "      <td> 365.84</td>\n",
        "      <td> 62</td>\n",
        "      <td>  4</td>\n",
        "      <td> 0</td>\n",
        "      <td> 0.059300</td>\n",
        "      <td>  NaN</td>\n",
        "    </tr>\n",
        "    <tr>\n",
        "      <th>HOMER3</th>\n",
        "      <td> dup</td>\n",
        "      <td> 19p13.11</td>\n",
        "      <td>   3.76</td>\n",
        "      <td>  2</td>\n",
        "      <td>  9</td>\n",
        "      <td> 3</td>\n",
        "      <td> 0.066800</td>\n",
        "      <td> 3.08</td>\n",
        "    </tr>\n",
        "    <tr>\n",
        "      <th>CNR1</th>\n",
        "      <td> dup</td>\n",
        "      <td>     6q15</td>\n",
        "      <td>   2.98</td>\n",
        "      <td>  1</td>\n",
        "      <td> 15</td>\n",
        "      <td> 8</td>\n",
        "      <td> 0.093900</td>\n",
        "      <td> 1.93</td>\n",
        "    </tr>\n",
        "    <tr>\n",
        "      <th>GRM1</th>\n",
        "      <td> del</td>\n",
        "      <td>   6q24.3</td>\n",
        "      <td>  18.44</td>\n",
        "      <td>  3</td>\n",
        "      <td>  2</td>\n",
        "      <td> 0</td>\n",
        "      <td> 0.244000</td>\n",
        "      <td>  NaN</td>\n",
        "    </tr>\n",
        "    <tr>\n",
        "      <th>GRM3</th>\n",
        "      <td> del</td>\n",
        "      <td>  7q21.12</td>\n",
        "      <td>  44.85</td>\n",
        "      <td>  9</td>\n",
        "      <td>  1</td>\n",
        "      <td> 0</td>\n",
        "      <td> 0.494000</td>\n",
        "      <td>  NaN</td>\n",
        "    </tr>\n",
        "    <tr>\n",
        "      <th>GRM4</th>\n",
        "      <td> del</td>\n",
        "      <td>  6p21.31</td>\n",
        "      <td>  86.47</td>\n",
        "      <td> 26</td>\n",
        "      <td>  0</td>\n",
        "      <td> 1</td>\n",
        "      <td> 1.000000</td>\n",
        "      <td> 0.00</td>\n",
        "    </tr>\n",
        "    <tr>\n",
        "      <th>GRM5</th>\n",
        "      <td> del</td>\n",
        "      <td>  11q14.3</td>\n",
        "      <td>  73.18</td>\n",
        "      <td>  7</td>\n",
        "      <td>  4</td>\n",
        "      <td> 0</td>\n",
        "      <td> 0.059600</td>\n",
        "      <td>  NaN</td>\n",
        "    </tr>\n",
        "    <tr>\n",
        "      <th>GRM6</th>\n",
        "      <td> dup</td>\n",
        "      <td>   5q35.3</td>\n",
        "      <td> 234.49</td>\n",
        "      <td> 51</td>\n",
        "      <td>  0</td>\n",
        "      <td> 2</td>\n",
        "      <td> 0.500000</td>\n",
        "      <td> 0.00</td>\n",
        "    </tr>\n",
        "    <tr>\n",
        "      <th>GRM7</th>\n",
        "      <td> del</td>\n",
        "      <td>   3p26.1</td>\n",
        "      <td>  28.26</td>\n",
        "      <td> 11</td>\n",
        "      <td>  2</td>\n",
        "      <td> 0</td>\n",
        "      <td> 0.244000</td>\n",
        "      <td>  NaN</td>\n",
        "    </tr>\n",
        "    <tr>\n",
        "      <th>GRM8</th>\n",
        "      <td> del</td>\n",
        "      <td>  7q31.33</td>\n",
        "      <td>  52.53</td>\n",
        "      <td> 11</td>\n",
        "      <td>  1</td>\n",
        "      <td> 0</td>\n",
        "      <td> 0.494000</td>\n",
        "      <td>  NaN</td>\n",
        "    </tr>\n",
        "  </tbody>\n",
        "</table>\n",
        "</div>"
       ],
       "metadata": {},
       "output_type": "pyout",
       "prompt_number": 31,
       "text": [
        "         CNV     bands  Size(Kb)  #SNP  #Case  #Ctrl         P    OR\n",
        "gene                                                                \n",
        "CACNA1B  dup    9q34.3      6.98     2     11      0  0.000421   NaN\n",
        "ECHS1    dup   10q26.3      8.89     2     10      0  0.000854   NaN\n",
        "PSMD1    del    2q37.1     10.51     1     14      2  0.001770  7.20\n",
        "RANBP1   dup  22q11.21      9.62     1     13      3  0.009240  4.46\n",
        "TUBA3C   dup  13q12.11      4.85     4     17      8  0.047000  2.18\n",
        "TRAF2    dup    9q34.3     44.67     3      6      1  0.058300  6.16\n",
        "RYR2     del      1q43      2.01     1      4      0  0.059300   NaN\n",
        "TJP1     del   15q13.1    365.84    62      4      0  0.059300   NaN\n",
        "HOMER3   dup  19p13.11      3.76     2      9      3  0.066800  3.08\n",
        "CNR1     dup      6q15      2.98     1     15      8  0.093900  1.93\n",
        "GRM1     del    6q24.3     18.44     3      2      0  0.244000   NaN\n",
        "GRM3     del   7q21.12     44.85     9      1      0  0.494000   NaN\n",
        "GRM4     del   6p21.31     86.47    26      0      1  1.000000  0.00\n",
        "GRM5     del   11q14.3     73.18     7      4      0  0.059600   NaN\n",
        "GRM6     dup    5q35.3    234.49    51      0      2  0.500000  0.00\n",
        "GRM7     del    3p26.1     28.26    11      2      0  0.244000   NaN\n",
        "GRM8     del   7q31.33     52.53    11      1      0  0.494000   NaN"
       ]
      }
     ],
     "prompt_number": 31
    },
    {
     "cell_type": "markdown",
     "metadata": {
      "internals": {
       "slide_type": "subslide"
      },
      "slideshow": {
       "slide_type": "slide"
      }
     },
     "source": [
      "#Permutation test for significance of GRM network in ASD\n",
      "![](permutation_test.png)"
     ]
    },
    {
     "cell_type": "heading",
     "level": 1,
     "metadata": {
      "slideshow": {
       "slide_type": "slide"
      }
     },
     "source": [
      "Many different druggable target networks in ASD!"
     ]
    },
    {
     "cell_type": "code",
     "collapsed": false,
     "input": [
      "getPubmed(24927284)"
     ],
     "language": "python",
     "metadata": {
      "slideshow": {
       "slide_type": "-"
      }
     },
     "outputs": [
      {
       "html": [
        "<iframe src=http://www.ncbi.nlm.nih.gov/m/pubmed/24927284 height=400 width=800></iframe>"
       ],
       "metadata": {},
       "output_type": "pyout",
       "prompt_number": 43,
       "text": [
        "<IPython.core.display.HTML at 0x108be7f50>"
       ]
      }
     ],
     "prompt_number": 43
    },
    {
     "cell_type": "markdown",
     "metadata": {
      "internals": {
       "slide_helper": "subslide_end"
      },
      "slide_helper": "slide_end",
      "slideshow": {
       "slide_type": "slide"
      }
     },
     "source": [
      "#Personalized drug for mGlur defects\n",
      "![](Fasoracetam.png)\n",
      "* Official name: Fasoracetam, NS-105, LAM-105\n",
      "* IUPAC name: (5R)-5-(piperidine-1-carbonyl) pyrrolidin-2-one\n",
      "* Chemical formula: C10H16N2O2\n",
      "* Molecular weight: 196.25\n",
      "* Originally developed by Nippon Shinyaku, Ltd.\n",
      "* Materials patent has since expired"
     ]
    },
    {
     "cell_type": "markdown",
     "metadata": {
      "internals": {
       "slide_helper": "subslide_end",
       "slide_type": "subslide"
      },
      "slide_helper": "slide_end",
      "slideshow": {
       "slide_type": "slide"
      }
     },
     "source": [
      "#Current clinical trials are expensive and inefficient\n",
      "![](drug_trial_normal.png)"
     ]
    },
    {
     "cell_type": "markdown",
     "metadata": {
      "internals": {
       "slide_helper": "subslide_end",
       "slide_type": "subslide"
      },
      "slide_helper": "slide_end",
      "slideshow": {
       "slide_type": "slide"
      }
     },
     "source": [
      "#Big data for precision clinical trials by minimizing cost with maximal efficacy\n",
      "![](drug_trial_precision.png)"
     ]
    },
    {
     "cell_type": "markdown",
     "metadata": {
      "internals": {
       "slide_helper": "subslide_end",
       "slide_type": "subslide"
      },
      "slide_helper": "slide_end",
      "slideshow": {
       "slide_type": "slide"
      }
     },
     "source": [
      "#Clinical development plan for neuropsychiatric disease\n",
      "![](neurofix.png)\n",
      "* GRM mutations in ADHD\n",
      "    * Rare CNVs in patients with severe ADHD (~1-2%)\n",
      "    * Use exon sequencing and CGH array to identify more subjects\n",
      "* Pre-clinical\n",
      "    * Toxicology and safety pharmacology\n",
      "    * iPSC and mouse knockouts to gauge efficacy\n",
      "* Phase I\n",
      "    * Dose escalation and pharmacokinetics in pediatric ADHD patients\n",
      "* Phase IIa\n",
      "    * Efficacy study in pediatric ADHD patients with GRM mutations"
     ]
    },
    {
     "cell_type": "markdown",
     "metadata": {
      "internals": {
       "slide_type": "subslide"
      },
      "slideshow": {
       "slide_type": "slide"
      }
     },
     "source": [
      "#Novel opportunities for personalizing treatment\n",
      "* Rare genetic causes for common neuropsychiatric diseases\n",
      "    * ADHD and ASD\n",
      "    * Closed Big Data\n",
      "* **Systematic characterizations of disease**\n",
      "    * **Severe dengue**\n",
      "    * **Open Big Data**\n",
      "* Future opportunities for tranlsation \n",
      "    * Crowdsourcing knowledge from open data\n",
      "    * Towards a deeper understanding of disease"
     ]
    },
    {
     "cell_type": "markdown",
     "metadata": {
      "internals": {},
      "slideshow": {
       "slide_type": "slide"
      }
     },
     "source": [
      "![](stanford_medicine_logo.png)\n",
      "#Severe Dengue\n",
      "#*Translating defective functional systems into personalized therapeutics*\n",
      "![](stanford.clarkcenterpano.2.jpg)\n",
      "\n"
     ]
    },
    {
     "cell_type": "heading",
     "level": 1,
     "metadata": {
      "internals": {
       "slide_type": "subslide"
      },
      "slideshow": {
       "slide_type": "slide"
      }
     },
     "source": [
      "Microarays developed at Stanford over 20 years ago"
     ]
    },
    {
     "cell_type": "code",
     "collapsed": false,
     "input": [
      "getPubmed(7569999)"
     ],
     "language": "python",
     "metadata": {
      "internals": {
       "slide_helper": "subslide_end"
      },
      "slide_helper": "slide_end",
      "slideshow": {
       "slide_type": "-"
      }
     },
     "outputs": [
      {
       "html": [
        "<iframe src=http://www.ncbi.nlm.nih.gov/m/pubmed/7569999 height=400 width=800></iframe>"
       ],
       "metadata": {},
       "output_type": "pyout",
       "prompt_number": 32,
       "text": [
        "<IPython.core.display.HTML at 0x108bcbc90>"
       ]
      }
     ],
     "prompt_number": 32
    },
    {
     "cell_type": "heading",
     "level": 1,
     "metadata": {
      "internals": {
       "slide_type": "subslide"
      },
      "slideshow": {
       "slide_type": "slide"
      }
     },
     "source": [
      "#Explosive growth of functional genomics Big Data since then"
     ]
    },
    {
     "cell_type": "code",
     "collapsed": false,
     "input": [
      "getIframe('http://www.ncbi.nlm.nih.gov/pmc/articles/PMC3531084/figure/gks1193-F1/')"
     ],
     "language": "python",
     "metadata": {
      "internals": {
       "slide_helper": "subslide_end"
      },
      "slide_helper": "subslide_end",
      "slideshow": {
       "slide_type": "-"
      }
     },
     "outputs": [
      {
       "html": [
        "<iframe src=http://www.ncbi.nlm.nih.gov/pmc/articles/PMC3531084/figure/gks1193-F1/ height=400 width=800></iframe>"
       ],
       "metadata": {},
       "output_type": "pyout",
       "prompt_number": 34,
       "text": [
        "<IPython.core.display.HTML at 0x108bcb710>"
       ]
      }
     ],
     "prompt_number": 34
    },
    {
     "cell_type": "markdown",
     "metadata": {
      "internals": {
       "slide_helper": "subslide_end",
       "slide_type": "subslide"
      },
      "slide_helper": "subslide_end",
      "slideshow": {
       "slide_type": "subslide"
      }
     },
     "source": [
      "#126B+ functional genomics #BigData points over 15+ years!\n",
      "![](GEO.points.svg)"
     ]
    },
    {
     "cell_type": "markdown",
     "metadata": {
      "internals": {
       "slide_helper": "subslide_end",
       "slide_type": "subslide"
      },
      "slide_helper": "slide_end",
      "slideshow": {
       "slide_type": "subslide"
      }
     },
     "source": [
      "#1.6M+ #DigitalSamples over 15 years!\n",
      "![](GEO.points.svg)"
     ]
    },
    {
     "cell_type": "markdown",
     "metadata": {
      "internals": {
       "slide_helper": "subslide_end",
       "slide_type": "subslide"
      },
      "slide_helper": "slide_end",
      "slideshow": {
       "slide_type": "slide"
      }
     },
     "source": [
      "#32K+ distinct #PudMed publications!\n",
      "![](GEO.pubs.svg)"
     ]
    },
    {
     "cell_type": "heading",
     "level": 1,
     "metadata": {
      "internals": {
       "slide_helper": "subslide_end",
       "slide_type": "subslide"
      },
      "slide_helper": "slide_end",
      "slideshow": {
       "slide_type": "slide"
      }
     },
     "source": [
      "Hypothesis: We can use this open data to molecularly characterize disease"
     ]
    },
    {
     "cell_type": "heading",
     "level": 1,
     "metadata": {
      "internals": {
       "frag_helper": "fragment_end",
       "frag_number": 15,
       "slide_type": "subslide"
      },
      "slideshow": {
       "slide_type": "slide"
      }
     },
     "source": [
      "Dengue is a potentially fatal undifrentiated febrile viral illness"
     ]
    },
    {
     "cell_type": "code",
     "collapsed": false,
     "input": [
      "getIframe('http://en.wikipedia.org/wiki/dengue')"
     ],
     "language": "python",
     "metadata": {
      "internals": {
       "frag_helper": "fragment_end",
       "frag_number": 15,
       "slide_helper": "subslide_end"
      },
      "slide_helper": "slide_end",
      "slideshow": {
       "slide_type": "-"
      }
     },
     "outputs": [
      {
       "html": [
        "<iframe src=http://en.wikipedia.org/wiki/dengue height=400 width=800></iframe>"
       ],
       "metadata": {},
       "output_type": "pyout",
       "prompt_number": 35,
       "text": [
        "<IPython.core.display.HTML at 0x108bcb550>"
       ]
      }
     ],
     "prompt_number": 35
    },
    {
     "cell_type": "markdown",
     "metadata": {
      "internals": {
       "frag_helper": "fragment_end",
       "frag_number": 15,
       "slide_helper": "subslide_end",
       "slide_type": "subslide"
      },
      "slide_helper": "slide_end",
      "slideshow": {
       "slide_type": "slide"
      }
     },
     "source": [
      "#Dengue is a significant global health threat\n",
      "![Dengue Epidemiology](http://www.graphicmail.fr/fr_members/7225/ftp/pictures/2012-09/Epidemiology_of_Dengue.jpg)\n",
      "* Dengue virus causes a flu-like illness that can progress to fatal severe dengue\n",
      "* 3.6B people at risk \u2014 \u00bd the world!\n",
      "    * 390M estimated dengue infections yearly\n",
      "        * 96M manifest clinically\n",
      "            * 2M cases progress to severe dengue\n",
      "                * 21K fatalities yearly"
     ]
    },
    {
     "cell_type": "heading",
     "level": 1,
     "metadata": {
      "internals": {
       "frag_helper": "fragment_end",
       "frag_number": 15,
       "slide_type": "subslide"
      },
      "slideshow": {
       "slide_type": "slide"
      }
     },
     "source": [
      "Problem: Dengue outbreaks are common and can quickly overwhelm the health systems of developing countries"
     ]
    },
    {
     "cell_type": "heading",
     "level": 1,
     "metadata": {
      "internals": {
       "frag_helper": "fragment_end",
       "frag_number": 49,
       "slide_helper": "subslide_end"
      },
      "slide_helper": "slide_end",
      "slideshow": {
       "slide_type": "fragment"
      }
     },
     "source": [
      "Our goal is to discover clinically prognostic biomarkers to predict severe dengue within the first week!"
     ]
    },
    {
     "cell_type": "markdown",
     "metadata": {
      "internals": {
       "frag_helper": "fragment_end",
       "frag_number": 49,
       "slide_helper": "subslide_end",
       "slide_type": "subslide"
      },
      "slide_helper": "subslide_end",
      "slideshow": {
       "slide_type": "slide"
      }
     },
     "source": [
      "#Wide range of dengue clinical features\n",
      "![Dengue Symptoms](http://www.nature.com/nrmicro/journal/v5/n7/images/nrmicro1690-i2.jpg)"
     ]
    },
    {
     "cell_type": "markdown",
     "metadata": {
      "internals": {
       "frag_helper": "fragment_end",
       "frag_number": 49,
       "slide_helper": "subslide_end",
       "slide_type": "subslide"
      },
      "slide_helper": "subslide_end",
      "slideshow": {
       "slide_type": "subslide"
      }
     },
     "source": [
      "#Revised WHO 2007 severe dengue criteria improved surveillance\n",
      "\n",
      "![Who 2007](http://journal.tropika.net/img/revistas/tropika/2010nahead/a01fig1.jpg)"
     ]
    },
    {
     "cell_type": "markdown",
     "metadata": {
      "internals": {
       "frag_helper": "fragment_end",
       "frag_number": 49,
       "slide_helper": "subslide_end",
       "slide_type": "subslide"
      },
      "slide_helper": "slide_end",
      "slideshow": {
       "slide_type": "subslide"
      }
     },
     "source": [
      "#Reclassification improved sensitivity and specificity to identify cases in need of heightened care\n",
      "![Comparison](http://previews.figshare.com/714284/preview_714284.png)"
     ]
    },
    {
     "cell_type": "heading",
     "level": 1,
     "metadata": {
      "internals": {
       "frag_helper": "fragment_end",
       "frag_number": 49,
       "slide_type": "subslide"
      },
      "slideshow": {
       "slide_type": "slide"
      }
     },
     "source": [
      "PROBLEM: Variable phenotype descriptors complicate downstream utility of digital samples"
     ]
    },
    {
     "cell_type": "code",
     "collapsed": false,
     "input": [
      "import pandas as pd"
     ],
     "language": "python",
     "metadata": {
      "internals": {
       "frag_helper": "fragment_end",
       "frag_number": 49,
       "slide_helper": "subslide_end"
      },
      "slide_helper": "slide_end",
      "slideshow": {
       "slide_type": "skip"
      }
     },
     "outputs": [],
     "prompt_number": 6
    },
    {
     "cell_type": "heading",
     "level": 1,
     "metadata": {
      "internals": {
       "frag_helper": "fragment_end",
       "frag_number": 49,
       "slide_type": "subslide"
      },
      "slideshow": {
       "slide_type": "slide"
      }
     },
     "source": [
      "Manual curation is tedious!"
     ]
    },
    {
     "cell_type": "code",
     "collapsed": false,
     "input": [
      "pd.read_csv(\"dengue_annotation_summary.csv\", index_col=0).fillna(\"\")"
     ],
     "language": "python",
     "metadata": {
      "internals": {
       "frag_helper": "fragment_end",
       "frag_number": 49,
       "slide_helper": "subslide_end"
      },
      "slide_helper": "slide_end",
      "slideshow": {
       "slide_type": "-"
      }
     },
     "outputs": [
      {
       "html": [
        "<div style=\"max-height:1000px;max-width:1500px;overflow:auto;\">\n",
        "<table border=\"1\" class=\"dataframe\">\n",
        "  <thead>\n",
        "    <tr style=\"text-align: right;\">\n",
        "      <th></th>\n",
        "      <th>GPL</th>\n",
        "      <th>caseQueries</th>\n",
        "      <th>controlQueries</th>\n",
        "      <th>sample_class</th>\n",
        "      <th>Convalescent</th>\n",
        "      <th>Early_Acute</th>\n",
        "      <th>Late_Acute</th>\n",
        "      <th>Later</th>\n",
        "      <th>Unknown</th>\n",
        "    </tr>\n",
        "    <tr>\n",
        "      <th>GSE</th>\n",
        "      <th></th>\n",
        "      <th></th>\n",
        "      <th></th>\n",
        "      <th></th>\n",
        "      <th></th>\n",
        "      <th></th>\n",
        "      <th></th>\n",
        "      <th></th>\n",
        "      <th></th>\n",
        "    </tr>\n",
        "  </thead>\n",
        "  <tbody>\n",
        "    <tr>\n",
        "      <th>GSE13052</th>\n",
        "      <td>  GPL2700</td>\n",
        "      <td>                                            DSS</td>\n",
        "      <td>    uncomplicated dengue</td>\n",
        "      <td> 0</td>\n",
        "      <td>  6</td>\n",
        "      <td>   </td>\n",
        "      <td>  9</td>\n",
        "      <td>   </td>\n",
        "      <td>  </td>\n",
        "    </tr>\n",
        "    <tr>\n",
        "      <th>GSE13052</th>\n",
        "      <td>  GPL2700</td>\n",
        "      <td>                                            DSS</td>\n",
        "      <td>    uncomplicated dengue</td>\n",
        "      <td> 1</td>\n",
        "      <td>  6</td>\n",
        "      <td>   </td>\n",
        "      <td>  9</td>\n",
        "      <td>   </td>\n",
        "      <td>  </td>\n",
        "    </tr>\n",
        "    <tr>\n",
        "      <th>GSE17924</th>\n",
        "      <td>  GPL4133</td>\n",
        "      <td>                                        DSS|DHF</td>\n",
        "      <td>                      DF</td>\n",
        "      <td> 0</td>\n",
        "      <td>   </td>\n",
        "      <td>  2</td>\n",
        "      <td> 14</td>\n",
        "      <td>   </td>\n",
        "      <td>  </td>\n",
        "    </tr>\n",
        "    <tr>\n",
        "      <th>GSE17924</th>\n",
        "      <td>  GPL4133</td>\n",
        "      <td>                                        DSS|DHF</td>\n",
        "      <td>                      DF</td>\n",
        "      <td> 1</td>\n",
        "      <td>   </td>\n",
        "      <td>  1</td>\n",
        "      <td> 31</td>\n",
        "      <td>   </td>\n",
        "      <td>  </td>\n",
        "    </tr>\n",
        "    <tr>\n",
        "      <th>GSE18090</th>\n",
        "      <td>   GPL570</td>\n",
        "      <td>                                            DHF</td>\n",
        "      <td>                      DF</td>\n",
        "      <td>-1</td>\n",
        "      <td>   </td>\n",
        "      <td>  1</td>\n",
        "      <td>  7</td>\n",
        "      <td>   </td>\n",
        "      <td>  </td>\n",
        "    </tr>\n",
        "    <tr>\n",
        "      <th>GSE18090</th>\n",
        "      <td>   GPL570</td>\n",
        "      <td>                                            DHF</td>\n",
        "      <td>                      DF</td>\n",
        "      <td> 0</td>\n",
        "      <td>   </td>\n",
        "      <td>  2</td>\n",
        "      <td>  6</td>\n",
        "      <td>   </td>\n",
        "      <td>  </td>\n",
        "    </tr>\n",
        "    <tr>\n",
        "      <th>GSE18090</th>\n",
        "      <td>   GPL570</td>\n",
        "      <td>                                            DHF</td>\n",
        "      <td>                      DF</td>\n",
        "      <td> 1</td>\n",
        "      <td>   </td>\n",
        "      <td>  1</td>\n",
        "      <td>  9</td>\n",
        "      <td>   </td>\n",
        "      <td>  </td>\n",
        "    </tr>\n",
        "    <tr>\n",
        "      <th>GSE25001</th>\n",
        "      <td>  GPL6104</td>\n",
        "      <td>                          dengue shock syndrome</td>\n",
        "      <td>    uncomplicated dengue</td>\n",
        "      <td> 0</td>\n",
        "      <td> 16</td>\n",
        "      <td> 39</td>\n",
        "      <td> 50</td>\n",
        "      <td> 30</td>\n",
        "      <td>  </td>\n",
        "    </tr>\n",
        "    <tr>\n",
        "      <th>GSE25001</th>\n",
        "      <td>  GPL6104</td>\n",
        "      <td>                          dengue shock syndrome</td>\n",
        "      <td>    uncomplicated dengue</td>\n",
        "      <td> 1</td>\n",
        "      <td> 18</td>\n",
        "      <td> 18</td>\n",
        "      <td> 19</td>\n",
        "      <td> 19</td>\n",
        "      <td>  </td>\n",
        "    </tr>\n",
        "    <tr>\n",
        "      <th>GSE25226</th>\n",
        "      <td>  GPL5621</td>\n",
        "      <td> dengue shock syndrome|dengue hemorrhagic fever</td>\n",
        "      <td>            dengue fever</td>\n",
        "      <td>-1</td>\n",
        "      <td>  6</td>\n",
        "      <td>   </td>\n",
        "      <td>  4</td>\n",
        "      <td>   </td>\n",
        "      <td>  </td>\n",
        "    </tr>\n",
        "    <tr>\n",
        "      <th>GSE25226</th>\n",
        "      <td>  GPL5621</td>\n",
        "      <td> dengue shock syndrome|dengue hemorrhagic fever</td>\n",
        "      <td>            dengue fever</td>\n",
        "      <td> 0</td>\n",
        "      <td>   </td>\n",
        "      <td>   </td>\n",
        "      <td> 20</td>\n",
        "      <td>   </td>\n",
        "      <td>  </td>\n",
        "    </tr>\n",
        "    <tr>\n",
        "      <th>GSE25226</th>\n",
        "      <td>  GPL5621</td>\n",
        "      <td> dengue shock syndrome|dengue hemorrhagic fever</td>\n",
        "      <td>            dengue fever</td>\n",
        "      <td> 1</td>\n",
        "      <td>   </td>\n",
        "      <td>   </td>\n",
        "      <td> 14</td>\n",
        "      <td>   </td>\n",
        "      <td>  </td>\n",
        "    </tr>\n",
        "    <tr>\n",
        "      <th>GSE38246</th>\n",
        "      <td> GPL15615</td>\n",
        "      <td>                                        DSS|DHF</td>\n",
        "      <td>                      DF</td>\n",
        "      <td> 0</td>\n",
        "      <td>   </td>\n",
        "      <td> 11</td>\n",
        "      <td> 39</td>\n",
        "      <td>  2</td>\n",
        "      <td> 1</td>\n",
        "    </tr>\n",
        "    <tr>\n",
        "      <th>GSE38246</th>\n",
        "      <td> GPL15615</td>\n",
        "      <td>                                        DSS|DHF</td>\n",
        "      <td>                      DF</td>\n",
        "      <td> 1</td>\n",
        "      <td>   </td>\n",
        "      <td>  9</td>\n",
        "      <td> 36</td>\n",
        "      <td>  4</td>\n",
        "      <td> 3</td>\n",
        "    </tr>\n",
        "    <tr>\n",
        "      <th>GSE40628</th>\n",
        "      <td> GPL16021</td>\n",
        "      <td>                        WHO stage 3|WHO stage 4</td>\n",
        "      <td> WHO stage 1|WHO stage 2</td>\n",
        "      <td>-1</td>\n",
        "      <td>   </td>\n",
        "      <td>   </td>\n",
        "      <td>  4</td>\n",
        "      <td>  3</td>\n",
        "      <td>  </td>\n",
        "    </tr>\n",
        "    <tr>\n",
        "      <th>GSE40628</th>\n",
        "      <td> GPL16021</td>\n",
        "      <td>                        WHO stage 3|WHO stage 4</td>\n",
        "      <td> WHO stage 1|WHO stage 2</td>\n",
        "      <td> 0</td>\n",
        "      <td>   </td>\n",
        "      <td>  1</td>\n",
        "      <td>  5</td>\n",
        "      <td>  4</td>\n",
        "      <td>  </td>\n",
        "    </tr>\n",
        "    <tr>\n",
        "      <th>GSE40628</th>\n",
        "      <td> GPL16021</td>\n",
        "      <td>                        WHO stage 3|WHO stage 4</td>\n",
        "      <td> WHO stage 1|WHO stage 2</td>\n",
        "      <td> 1</td>\n",
        "      <td>   </td>\n",
        "      <td>   </td>\n",
        "      <td>  7</td>\n",
        "      <td>  6</td>\n",
        "      <td>  </td>\n",
        "    </tr>\n",
        "    <tr>\n",
        "      <th>GSE43777</th>\n",
        "      <td>   GPL201</td>\n",
        "      <td>                                            DHF</td>\n",
        "      <td>                      DF</td>\n",
        "      <td> 0</td>\n",
        "      <td> 45</td>\n",
        "      <td> 46</td>\n",
        "      <td> 68</td>\n",
        "      <td>   </td>\n",
        "      <td>  </td>\n",
        "    </tr>\n",
        "    <tr>\n",
        "      <th>GSE43777</th>\n",
        "      <td>   GPL201</td>\n",
        "      <td>                                            DHF</td>\n",
        "      <td>                      DF</td>\n",
        "      <td> 1</td>\n",
        "      <td>  3</td>\n",
        "      <td>  1</td>\n",
        "      <td>  5</td>\n",
        "      <td>   </td>\n",
        "      <td>  </td>\n",
        "    </tr>\n",
        "    <tr>\n",
        "      <th>GSE43777</th>\n",
        "      <td>   GPL570</td>\n",
        "      <td>                                            DHF</td>\n",
        "      <td>                      DF</td>\n",
        "      <td> 0</td>\n",
        "      <td> 12</td>\n",
        "      <td> 15</td>\n",
        "      <td> 25</td>\n",
        "      <td>   </td>\n",
        "      <td>  </td>\n",
        "    </tr>\n",
        "    <tr>\n",
        "      <th>GSE43777</th>\n",
        "      <td>   GPL570</td>\n",
        "      <td>                                            DHF</td>\n",
        "      <td>                      DF</td>\n",
        "      <td> 1</td>\n",
        "      <td> 12</td>\n",
        "      <td> 11</td>\n",
        "      <td> 26</td>\n",
        "      <td>   </td>\n",
        "      <td>  </td>\n",
        "    </tr>\n",
        "  </tbody>\n",
        "</table>\n",
        "</div>"
       ],
       "metadata": {},
       "output_type": "pyout",
       "prompt_number": 7,
       "text": [
        "               GPL                                     caseQueries  \\\n",
        "GSE                                                                  \n",
        "GSE13052   GPL2700                                             DSS   \n",
        "GSE13052   GPL2700                                             DSS   \n",
        "GSE17924   GPL4133                                         DSS|DHF   \n",
        "GSE17924   GPL4133                                         DSS|DHF   \n",
        "GSE18090    GPL570                                             DHF   \n",
        "GSE18090    GPL570                                             DHF   \n",
        "GSE18090    GPL570                                             DHF   \n",
        "GSE25001   GPL6104                           dengue shock syndrome   \n",
        "GSE25001   GPL6104                           dengue shock syndrome   \n",
        "GSE25226   GPL5621  dengue shock syndrome|dengue hemorrhagic fever   \n",
        "GSE25226   GPL5621  dengue shock syndrome|dengue hemorrhagic fever   \n",
        "GSE25226   GPL5621  dengue shock syndrome|dengue hemorrhagic fever   \n",
        "GSE38246  GPL15615                                         DSS|DHF   \n",
        "GSE38246  GPL15615                                         DSS|DHF   \n",
        "GSE40628  GPL16021                         WHO stage 3|WHO stage 4   \n",
        "GSE40628  GPL16021                         WHO stage 3|WHO stage 4   \n",
        "GSE40628  GPL16021                         WHO stage 3|WHO stage 4   \n",
        "GSE43777    GPL201                                             DHF   \n",
        "GSE43777    GPL201                                             DHF   \n",
        "GSE43777    GPL570                                             DHF   \n",
        "GSE43777    GPL570                                             DHF   \n",
        "\n",
        "                   controlQueries  sample_class Convalescent Early_Acute  \\\n",
        "GSE                                                                        \n",
        "GSE13052     uncomplicated dengue             0            6               \n",
        "GSE13052     uncomplicated dengue             1            6               \n",
        "GSE17924                       DF             0                        2   \n",
        "GSE17924                       DF             1                        1   \n",
        "GSE18090                       DF            -1                        1   \n",
        "GSE18090                       DF             0                        2   \n",
        "GSE18090                       DF             1                        1   \n",
        "GSE25001     uncomplicated dengue             0           16          39   \n",
        "GSE25001     uncomplicated dengue             1           18          18   \n",
        "GSE25226             dengue fever            -1            6               \n",
        "GSE25226             dengue fever             0                            \n",
        "GSE25226             dengue fever             1                            \n",
        "GSE38246                       DF             0                       11   \n",
        "GSE38246                       DF             1                        9   \n",
        "GSE40628  WHO stage 1|WHO stage 2            -1                            \n",
        "GSE40628  WHO stage 1|WHO stage 2             0                        1   \n",
        "GSE40628  WHO stage 1|WHO stage 2             1                            \n",
        "GSE43777                       DF             0           45          46   \n",
        "GSE43777                       DF             1            3           1   \n",
        "GSE43777                       DF             0           12          15   \n",
        "GSE43777                       DF             1           12          11   \n",
        "\n",
        "          Late_Acute Later Unknown  \n",
        "GSE                                 \n",
        "GSE13052           9                \n",
        "GSE13052           9                \n",
        "GSE17924          14                \n",
        "GSE17924          31                \n",
        "GSE18090           7                \n",
        "GSE18090           6                \n",
        "GSE18090           9                \n",
        "GSE25001          50    30          \n",
        "GSE25001          19    19          \n",
        "GSE25226           4                \n",
        "GSE25226          20                \n",
        "GSE25226          14                \n",
        "GSE38246          39     2       1  \n",
        "GSE38246          36     4       3  \n",
        "GSE40628           4     3          \n",
        "GSE40628           5     4          \n",
        "GSE40628           7     6          \n",
        "GSE43777          68                \n",
        "GSE43777           5                \n",
        "GSE43777          25                \n",
        "GSE43777          26                "
       ]
      }
     ],
     "prompt_number": 7
    },
    {
     "cell_type": "heading",
     "level": 1,
     "metadata": {
      "internals": {
       "frag_helper": "fragment_end",
       "frag_number": 49,
       "slide_type": "subslide"
      },
      "slideshow": {
       "slide_type": "slide"
      }
     },
     "source": [
      "Robust gene signature for severe dengue"
     ]
    },
    {
     "cell_type": "code",
     "collapsed": false,
     "input": [
      "pd.read_csv(\"robust_dengue_markers.csv\", index_col=0)"
     ],
     "language": "python",
     "metadata": {
      "internals": {
       "frag_helper": "fragment_end",
       "frag_number": 49,
       "slide_helper": "subslide_end"
      },
      "slide_helper": "slide_end",
      "slideshow": {
       "slide_type": "-"
      }
     },
     "outputs": [
      {
       "html": [
        "<div style=\"max-height:1000px;max-width:1500px;overflow:auto;\">\n",
        "<table border=\"1\" class=\"dataframe\">\n",
        "  <thead>\n",
        "    <tr style=\"text-align: right;\">\n",
        "      <th></th>\n",
        "      <th>direction</th>\n",
        "      <th>k</th>\n",
        "      <th>caseDataCount</th>\n",
        "      <th>controlDataCount</th>\n",
        "      <th>TE_fixed</th>\n",
        "      <th>TE_random</th>\n",
        "      <th>pval_fixed</th>\n",
        "      <th>pval_random</th>\n",
        "      <th>absFc</th>\n",
        "      <th>gpl</th>\n",
        "      <th>gse</th>\n",
        "    </tr>\n",
        "    <tr>\n",
        "      <th>myGeneSym</th>\n",
        "      <th></th>\n",
        "      <th></th>\n",
        "      <th></th>\n",
        "      <th></th>\n",
        "      <th></th>\n",
        "      <th></th>\n",
        "      <th></th>\n",
        "      <th></th>\n",
        "      <th></th>\n",
        "      <th></th>\n",
        "      <th></th>\n",
        "    </tr>\n",
        "  </thead>\n",
        "  <tbody>\n",
        "    <tr>\n",
        "      <th>CEACAM8</th>\n",
        "      <td>   up</td>\n",
        "      <td>  8</td>\n",
        "      <td> 128</td>\n",
        "      <td> 226</td>\n",
        "      <td> 0.500616</td>\n",
        "      <td> 0.975921</td>\n",
        "      <td> 6.076384e-11</td>\n",
        "      <td> 0.000034</td>\n",
        "      <td> 2.179</td>\n",
        "      <td> 5</td>\n",
        "      <td> 4</td>\n",
        "    </tr>\n",
        "    <tr>\n",
        "      <th>PGLYRP1</th>\n",
        "      <td>   up</td>\n",
        "      <td>  8</td>\n",
        "      <td> 128</td>\n",
        "      <td> 226</td>\n",
        "      <td> 0.257277</td>\n",
        "      <td> 0.843716</td>\n",
        "      <td> 5.881097e-08</td>\n",
        "      <td> 0.000279</td>\n",
        "      <td> 2.012</td>\n",
        "      <td> 5</td>\n",
        "      <td> 4</td>\n",
        "    </tr>\n",
        "    <tr>\n",
        "      <th>MMP8</th>\n",
        "      <td>   up</td>\n",
        "      <td>  8</td>\n",
        "      <td> 128</td>\n",
        "      <td> 226</td>\n",
        "      <td> 0.578177</td>\n",
        "      <td> 0.722854</td>\n",
        "      <td> 5.664358e-12</td>\n",
        "      <td> 0.000005</td>\n",
        "      <td> 1.762</td>\n",
        "      <td> 4</td>\n",
        "      <td> 3</td>\n",
        "    </tr>\n",
        "    <tr>\n",
        "      <th>DEFA4</th>\n",
        "      <td>   up</td>\n",
        "      <td>  9</td>\n",
        "      <td> 135</td>\n",
        "      <td> 231</td>\n",
        "      <td> 0.416801</td>\n",
        "      <td> 0.870403</td>\n",
        "      <td> 3.096065e-08</td>\n",
        "      <td> 0.000836</td>\n",
        "      <td> 1.663</td>\n",
        "      <td> 5</td>\n",
        "      <td> 4</td>\n",
        "    </tr>\n",
        "    <tr>\n",
        "      <th>ORM1</th>\n",
        "      <td>   up</td>\n",
        "      <td> 10</td>\n",
        "      <td> 175</td>\n",
        "      <td> 210</td>\n",
        "      <td> 0.202684</td>\n",
        "      <td> 0.641718</td>\n",
        "      <td> 4.649591e-06</td>\n",
        "      <td> 0.000745</td>\n",
        "      <td> 1.417</td>\n",
        "      <td> 4</td>\n",
        "      <td> 4</td>\n",
        "    </tr>\n",
        "    <tr>\n",
        "      <th>ARG1</th>\n",
        "      <td>   up</td>\n",
        "      <td>  9</td>\n",
        "      <td> 135</td>\n",
        "      <td> 231</td>\n",
        "      <td> 0.367484</td>\n",
        "      <td> 0.521617</td>\n",
        "      <td> 5.018208e-14</td>\n",
        "      <td> 0.000004</td>\n",
        "      <td> 1.370</td>\n",
        "      <td> 5</td>\n",
        "      <td> 4</td>\n",
        "    </tr>\n",
        "    <tr>\n",
        "      <th>CEACAM6</th>\n",
        "      <td>   up</td>\n",
        "      <td>  9</td>\n",
        "      <td> 135</td>\n",
        "      <td> 231</td>\n",
        "      <td> 0.570631</td>\n",
        "      <td> 0.650184</td>\n",
        "      <td> 5.535201e-10</td>\n",
        "      <td> 0.000305</td>\n",
        "      <td> 1.320</td>\n",
        "      <td> 5</td>\n",
        "      <td> 4</td>\n",
        "    </tr>\n",
        "    <tr>\n",
        "      <th>CTSG</th>\n",
        "      <td>   up</td>\n",
        "      <td> 10</td>\n",
        "      <td> 144</td>\n",
        "      <td> 241</td>\n",
        "      <td> 0.355576</td>\n",
        "      <td> 0.614036</td>\n",
        "      <td> 1.077524e-09</td>\n",
        "      <td> 0.000063</td>\n",
        "      <td> 1.212</td>\n",
        "      <td> 5</td>\n",
        "      <td> 4</td>\n",
        "    </tr>\n",
        "    <tr>\n",
        "      <th>OLFM4</th>\n",
        "      <td>   up</td>\n",
        "      <td>  8</td>\n",
        "      <td> 130</td>\n",
        "      <td> 163</td>\n",
        "      <td> 0.410424</td>\n",
        "      <td> 0.451996</td>\n",
        "      <td> 1.202883e-07</td>\n",
        "      <td> 0.000758</td>\n",
        "      <td> 1.183</td>\n",
        "      <td> 4</td>\n",
        "      <td> 4</td>\n",
        "    </tr>\n",
        "    <tr>\n",
        "      <th>ELANE</th>\n",
        "      <td>   up</td>\n",
        "      <td>  8</td>\n",
        "      <td> 128</td>\n",
        "      <td> 226</td>\n",
        "      <td> 0.357361</td>\n",
        "      <td> 0.807227</td>\n",
        "      <td> 2.196857e-08</td>\n",
        "      <td> 0.000163</td>\n",
        "      <td> 1.151</td>\n",
        "      <td> 5</td>\n",
        "      <td> 4</td>\n",
        "    </tr>\n",
        "    <tr>\n",
        "      <th>BPI</th>\n",
        "      <td>   up</td>\n",
        "      <td>  9</td>\n",
        "      <td> 135</td>\n",
        "      <td> 231</td>\n",
        "      <td> 0.357946</td>\n",
        "      <td> 0.565096</td>\n",
        "      <td> 3.322177e-07</td>\n",
        "      <td> 0.000668</td>\n",
        "      <td> 1.147</td>\n",
        "      <td> 5</td>\n",
        "      <td> 4</td>\n",
        "    </tr>\n",
        "    <tr>\n",
        "      <th>ORM2</th>\n",
        "      <td>   up</td>\n",
        "      <td> 10</td>\n",
        "      <td> 173</td>\n",
        "      <td> 273</td>\n",
        "      <td> 0.255299</td>\n",
        "      <td> 0.353399</td>\n",
        "      <td> 1.873266e-09</td>\n",
        "      <td> 0.000005</td>\n",
        "      <td> 1.132</td>\n",
        "      <td> 4</td>\n",
        "      <td> 3</td>\n",
        "    </tr>\n",
        "    <tr>\n",
        "      <th>TGFBR3</th>\n",
        "      <td> down</td>\n",
        "      <td> 10</td>\n",
        "      <td> 144</td>\n",
        "      <td> 241</td>\n",
        "      <td>-0.165094</td>\n",
        "      <td>-0.305863</td>\n",
        "      <td> 7.611686e-07</td>\n",
        "      <td> 0.000430</td>\n",
        "      <td> 0.689</td>\n",
        "      <td> 4</td>\n",
        "      <td> 3</td>\n",
        "    </tr>\n",
        "    <tr>\n",
        "      <th>CYP4F3</th>\n",
        "      <td>   up</td>\n",
        "      <td>  9</td>\n",
        "      <td> 135</td>\n",
        "      <td> 231</td>\n",
        "      <td> 0.141503</td>\n",
        "      <td> 0.399801</td>\n",
        "      <td> 7.594477e-04</td>\n",
        "      <td> 0.000769</td>\n",
        "      <td> 0.654</td>\n",
        "      <td> 4</td>\n",
        "      <td> 4</td>\n",
        "    </tr>\n",
        "    <tr>\n",
        "      <th>ACOX2</th>\n",
        "      <td>   up</td>\n",
        "      <td>  8</td>\n",
        "      <td> 128</td>\n",
        "      <td> 226</td>\n",
        "      <td> 0.247159</td>\n",
        "      <td> 0.279602</td>\n",
        "      <td> 1.948648e-07</td>\n",
        "      <td> 0.000269</td>\n",
        "      <td> 0.427</td>\n",
        "      <td> 5</td>\n",
        "      <td> 4</td>\n",
        "    </tr>\n",
        "    <tr>\n",
        "      <th>WDR1</th>\n",
        "      <td> down</td>\n",
        "      <td> 11</td>\n",
        "      <td> 156</td>\n",
        "      <td> 255</td>\n",
        "      <td>-0.030170</td>\n",
        "      <td>-0.238189</td>\n",
        "      <td> 1.756270e-05</td>\n",
        "      <td> 0.000869</td>\n",
        "      <td> 0.346</td>\n",
        "      <td> 4</td>\n",
        "      <td> 4</td>\n",
        "    </tr>\n",
        "    <tr>\n",
        "      <th>FSTL3</th>\n",
        "      <td>   up</td>\n",
        "      <td>  9</td>\n",
        "      <td> 137</td>\n",
        "      <td> 236</td>\n",
        "      <td> 0.118795</td>\n",
        "      <td> 0.144712</td>\n",
        "      <td> 3.427163e-06</td>\n",
        "      <td> 0.000194</td>\n",
        "      <td> 0.343</td>\n",
        "      <td> 4</td>\n",
        "      <td> 4</td>\n",
        "    </tr>\n",
        "  </tbody>\n",
        "</table>\n",
        "</div>"
       ],
       "metadata": {},
       "output_type": "pyout",
       "prompt_number": 8,
       "text": [
        "          direction   k  caseDataCount  controlDataCount  TE_fixed  TE_random  \\\n",
        "myGeneSym                                                                       \n",
        "CEACAM8          up   8            128               226  0.500616   0.975921   \n",
        "PGLYRP1          up   8            128               226  0.257277   0.843716   \n",
        "MMP8             up   8            128               226  0.578177   0.722854   \n",
        "DEFA4            up   9            135               231  0.416801   0.870403   \n",
        "ORM1             up  10            175               210  0.202684   0.641718   \n",
        "ARG1             up   9            135               231  0.367484   0.521617   \n",
        "CEACAM6          up   9            135               231  0.570631   0.650184   \n",
        "CTSG             up  10            144               241  0.355576   0.614036   \n",
        "OLFM4            up   8            130               163  0.410424   0.451996   \n",
        "ELANE            up   8            128               226  0.357361   0.807227   \n",
        "BPI              up   9            135               231  0.357946   0.565096   \n",
        "ORM2             up  10            173               273  0.255299   0.353399   \n",
        "TGFBR3         down  10            144               241 -0.165094  -0.305863   \n",
        "CYP4F3           up   9            135               231  0.141503   0.399801   \n",
        "ACOX2            up   8            128               226  0.247159   0.279602   \n",
        "WDR1           down  11            156               255 -0.030170  -0.238189   \n",
        "FSTL3            up   9            137               236  0.118795   0.144712   \n",
        "\n",
        "             pval_fixed  pval_random  absFc  gpl  gse  \n",
        "myGeneSym                                              \n",
        "CEACAM8    6.076384e-11     0.000034  2.179    5    4  \n",
        "PGLYRP1    5.881097e-08     0.000279  2.012    5    4  \n",
        "MMP8       5.664358e-12     0.000005  1.762    4    3  \n",
        "DEFA4      3.096065e-08     0.000836  1.663    5    4  \n",
        "ORM1       4.649591e-06     0.000745  1.417    4    4  \n",
        "ARG1       5.018208e-14     0.000004  1.370    5    4  \n",
        "CEACAM6    5.535201e-10     0.000305  1.320    5    4  \n",
        "CTSG       1.077524e-09     0.000063  1.212    5    4  \n",
        "OLFM4      1.202883e-07     0.000758  1.183    4    4  \n",
        "ELANE      2.196857e-08     0.000163  1.151    5    4  \n",
        "BPI        3.322177e-07     0.000668  1.147    5    4  \n",
        "ORM2       1.873266e-09     0.000005  1.132    4    3  \n",
        "TGFBR3     7.611686e-07     0.000430  0.689    4    3  \n",
        "CYP4F3     7.594477e-04     0.000769  0.654    4    4  \n",
        "ACOX2      1.948648e-07     0.000269  0.427    5    4  \n",
        "WDR1       1.756270e-05     0.000869  0.346    4    4  \n",
        "FSTL3      3.427163e-06     0.000194  0.343    4    4  "
       ]
      }
     ],
     "prompt_number": 8
    },
    {
     "cell_type": "markdown",
     "metadata": {
      "internals": {
       "frag_helper": "fragment_end",
       "frag_number": 49,
       "slide_helper": "subslide_end",
       "slide_type": "subslide"
      },
      "slide_helper": "slide_end",
      "slideshow": {
       "slide_type": "slide"
      }
     },
     "source": [
      "#10-gene signature for severe dengue highlights TNF-alpha pathway\n",
      "![network](network.jpg)"
     ]
    },
    {
     "cell_type": "markdown",
     "metadata": {
      "internals": {
       "frag_helper": "fragment_end",
       "frag_number": 49,
       "slide_helper": "subslide_end",
       "slide_type": "subslide"
      },
      "slide_helper": "slide_end",
      "slideshow": {
       "slide_type": "slide"
      }
     },
     "source": [
      "#Pathogenesis of dengue known to be coordinated by TNF-alpha\n",
      "![Pathogenesis](http://jvi.asm.org/content/80/23/11418/F3.large.jpg)"
     ]
    },
    {
     "cell_type": "markdown",
     "metadata": {
      "internals": {
       "frag_helper": "fragment_end",
       "frag_number": 49,
       "slide_helper": "subslide_end",
       "slide_type": "subslide"
      },
      "slide_helper": "subslide_end",
      "slideshow": {
       "slide_type": "slide"
      }
     },
     "source": [
      "#Drugs predicted to reverse severe dengue signature\n",
      "* Estriol is an attriactive candidate\n",
      "![drugs](cmap_predictions.png)"
     ]
    },
    {
     "cell_type": "heading",
     "level": 1,
     "metadata": {
      "internals": {
       "frag_helper": "fragment_end",
       "frag_number": 49,
       "slide_type": "subslide"
      },
      "slideshow": {
       "slide_type": "subslide"
      }
     },
     "source": [
      "Drug signatures from LINCS"
     ]
    },
    {
     "cell_type": "code",
     "collapsed": false,
     "input": [
      "getIframe('http://lincs.hms.harvard.edu')"
     ],
     "language": "python",
     "metadata": {
      "internals": {
       "frag_helper": "fragment_end",
       "frag_number": 49,
       "slide_helper": "subslide_end"
      },
      "slide_helper": "slide_end",
      "slideshow": {
       "slide_type": "-"
      }
     },
     "outputs": [
      {
       "html": [
        "<iframe src=http://lincs.hms.harvard.edu height=400 width=800></iframe>"
       ],
       "metadata": {},
       "output_type": "pyout",
       "prompt_number": 36,
       "text": [
        "<IPython.core.display.HTML at 0x108bcbc10>"
       ]
      }
     ],
     "prompt_number": 36
    },
    {
     "cell_type": "markdown",
     "metadata": {
      "internals": {
       "frag_helper": "fragment_end",
       "frag_number": 49,
       "slide_helper": "subslide_end",
       "slide_type": "subslide"
      },
      "slide_helper": "subslide_end",
      "slideshow": {
       "slide_type": "slide"
      }
     },
     "source": [
      "#Neutrophil Elastase (ELANE) is most significant gene for Severe Dengue\n",
      "![ELANE](ELANE.png)"
     ]
    },
    {
     "cell_type": "heading",
     "level": 1,
     "metadata": {
      "internals": {
       "frag_helper": "fragment_end",
       "frag_number": 49,
       "slide_type": "subslide"
      },
      "slideshow": {
       "slide_type": "subslide"
      }
     },
     "source": [
      "ELANE already confirmed as prognostic biomarker in Nicaragua!"
     ]
    },
    {
     "cell_type": "code",
     "collapsed": false,
     "input": [
      "getPubmed('10639436')"
     ],
     "language": "python",
     "metadata": {
      "internals": {
       "frag_helper": "fragment_end",
       "frag_number": 49,
       "slide_helper": "subslide_end"
      },
      "slide_helper": "slide_end",
      "slideshow": {
       "slide_type": "-"
      }
     },
     "outputs": [
      {
       "html": [
        "<iframe src=http://www.ncbi.nlm.nih.gov/m/pubmed/10639436 height=400 width=800></iframe>"
       ],
       "metadata": {},
       "output_type": "pyout",
       "prompt_number": 37,
       "text": [
        "<IPython.core.display.HTML at 0x108bcb810>"
       ]
      }
     ],
     "prompt_number": 37
    },
    {
     "cell_type": "heading",
     "level": 1,
     "metadata": {
      "internals": {
       "frag_helper": "fragment_end",
       "frag_number": 49,
       "slide_helper": "subslide_end",
       "slide_type": "subslide"
      },
      "slide_helper": "slide_end",
      "slideshow": {
       "slide_type": "slide"
      }
     },
     "source": [
      "Conclusion: Open data can successfully be used to predict drugs and pognostic biomarkers for dengue"
     ]
    },
    {
     "cell_type": "markdown",
     "metadata": {
      "internals": {
       "frag_helper": "fragment_end",
       "frag_number": 49,
       "slide_type": "subslide"
      },
      "slideshow": {
       "slide_type": "slide"
      }
     },
     "source": [
      "#Novel opportunities for personalizing treatment\n",
      "* Rare genetic causes for common neuropsychiatric diseases\n",
      "    * ADHD and ASD\n",
      "    * Closed Big Data\n",
      "* Systematic characterizations of disease\n",
      "    * Severe dengue\n",
      "    * Open Big Data\n",
      "* **Future opportunities for tranlsation**\n",
      "    * **Crowdsourcing knowledge from open data**\n",
      "    * **Towards a deeper understanding of disease**"
     ]
    },
    {
     "cell_type": "markdown",
     "metadata": {
      "slideshow": {
       "slide_type": "slide"
      }
     },
     "source": [
      "#Search Tag Analyze Resource\n",
      "##*An online platform to crowd-source genomic disease signatures from open digital samples*\n",
      "##http://stargeo.org"
     ]
    },
    {
     "cell_type": "code",
     "collapsed": false,
     "input": [
      "getIframe('http://stargeo.io/init/analysis/results?analysis_id=15&keywords=&order=balanced_meta.pval_fixed')"
     ],
     "language": "python",
     "metadata": {
      "internals": {
       "frag_helper": "fragment_end",
       "frag_number": 49,
       "slide_helper": "subslide_end"
      },
      "slide_helper": "slide_end",
      "slideshow": {
       "slide_type": "slide"
      }
     },
     "outputs": [
      {
       "html": [
        "<iframe src=http://stargeo.io/init/analysis/results?analysis_id=15&keywords=&order=balanced_meta.pval_fixed height=400 width=800></iframe>"
       ],
       "metadata": {},
       "output_type": "pyout",
       "prompt_number": 38,
       "text": [
        "<IPython.core.display.HTML at 0x108bcbd10>"
       ]
      }
     ],
     "prompt_number": 38
    },
    {
     "cell_type": "heading",
     "level": 1,
     "metadata": {
      "internals": {
       "frag_helper": "fragment_end",
       "frag_number": 49,
       "slide_helper": "subslide_end",
       "slide_type": "subslide"
      },
      "slide_helper": "slide_end",
      "slideshow": {
       "slide_type": "slide"
      }
     },
     "source": [
      "<a href=\"http://dev.stargeo.io/\" target=\"_blank\">STAR Demo!</a>"
     ]
    },
    {
     "cell_type": "heading",
     "level": 1,
     "metadata": {
      "internals": {
       "frag_helper": "fragment_end",
       "frag_number": 49,
       "slide_helper": "subslide_end",
       "slide_type": "subslide"
      },
      "slide_helper": "slide_end",
      "slideshow": {
       "slide_type": "slide"
      }
     },
     "source": [
      "But will it scale?"
     ]
    },
    {
     "cell_type": "markdown",
     "metadata": {
      "internals": {
       "frag_helper": "fragment_end",
       "frag_number": 49,
       "slide_helper": "subslide_end",
       "slide_type": "subslide"
      },
      "slide_helper": "slide_end",
      "slideshow": {
       "slide_type": "slide"
      }
     },
     "source": [
      "#250K bio-annotations last month alone!\n",
      "![](all_passes.svg)\n",
      "##>90% concordance"
     ]
    },
    {
     "cell_type": "markdown",
     "metadata": {
      "internals": {
       "frag_helper": "fragment_end",
       "frag_number": 49,
       "slide_helper": "subslide_end",
       "slide_type": "subslide"
      },
      "slide_helper": "slide_end",
      "slideshow": {
       "slide_type": "slide"
      }
     },
     "source": [
      "#One sweet recruiment tweet!\n",
      "![](twitter_message.png)"
     ]
    },
    {
     "cell_type": "markdown",
     "metadata": {
      "internals": {
       "frag_helper": "fragment_end",
       "frag_number": 49,
       "slide_helper": "subslide_end",
       "slide_type": "subslide"
      },
      "slide_helper": "slide_end",
      "slideshow": {
       "slide_type": "slide"
      }
     },
     "source": [
      "#STAR bio-annotation Network\n",
      "![](STAR_Network.svg)\n",
      "* 300,000 raw annotations\n",
      "* 80K+ digital samples\n",
      "* 50+ well defined phenotypes"
     ]
    },
    {
     "cell_type": "heading",
     "level": 1,
     "metadata": {
      "internals": {
       "frag_helper": "fragment_end",
       "frag_number": 49,
       "slide_helper": "subslide_end",
       "slide_type": "subslide"
      },
      "slide_helper": "slide_end",
      "slideshow": {
       "slide_type": "slide"
      }
     },
     "source": [
      "50+ well defined phenotypes of 80K+ digital samples\n",
      "![](sample_tags.svg)"
     ]
    },
    {
     "cell_type": "markdown",
     "metadata": {
      "internals": {
       "frag_helper": "fragment_end",
       "frag_number": 49,
       "slide_helper": "subslide_end",
       "slide_type": "subslide"
      },
      "slide_helper": "subslide_end",
      "slideshow": {
       "slide_type": "slide"
      }
     },
     "source": [
      "#90%+ first-pass concordance towards precision bio-annotation\n",
      "![](precision_manual.svg)"
     ]
    },
    {
     "cell_type": "markdown",
     "metadata": {
      "internals": {
       "frag_helper": "fragment_end",
       "frag_number": 49,
       "slide_helper": "subslide_end",
       "slide_type": "subslide"
      },
      "slide_helper": "slide_end",
      "slideshow": {
       "slide_type": "subslide"
      }
     },
     "source": [
      "#91%+ first-pass concordance towards precision Hybrid bio-annotation\n",
      "![](precision_hybrid.svg)"
     ]
    },
    {
     "cell_type": "markdown",
     "metadata": {
      "internals": {
       "frag_helper": "fragment_end",
       "frag_number": 49,
       "slide_type": "subslide"
      },
      "slideshow": {
       "slide_type": "slide"
      }
     },
     "source": [
      "#Tree of Disease!\n",
      "![](tree.random.svg)\n",
      "* Discrimanates cancer \n",
      "* Discrimanates auto-immunity\n",
      "* Distributes infection!\n",
      "\n"
     ]
    },
    {
     "cell_type": "heading",
     "level": 1,
     "metadata": {
      "slideshow": {
       "slide_type": "slide"
      }
     },
     "source": [
      "Systematic Big Data integration of disease knowledge towards tranlsational discoveries"
     ]
    },
    {
     "cell_type": "code",
     "collapsed": false,
     "input": [
      "getIframe('https://clinicaltrials.gov')"
     ],
     "language": "python",
     "metadata": {},
     "outputs": [
      {
       "html": [
        "<iframe src=https://clinicaltrials.gov height=400 width=800></iframe>"
       ],
       "metadata": {},
       "output_type": "pyout",
       "prompt_number": 61,
       "text": [
        "<IPython.core.display.HTML at 0x108ba30d0>"
       ]
      }
     ],
     "prompt_number": 61
    },
    {
     "cell_type": "code",
     "collapsed": false,
     "input": [
      "getIframe('http://www.ncbi.nlm.nih.gov/geo/')"
     ],
     "language": "python",
     "metadata": {
      "slideshow": {
       "slide_type": "subslide"
      }
     },
     "outputs": [
      {
       "html": [
        "<iframe src=http://www.ncbi.nlm.nih.gov/geo/ height=400 width=800></iframe>"
       ],
       "metadata": {},
       "output_type": "pyout",
       "prompt_number": 53,
       "text": [
        "<IPython.core.display.HTML at 0x108ba3090>"
       ]
      }
     ],
     "prompt_number": 53
    },
    {
     "cell_type": "code",
     "collapsed": false,
     "input": [
      "getIframe('http://www.ncbi.nlm.nih.gov/gap')"
     ],
     "language": "python",
     "metadata": {
      "slideshow": {
       "slide_type": "subslide"
      }
     },
     "outputs": [
      {
       "html": [
        "<iframe src=http://www.ncbi.nlm.nih.gov/gap height=400 width=800></iframe>"
       ],
       "metadata": {},
       "output_type": "pyout",
       "prompt_number": 51,
       "text": [
        "<IPython.core.display.HTML at 0x108ba3350>"
       ]
      }
     ],
     "prompt_number": 51
    },
    {
     "cell_type": "code",
     "collapsed": false,
     "input": [
      "getIframe('http://www.ncbi.nlm.nih.gov/clinvar/')"
     ],
     "language": "python",
     "metadata": {
      "internals": {
       "frag_helper": "fragment_end",
       "frag_number": 49,
       "slide_helper": "subslide_end"
      },
      "slide_helper": "slide_end",
      "slideshow": {
       "slide_type": "subslide"
      }
     },
     "outputs": [
      {
       "html": [
        "<iframe src=http://www.ncbi.nlm.nih.gov/clinvar/ height=400 width=800></iframe>"
       ],
       "metadata": {},
       "output_type": "pyout",
       "prompt_number": 50,
       "text": [
        "<IPython.core.display.HTML at 0x108ba3410>"
       ]
      }
     ],
     "prompt_number": 50
    },
    {
     "cell_type": "code",
     "collapsed": false,
     "input": [
      "getIframe('http://www.ncbi.nlm.nih.gov/epigenomics')"
     ],
     "language": "python",
     "metadata": {
      "slideshow": {
       "slide_type": "subslide"
      }
     },
     "outputs": [
      {
       "html": [
        "<iframe src=http://www.ncbi.nlm.nih.gov/epigenomics height=400 width=800></iframe>"
       ],
       "metadata": {},
       "output_type": "pyout",
       "prompt_number": 52,
       "text": [
        "<IPython.core.display.HTML at 0x108ba3c10>"
       ]
      }
     ],
     "prompt_number": 52
    },
    {
     "cell_type": "heading",
     "level": 1,
     "metadata": {
      "slideshow": {
       "slide_type": "slide"
      }
     },
     "source": [
      "Systematic integration to find drugs"
     ]
    },
    {
     "cell_type": "code",
     "collapsed": false,
     "input": [
      "getIframe('http://lincs.hms.harvard.edu')"
     ],
     "language": "python",
     "metadata": {
      "slideshow": {
       "slide_type": "-"
      }
     },
     "outputs": [
      {
       "html": [
        "<iframe src=http://lincs.hms.harvard.edu height=400 width=800></iframe>"
       ],
       "metadata": {},
       "output_type": "pyout",
       "prompt_number": 55,
       "text": [
        "<IPython.core.display.HTML at 0x108ba3550>"
       ]
      }
     ],
     "prompt_number": 55
    },
    {
     "cell_type": "code",
     "collapsed": false,
     "input": [
      "getIframe('http://www.accessdata.fda.gov/scripts/cder/ob/')"
     ],
     "language": "python",
     "metadata": {
      "slideshow": {
       "slide_type": "subslide"
      }
     },
     "outputs": [
      {
       "html": [
        "<iframe src=http://www.accessdata.fda.gov/scripts/cder/ob/ height=400 width=800></iframe>"
       ],
       "metadata": {},
       "output_type": "pyout",
       "prompt_number": 63,
       "text": [
        "<IPython.core.display.HTML at 0x108ba3b90>"
       ]
      }
     ],
     "prompt_number": 63
    },
    {
     "cell_type": "code",
     "collapsed": false,
     "input": [
      "getIframe('https://pubchem.ncbi.nlm.nih.gov')"
     ],
     "language": "python",
     "metadata": {
      "slideshow": {
       "slide_type": "subslide"
      }
     },
     "outputs": [
      {
       "html": [
        "<iframe src=https://pubchem.ncbi.nlm.nih.gov height=400 width=800></iframe>"
       ],
       "metadata": {},
       "output_type": "pyout",
       "prompt_number": 57,
       "text": [
        "<IPython.core.display.HTML at 0x108ba3650>"
       ]
      }
     ],
     "prompt_number": 57
    },
    {
     "cell_type": "code",
     "collapsed": false,
     "input": [
      "getIframe(\"https://www.broadinstitute.org/software/cprg/?q=node/11\")"
     ],
     "language": "python",
     "metadata": {
      "slideshow": {
       "slide_type": "subslide"
      }
     },
     "outputs": [
      {
       "html": [
        "<iframe src=https://www.broadinstitute.org/software/cprg/?q=node/11 height=400 width=800></iframe>"
       ],
       "metadata": {},
       "output_type": "pyout",
       "prompt_number": 56,
       "text": [
        "<IPython.core.display.HTML at 0x108ba3310>"
       ]
      }
     ],
     "prompt_number": 56
    },
    {
     "cell_type": "heading",
     "level": 1,
     "metadata": {
      "slideshow": {
       "slide_type": "slide"
      }
     },
     "source": [
      "Systematic integration to find biomarkers"
     ]
    },
    {
     "cell_type": "code",
     "collapsed": false,
     "input": [
      "getIframe('http://www.humanproteomemap.org')"
     ],
     "language": "python",
     "metadata": {},
     "outputs": [
      {
       "html": [
        "<iframe src=http://www.humanproteomemap.org height=400 width=800></iframe>"
       ],
       "metadata": {},
       "output_type": "pyout",
       "prompt_number": 64,
       "text": [
        "<IPython.core.display.HTML at 0x108ba3a90>"
       ]
      }
     ],
     "prompt_number": 64
    },
    {
     "cell_type": "code",
     "collapsed": false,
     "input": [
      "getPubmed(19228925)"
     ],
     "language": "python",
     "metadata": {
      "slideshow": {
       "slide_type": "subslide"
      }
     },
     "outputs": [
      {
       "html": [
        "<iframe src=http://www.ncbi.nlm.nih.gov/m/pubmed/19228925 height=400 width=800></iframe>"
       ],
       "metadata": {},
       "output_type": "pyout",
       "prompt_number": 66,
       "text": [
        "<IPython.core.display.HTML at 0x108ba3610>"
       ]
      }
     ],
     "prompt_number": 66
    },
    {
     "cell_type": "heading",
     "level": 1,
     "metadata": {
      "slideshow": {
       "slide_type": "slide"
      }
     },
     "source": [
      "Systematic representation of all that knowledge"
     ]
    },
    {
     "cell_type": "code",
     "collapsed": false,
     "input": [
      "getIframe(\"http://www.bioportal.bioontology.org\")"
     ],
     "language": "python",
     "metadata": {},
     "outputs": [
      {
       "html": [
        "<iframe src=http://www.bioportal.bioontology.org height=400 width=800></iframe>"
       ],
       "metadata": {},
       "output_type": "pyout",
       "prompt_number": 59,
       "text": [
        "<IPython.core.display.HTML at 0x108ba35d0>"
       ]
      }
     ],
     "prompt_number": 59
    },
    {
     "cell_type": "markdown",
     "metadata": {
      "slideshow": {
       "slide_type": "slide"
      }
     },
     "source": [
      "#Big data to redefine disease pathology to optimally test translational discoveries\n",
      "![](drug_trial_precision.png)"
     ]
    },
    {
     "cell_type": "heading",
     "level": 1,
     "metadata": {
      "internals": {
       "frag_helper": "fragment_end",
       "frag_number": 49,
       "slide_type": "subslide"
      },
      "slideshow": {
       "slide_type": "slide"
      }
     },
     "source": [
      "Thanks CAG Lab!"
     ]
    },
    {
     "cell_type": "code",
     "collapsed": false,
     "input": [
      "getIframe('https://caglab.org/our-team/staff-profiles7/research-team42.html')"
     ],
     "language": "python",
     "metadata": {
      "internals": {
       "frag_helper": "fragment_end",
       "frag_number": 49,
       "slide_helper": "subslide_end"
      },
      "slide_helper": "slide_end",
      "slideshow": {
       "slide_type": "-"
      }
     },
     "outputs": [
      {
       "html": [
        "<iframe src=https://caglab.org/our-team/staff-profiles7/research-team42.html height=400 width=800></iframe>"
       ],
       "metadata": {},
       "output_type": "pyout",
       "prompt_number": 39,
       "text": [
        "<IPython.core.display.HTML at 0x108be7f90>"
       ]
      }
     ],
     "prompt_number": 39
    },
    {
     "cell_type": "heading",
     "level": 1,
     "metadata": {
      "internals": {
       "frag_helper": "fragment_end",
       "frag_number": 49,
       "slide_type": "subslide"
      },
      "slideshow": {
       "slide_type": "slide"
      }
     },
     "source": [
      "Thanks Butte Lab!"
     ]
    },
    {
     "cell_type": "code",
     "collapsed": false,
     "input": [
      "getIframe('http://web.stanford.edu/group/buttelab_test1/cgi-bin/wordpress/people/')"
     ],
     "language": "python",
     "metadata": {
      "internals": {
       "frag_helper": "fragment_end",
       "frag_number": 49,
       "slide_helper": "subslide_end"
      },
      "slide_helper": "slide_end",
      "slideshow": {
       "slide_type": "-"
      }
     },
     "outputs": [
      {
       "html": [
        "<iframe src=http://web.stanford.edu/group/buttelab_test1/cgi-bin/wordpress/people/ height=400 width=800></iframe>"
       ],
       "metadata": {},
       "output_type": "pyout",
       "prompt_number": 40,
       "text": [
        "<IPython.core.display.HTML at 0x10459c210>"
       ]
      }
     ],
     "prompt_number": 40
    },
    {
     "cell_type": "markdown",
     "metadata": {
      "internals": {
       "frag_helper": "fragment_end",
       "frag_number": 49,
       "slide_type": "subslide"
      },
      "slideshow": {
       "slide_type": "slide"
      }
     },
     "source": [
      "#Thanks STARGEO.org Community!"
     ]
    },
    {
     "cell_type": "markdown",
     "metadata": {
      "internals": {
       "frag_helper": "fragment_end",
       "frag_number": 49
      },
      "slideshow": {
       "slide_type": "-"
      }
     },
     "source": [
      "![](AMIA Graph 2.png)"
     ]
    },
    {
     "cell_type": "markdown",
     "metadata": {
      "internals": {
       "frag_helper": "fragment_end",
       "frag_number": 49,
       "slide_helper": "subslide_end"
      },
      "slide_helper": "slide_end",
      "slideshow": {
       "slide_type": "-"
      }
     },
     "source": [
      "#*Redefining the meaning of disease... Together!*"
     ]
    },
    {
     "cell_type": "markdown",
     "metadata": {
      "internals": {
       "frag_helper": "fragment_end",
       "frag_number": 49,
       "slide_helper": "subslide_end",
       "slide_type": "subslide"
      },
      "slide_helper": "slide_end",
      "slideshow": {
       "slide_type": "slide"
      }
     },
     "source": [
      "![](mission-bay-rendering2.jpg)"
     ]
    }
   ],
   "metadata": {}
  }
 ]
}