{
 "metadata": {
  "name": "",
  "signature": "sha256:896e662014bd18d6deca79d8fd2db90bedb1444c234c0c8869c972ee492f7e01"
 },
 "nbformat": 3,
 "nbformat_minor": 0,
 "worksheets": [
  {
   "cells": [
    {
     "cell_type": "code",
     "collapsed": false,
     "input": [
      "#set up environent\n",
      "import pandas as pd\n",
      "import psycopg2\n",
      "\n",
      "try:\n",
      "    conn = psycopg2.connect(\"dbname='star' user='postgres' host='star.cwxuiazqnkkn.us-west-2.rds.amazonaws.com' password='rendez'\")\n",
      "except:\n",
      "    print \"I am unable to connect to the database\"\n",
      "\n",
      "#set up data\n",
      "names = pd.read_sql_query('select * from analysis', conn)\n",
      "analysis = pd.read_sql_query('select * from balanced_meta', conn)"
     ],
     "language": "python",
     "metadata": {},
     "outputs": [],
     "prompt_number": 4
    },
    {
     "cell_type": "code",
     "collapsed": false,
     "input": [
      "#make dist_matrix\n",
      "df = analysis.groupby(['mygene_entrez'])\\\n",
      "             .filter(lambda x: x.count() == len(names.index)) \\\n",
      "             .set_index(['analysis_id', 'mygene_entrez']) \\\n",
      "             .te_fixed.unstack()"
     ],
     "language": "python",
     "metadata": {},
     "outputs": [],
     "prompt_number": 5
    },
    {
     "cell_type": "code",
     "collapsed": false,
     "input": [
      "# perform clustering and plot the dendrogram\n",
      "# import matplotlib.pyplot as plt\n",
      "from scipy.cluster.hierarchy import dendrogram\n",
      "from fastcluster import linkage\n",
      "labels = list(names.analysis_name + \" \" + \n",
      "                           names.series_count.astype(str) + \" gse \" + \n",
      "                           names.platform_count.astype(str) + \" gpl \" + \n",
      "                           names.sample_count.astype(str) + \" gsm\")\n",
      "# perform clustering and plot the dendrogram\n",
      "# import matplotlib.pyplot as plt\n",
      "#from fastcluster import linkage\n",
      "%pylab inline\n",
      "plt.ylabel('Signature')\n",
      "plt.xlabel('Functional Distance')\n",
      "plt.suptitle('%s Genes'%len(df.columns), fontweight='bold')\n",
      "\n",
      "R = dendrogram(linkage(df, method='complete'), \n",
      "               labels=labels, \n",
      "               orientation = \"right\",\n",
      "               )\n",
      "\n",
      "\n",
      "# tick_params(axis='x', labelsize=8)\n",
      "# plt.show()"
     ],
     "language": "python",
     "metadata": {},
     "outputs": [
      {
       "output_type": "stream",
       "stream": "stdout",
       "text": [
        "Populating the interactive namespace from numpy and matplotlib\n"
       ]
      }
     ],
     "prompt_number": 14
    },
    {
     "cell_type": "code",
     "collapsed": false,
     "input": [
      "series_tag = pd.read_sql_query('select * from series_tag', conn)"
     ],
     "language": "python",
     "metadata": {},
     "outputs": []
    },
    {
     "cell_type": "code",
     "collapsed": false,
     "input": [
      "sample_tag = pd.read_sql_query('select * from sample_tag', conn).sort('created_on').set_index('created_on')"
     ],
     "language": "python",
     "metadata": {},
     "outputs": []
    },
    {
     "cell_type": "code",
     "collapsed": false,
     "input": [
      "sample_tag['ts'] = range(len(sample_tag.index))"
     ],
     "language": "python",
     "metadata": {},
     "outputs": []
    },
    {
     "cell_type": "code",
     "collapsed": false,
     "input": [
      "sample_tag['ts'].plot()"
     ],
     "language": "python",
     "metadata": {},
     "outputs": []
    },
    {
     "cell_type": "code",
     "collapsed": false,
     "input": [
      "ts = pd.Series(randn(1000), index=pd.date_range('1/1/2000', periods=1000))\n",
      "\n",
      "ts = ts.cumsum()\n",
      "\n",
      "ts.plot()"
     ],
     "language": "python",
     "metadata": {},
     "outputs": []
    },
    {
     "cell_type": "code",
     "collapsed": false,
     "input": [
      "sample_tag['index']"
     ],
     "language": "python",
     "metadata": {},
     "outputs": []
    },
    {
     "cell_type": "code",
     "collapsed": false,
     "input": [],
     "language": "python",
     "metadata": {},
     "outputs": []
    }
   ],
   "metadata": {}
  }
 ]
}