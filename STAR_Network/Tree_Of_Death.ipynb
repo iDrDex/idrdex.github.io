{
 "metadata": {
  "name": "",
  "signature": "sha256:cb4759c6a0cc392717e5c27d9471a19e6e0a64b5ae32fdbe5c076748256d5f06"
 },
 "nbformat": 3,
 "nbformat_minor": 0,
 "worksheets": [
  {
   "cells": [
    {
     "cell_type": "markdown",
     "metadata": {},
     "source": [
      "![](http://stargeo.org/init/static/images/stanford_medicine_logo.png)"
     ]
    },
    {
     "cell_type": "markdown",
     "metadata": {},
     "source": [
      "#Search Tag Analyze Resource (STAR)\n",
      "##http://stargeo.org\n",
      "##An online platform to crowd-source genomic disease signatures from open digital samples.\n",
      "###Dexter Hadley, MD/PhD (<dexter@stanford.edu>)"
     ]
    },
    {
     "cell_type": "markdown",
     "metadata": {},
     "source": [
      "![](http://stargeo.org/init/static/images/small_butte_lab_logo.png)"
     ]
    },
    {
     "cell_type": "code",
     "collapsed": false,
     "input": [
      "#set up environent\n",
      "import pandas as pd\n",
      "import psycopg2\n",
      "\n",
      "try:\n",
      "    conn = psycopg2.connect(\"dbname='star' user='postgres' host='star.cwxuiazqnkkn.us-west-2.rds.amazonaws.com' password='rendez'\")\n",
      "except:\n",
      "    print \"I am unable to connect to the database\"\n",
      "#set up data\n",
      "names = pd.read_sql_query('select * from analysis', conn)\n",
      "analysis = pd.read_sql_query('select * from balanced_meta', conn)\n",
      "#make dist_matrix\n",
      "df = analysis.groupby(['mygene_entrez'])\\\n",
      "             .filter(lambda x: x.count() == len(names.index)) \\\n",
      "             .set_index(['analysis_id', 'mygene_entrez']) \\\n",
      "             .te_fixed.unstack()\n",
      "# perform clustering and plot the dendrogram\n",
      "# import matplotlib.pyplot as plt\n",
      "from scipy.cluster.hierarchy import dendrogram\n",
      "from fastcluster import linkage\n",
      "labels = list(names.analysis_name + \" \" + \n",
      "                           names.series_count.astype(str) + \" gse \" + \n",
      "                           names.platform_count.astype(str) + \" gpl \" + \n",
      "                           names.sample_count.astype(str) + \" gsm\")\n",
      "# perform clustering and plot the dendrogram\n",
      "# import matplotlib.pyplot as plt\n",
      "#from fastcluster import linkage\n",
      "%pylab inline\n",
      "plt.ylabel('Signature')\n",
      "plt.xlabel('Functional Distance')\n",
      "plt.suptitle('%s Genes'%len(df.columns), fontweight='bold')\n",
      "\n",
      "R = dendrogram(linkage(df, method='complete'), \n",
      "               labels=labels, \n",
      "               orientation = \"right\",\n",
      "               )\n",
      "\n",
      "\n",
      "# tick_params(axis='x', labelsize=8)\n",
      "# plt.show()\n",
      "series_tag = pd.read_sql_query('select * from series_tag', conn)\n",
      "sample_tag = pd.read_sql_query('select * from sample_tag', conn).sort('created_on').set_index('created_on')\n",
      "sample_tag['ts'] = range(len(sample_tag.index))\n",
      "sample_tag['ts'].plot()"
     ],
     "language": "python",
     "metadata": {},
     "outputs": []
    },
    {
     "cell_type": "code",
     "collapsed": false,
     "input": [],
     "language": "python",
     "metadata": {},
     "outputs": []
    }
   ],
   "metadata": {}
  }
 ]
}