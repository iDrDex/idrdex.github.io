{
 "metadata": {
  "celltoolbar": "Slideshow",
  "name": "",
  "signature": "sha256:55ce6d3d1b89a288b2137c35ca9a7da447ac9bc4cac7951dab9dfe0f357d27c3"
 },
 "nbformat": 3,
 "nbformat_minor": 0,
 "worksheets": [
  {
   "cells": [
    {
     "cell_type": "markdown",
     "metadata": {
      "internals": {
       "slide_type": "subslide"
      },
      "slideshow": {
       "slide_type": "slide"
      }
     },
     "source": [
      "![](http://stargeo.org/init/static/images/stanford_medicine_logo.png)"
     ]
    },
    {
     "cell_type": "markdown",
     "metadata": {
      "internals": {},
      "slideshow": {
       "slide_type": "-"
      }
     },
     "source": [
      "#STAR Update\n",
      "##http://stargeo.org\n",
      "###Dexter Hadley, MD/PhD (<dexter@stanford.edu>)"
     ]
    },
    {
     "cell_type": "markdown",
     "metadata": {
      "internals": {},
      "slideshow": {
       "slide_type": "-"
      }
     },
     "source": [
      "![](http://stargeo.org/init/static/images/small_butte_lab_logo.png)"
     ]
    },
    {
     "cell_type": "code",
     "collapsed": false,
     "input": [
      "from IPython.display import HTML\n",
      "def getIframe(url, height = 400, width = 800):\n",
      "    return HTML('<iframe src=%s height=%s width=%s></iframe>'%(url, height, width))\n",
      "def getWikipedia(page_words, height = 400, width = 800):\n",
      "    page = \"_\".join(page_words.split()).title()\n",
      "    url = \"http://en.wikipedia.org/wiki/%s\"%page\n",
      "    return getIframe(url, height, width)\n",
      "def getPubmed(pmid, height = 400, width = 800):\n",
      "    url = \"http://www.ncbi.nlm.nih.gov/m/pubmed/%s\"%pmid\n",
      "    return getIframe(url, height, width)\n",
      "from IPython.display import YouTubeVideo\n",
      "def getYouTubeVideo(code, height=400, width=800):\n",
      "    return YouTubeVideo(code, height=height, width=width)"
     ],
     "language": "python",
     "metadata": {
      "internals": {
       "slide_helper": "subslide_end"
      },
      "slide_helper": "slide_end",
      "slideshow": {
       "slide_type": "skip"
      }
     },
     "outputs": [],
     "prompt_number": 1
    },
    {
     "cell_type": "markdown",
     "metadata": {
      "internals": {
       "slide_helper": "subslide_end",
       "slide_type": "subslide"
      },
      "slide_helper": "slide_end",
      "slideshow": {
       "slide_type": "slide"
      }
     },
     "source": [
      "#Outline\n",
      "* Systems medicine to charcterize disease\n",
      "    * Functional genomics and microarrays\n",
      "    * Open public functional genomics data\n",
      "* Characterizing disease with open data\n",
      "    * Case study: Using open data to characterize dengue\n",
      "* STAR demo"
     ]
    },
    {
     "cell_type": "heading",
     "level": 1,
     "metadata": {
      "internals": {
       "slide_type": "subslide"
      },
      "slideshow": {
       "slide_type": "slide"
      }
     },
     "source": [
      "Systems medicine to charcterize disease"
     ]
    },
    {
     "cell_type": "code",
     "collapsed": false,
     "input": [
      "getIframe('http://en.wikipedia.org/wiki/Systems_medicine')"
     ],
     "language": "python",
     "metadata": {
      "internals": {
       "slide_helper": "subslide_end"
      },
      "slide_helper": "slide_end",
      "slideshow": {
       "slide_type": "-"
      }
     },
     "outputs": [
      {
       "html": [
        "<iframe src=http://en.wikipedia.org/wiki/Systems_medicine height=400 width=800></iframe>"
       ],
       "metadata": {},
       "output_type": "pyout",
       "prompt_number": 2,
       "text": [
        "<IPython.core.display.HTML at 0x106793450>"
       ]
      }
     ],
     "prompt_number": 2
    },
    {
     "cell_type": "heading",
     "level": 1,
     "metadata": {
      "internals": {
       "slide_type": "subslide"
      },
      "slideshow": {
       "slide_type": "slide"
      }
     },
     "source": [
      "Microarays developed at Stanford over 20 years ago"
     ]
    },
    {
     "cell_type": "code",
     "collapsed": false,
     "input": [
      "getPubmed(7569999)"
     ],
     "language": "python",
     "metadata": {
      "internals": {
       "slide_helper": "subslide_end"
      },
      "slide_helper": "slide_end",
      "slideshow": {
       "slide_type": "-"
      }
     },
     "outputs": [
      {
       "html": [
        "<iframe src=http://www.ncbi.nlm.nih.gov/m/pubmed/7569999 height=400 width=800></iframe>"
       ],
       "metadata": {},
       "output_type": "pyout",
       "prompt_number": 3,
       "text": [
        "<IPython.core.display.HTML at 0x10679c8d0>"
       ]
      }
     ],
     "prompt_number": 3
    },
    {
     "cell_type": "heading",
     "level": 1,
     "metadata": {
      "internals": {
       "slide_type": "subslide"
      },
      "slideshow": {
       "slide_type": "slide"
      }
     },
     "source": [
      "Explosive growth of functional genomics Big Data"
     ]
    },
    {
     "cell_type": "code",
     "collapsed": false,
     "input": [
      "getIframe('http://www.ncbi.nlm.nih.gov/pmc/articles/PMC3531084/figure/gks1193-F1/', 700)"
     ],
     "language": "python",
     "metadata": {
      "internals": {
       "slide_helper": "subslide_end"
      },
      "slide_helper": "slide_end",
      "slideshow": {
       "slide_type": "-"
      }
     },
     "outputs": [
      {
       "html": [
        "<iframe src=http://www.ncbi.nlm.nih.gov/pmc/articles/PMC3531084/figure/gks1193-F1/ height=700 width=800></iframe>"
       ],
       "metadata": {},
       "output_type": "pyout",
       "prompt_number": 4,
       "text": [
        "<IPython.core.display.HTML at 0x106793b10>"
       ]
      }
     ],
     "prompt_number": 4
    },
    {
     "cell_type": "markdown",
     "metadata": {
      "internals": {
       "slide_helper": "subslide_end",
       "slide_type": "subslide"
      },
      "slide_helper": "subslide_end",
      "slideshow": {
       "slide_type": "slide"
      }
     },
     "source": [
      "#126B+ functional genomics #BigData points over 15+ years!\n",
      "![](GEO.points.svg)"
     ]
    },
    {
     "cell_type": "markdown",
     "metadata": {
      "internals": {
       "slide_helper": "subslide_end",
       "slide_type": "subslide"
      },
      "slide_helper": "slide_end",
      "slideshow": {
       "slide_type": "subslide"
      }
     },
     "source": [
      "#1.6M+ #DigitalSamples over 15 years!\n",
      "![](GEO.points.svg)"
     ]
    },
    {
     "cell_type": "markdown",
     "metadata": {
      "internals": {
       "slide_helper": "subslide_end",
       "slide_type": "subslide"
      },
      "slide_helper": "slide_end",
      "slideshow": {
       "slide_type": "slide"
      }
     },
     "source": [
      "#32K+ distinct #PudMed publications!\n",
      "![](GEO.pubs.svg)"
     ]
    },
    {
     "cell_type": "heading",
     "level": 1,
     "metadata": {
      "internals": {
       "slide_helper": "subslide_end",
       "slide_type": "subslide"
      },
      "slide_helper": "slide_end",
      "slideshow": {
       "slide_type": "slide"
      }
     },
     "source": [
      "Hypothesis: We can use this open data to molecularly characterize disease"
     ]
    },
    {
     "cell_type": "heading",
     "level": 1,
     "metadata": {
      "internals": {
       "frag_number": 15,
       "slide_helper": "subslide_end",
       "slide_type": "subslide"
      },
      "slide_helper": "slide_end",
      "slideshow": {
       "slide_type": "slide"
      }
     },
     "source": [
      "Case study: Characterizing dengue functional genomics with open data"
     ]
    },
    {
     "cell_type": "heading",
     "level": 1,
     "metadata": {
      "internals": {
       "frag_helper": "fragment_end",
       "frag_number": 15,
       "slide_type": "subslide"
      },
      "slideshow": {
       "slide_type": "slide"
      }
     },
     "source": [
      "Dengue is a potentially fatal undifrentiated febrile viral illness"
     ]
    },
    {
     "cell_type": "code",
     "collapsed": false,
     "input": [
      "getIframe('http://en.wikipedia.org/wiki/dengue')"
     ],
     "language": "python",
     "metadata": {
      "internals": {
       "frag_helper": "fragment_end",
       "frag_number": 15,
       "slide_helper": "subslide_end"
      },
      "slide_helper": "slide_end",
      "slideshow": {
       "slide_type": "-"
      }
     },
     "outputs": [
      {
       "html": [
        "<iframe src=http://en.wikipedia.org/wiki/dengue height=400 width=800></iframe>"
       ],
       "metadata": {},
       "output_type": "pyout",
       "prompt_number": 5,
       "text": [
        "<IPython.core.display.HTML at 0x106793490>"
       ]
      }
     ],
     "prompt_number": 5
    },
    {
     "cell_type": "markdown",
     "metadata": {
      "internals": {
       "frag_helper": "fragment_end",
       "frag_number": 15,
       "slide_helper": "subslide_end",
       "slide_type": "subslide"
      },
      "slide_helper": "slide_end",
      "slideshow": {
       "slide_type": "slide"
      }
     },
     "source": [
      "#Dengue is a significant global health threat\n",
      "![Dengue Epidemiology](http://www.graphicmail.fr/fr_members/7225/ftp/pictures/2012-09/Epidemiology_of_Dengue.jpg)\n",
      "* Dengue virus causes a flu-like illness that can progress to fatal severe dengue\n",
      "* 3.6B people at risk \u2014 \u00bd the world!\n",
      "    * 390M estimated dengue infections yearly\n",
      "        * 96M manifest clinically\n",
      "            * 2M cases progress to severe dengue\n",
      "                * 21K fatalities yearly"
     ]
    },
    {
     "cell_type": "heading",
     "level": 1,
     "metadata": {
      "internals": {
       "frag_helper": "fragment_end",
       "frag_number": 15,
       "slide_type": "subslide"
      },
      "slideshow": {
       "slide_type": "slide"
      }
     },
     "source": [
      "Problem: Dengue outbreaks are common and can quickly overwhelm the health systems of developing countries"
     ]
    },
    {
     "cell_type": "heading",
     "level": 1,
     "metadata": {
      "internals": {
       "frag_helper": "fragment_end",
       "frag_number": 20,
       "slide_helper": "subslide_end"
      },
      "slide_helper": "slide_end",
      "slideshow": {
       "slide_type": "fragment"
      }
     },
     "source": [
      "Our goal is to discover clinically prognostic biomarkers to predict severe dengue within the first week!"
     ]
    },
    {
     "cell_type": "markdown",
     "metadata": {
      "internals": {
       "frag_helper": "fragment_end",
       "frag_number": 20,
       "slide_helper": "subslide_end",
       "slide_type": "subslide"
      },
      "slide_helper": "slide_end",
      "slideshow": {
       "slide_type": "slide"
      }
     },
     "source": [
      "#Wide range of dengue clinical features\n",
      "![Dengue Symptoms](http://www.nature.com/nrmicro/journal/v5/n7/images/nrmicro1690-i2.jpg)"
     ]
    },
    {
     "cell_type": "markdown",
     "metadata": {
      "internals": {
       "frag_helper": "fragment_end",
       "frag_number": 20,
       "slide_helper": "subslide_end",
       "slide_type": "subslide"
      },
      "slide_helper": "slide_end",
      "slideshow": {
       "slide_type": "slide"
      }
     },
     "source": [
      "#Revised WHO 2007 severe dengue criteria improved surveillance\n",
      "\n",
      "![Who 2007](http://journal.tropika.net/img/revistas/tropika/2010nahead/a01fig1.jpg)"
     ]
    },
    {
     "cell_type": "markdown",
     "metadata": {
      "internals": {
       "frag_helper": "fragment_end",
       "frag_number": 20,
       "slide_type": "subslide"
      },
      "slideshow": {
       "slide_type": "slide"
      }
     },
     "source": [
      "#Reclassification improved sensitivity and specificity to identify cases in need of heightened care\n",
      "![Comparison](http://previews.figshare.com/714284/preview_714284.png)"
     ]
    },
    {
     "cell_type": "heading",
     "level": 1,
     "metadata": {
      "internals": {
       "frag_helper": "fragment_end",
       "frag_number": 24
      },
      "slideshow": {
       "slide_type": "fragment"
      }
     },
     "source": [
      "PROBLEM: Variable phenotype descriptors complicate downstream utility of digital samples"
     ]
    },
    {
     "cell_type": "code",
     "collapsed": false,
     "input": [
      "import pandas as pd"
     ],
     "language": "python",
     "metadata": {
      "internals": {
       "frag_helper": "fragment_end",
       "frag_number": 24,
       "slide_helper": "subslide_end"
      },
      "slide_helper": "slide_end",
      "slideshow": {
       "slide_type": "skip"
      }
     },
     "outputs": [],
     "prompt_number": 6
    },
    {
     "cell_type": "heading",
     "level": 1,
     "metadata": {
      "internals": {
       "frag_helper": "fragment_end",
       "frag_number": 24,
       "slide_type": "subslide"
      },
      "slideshow": {
       "slide_type": "slide"
      }
     },
     "source": [
      "Manual curation is tedious!"
     ]
    },
    {
     "cell_type": "code",
     "collapsed": false,
     "input": [
      "pd.read_csv(\"dengue_annotation_summary.csv\", index_col=0).fillna(\"\")"
     ],
     "language": "python",
     "metadata": {
      "internals": {
       "frag_helper": "fragment_end",
       "frag_number": 24,
       "slide_helper": "subslide_end"
      },
      "slide_helper": "slide_end",
      "slideshow": {
       "slide_type": "-"
      }
     },
     "outputs": [
      {
       "html": [
        "<div style=\"max-height:1000px;max-width:1500px;overflow:auto;\">\n",
        "<table border=\"1\" class=\"dataframe\">\n",
        "  <thead>\n",
        "    <tr style=\"text-align: right;\">\n",
        "      <th></th>\n",
        "      <th>GPL</th>\n",
        "      <th>caseQueries</th>\n",
        "      <th>controlQueries</th>\n",
        "      <th>sample_class</th>\n",
        "      <th>Convalescent</th>\n",
        "      <th>Early_Acute</th>\n",
        "      <th>Late_Acute</th>\n",
        "      <th>Later</th>\n",
        "      <th>Unknown</th>\n",
        "    </tr>\n",
        "    <tr>\n",
        "      <th>GSE</th>\n",
        "      <th></th>\n",
        "      <th></th>\n",
        "      <th></th>\n",
        "      <th></th>\n",
        "      <th></th>\n",
        "      <th></th>\n",
        "      <th></th>\n",
        "      <th></th>\n",
        "      <th></th>\n",
        "    </tr>\n",
        "  </thead>\n",
        "  <tbody>\n",
        "    <tr>\n",
        "      <th>GSE13052</th>\n",
        "      <td>  GPL2700</td>\n",
        "      <td>                                            DSS</td>\n",
        "      <td>    uncomplicated dengue</td>\n",
        "      <td> 0</td>\n",
        "      <td>  6</td>\n",
        "      <td>   </td>\n",
        "      <td>  9</td>\n",
        "      <td>   </td>\n",
        "      <td>  </td>\n",
        "    </tr>\n",
        "    <tr>\n",
        "      <th>GSE13052</th>\n",
        "      <td>  GPL2700</td>\n",
        "      <td>                                            DSS</td>\n",
        "      <td>    uncomplicated dengue</td>\n",
        "      <td> 1</td>\n",
        "      <td>  6</td>\n",
        "      <td>   </td>\n",
        "      <td>  9</td>\n",
        "      <td>   </td>\n",
        "      <td>  </td>\n",
        "    </tr>\n",
        "    <tr>\n",
        "      <th>GSE17924</th>\n",
        "      <td>  GPL4133</td>\n",
        "      <td>                                        DSS|DHF</td>\n",
        "      <td>                      DF</td>\n",
        "      <td> 0</td>\n",
        "      <td>   </td>\n",
        "      <td>  2</td>\n",
        "      <td> 14</td>\n",
        "      <td>   </td>\n",
        "      <td>  </td>\n",
        "    </tr>\n",
        "    <tr>\n",
        "      <th>GSE17924</th>\n",
        "      <td>  GPL4133</td>\n",
        "      <td>                                        DSS|DHF</td>\n",
        "      <td>                      DF</td>\n",
        "      <td> 1</td>\n",
        "      <td>   </td>\n",
        "      <td>  1</td>\n",
        "      <td> 31</td>\n",
        "      <td>   </td>\n",
        "      <td>  </td>\n",
        "    </tr>\n",
        "    <tr>\n",
        "      <th>GSE18090</th>\n",
        "      <td>   GPL570</td>\n",
        "      <td>                                            DHF</td>\n",
        "      <td>                      DF</td>\n",
        "      <td>-1</td>\n",
        "      <td>   </td>\n",
        "      <td>  1</td>\n",
        "      <td>  7</td>\n",
        "      <td>   </td>\n",
        "      <td>  </td>\n",
        "    </tr>\n",
        "    <tr>\n",
        "      <th>GSE18090</th>\n",
        "      <td>   GPL570</td>\n",
        "      <td>                                            DHF</td>\n",
        "      <td>                      DF</td>\n",
        "      <td> 0</td>\n",
        "      <td>   </td>\n",
        "      <td>  2</td>\n",
        "      <td>  6</td>\n",
        "      <td>   </td>\n",
        "      <td>  </td>\n",
        "    </tr>\n",
        "    <tr>\n",
        "      <th>GSE18090</th>\n",
        "      <td>   GPL570</td>\n",
        "      <td>                                            DHF</td>\n",
        "      <td>                      DF</td>\n",
        "      <td> 1</td>\n",
        "      <td>   </td>\n",
        "      <td>  1</td>\n",
        "      <td>  9</td>\n",
        "      <td>   </td>\n",
        "      <td>  </td>\n",
        "    </tr>\n",
        "    <tr>\n",
        "      <th>GSE25001</th>\n",
        "      <td>  GPL6104</td>\n",
        "      <td>                          dengue shock syndrome</td>\n",
        "      <td>    uncomplicated dengue</td>\n",
        "      <td> 0</td>\n",
        "      <td> 16</td>\n",
        "      <td> 39</td>\n",
        "      <td> 50</td>\n",
        "      <td> 30</td>\n",
        "      <td>  </td>\n",
        "    </tr>\n",
        "    <tr>\n",
        "      <th>GSE25001</th>\n",
        "      <td>  GPL6104</td>\n",
        "      <td>                          dengue shock syndrome</td>\n",
        "      <td>    uncomplicated dengue</td>\n",
        "      <td> 1</td>\n",
        "      <td> 18</td>\n",
        "      <td> 18</td>\n",
        "      <td> 19</td>\n",
        "      <td> 19</td>\n",
        "      <td>  </td>\n",
        "    </tr>\n",
        "    <tr>\n",
        "      <th>GSE25226</th>\n",
        "      <td>  GPL5621</td>\n",
        "      <td> dengue shock syndrome|dengue hemorrhagic fever</td>\n",
        "      <td>            dengue fever</td>\n",
        "      <td>-1</td>\n",
        "      <td>  6</td>\n",
        "      <td>   </td>\n",
        "      <td>  4</td>\n",
        "      <td>   </td>\n",
        "      <td>  </td>\n",
        "    </tr>\n",
        "    <tr>\n",
        "      <th>GSE25226</th>\n",
        "      <td>  GPL5621</td>\n",
        "      <td> dengue shock syndrome|dengue hemorrhagic fever</td>\n",
        "      <td>            dengue fever</td>\n",
        "      <td> 0</td>\n",
        "      <td>   </td>\n",
        "      <td>   </td>\n",
        "      <td> 20</td>\n",
        "      <td>   </td>\n",
        "      <td>  </td>\n",
        "    </tr>\n",
        "    <tr>\n",
        "      <th>GSE25226</th>\n",
        "      <td>  GPL5621</td>\n",
        "      <td> dengue shock syndrome|dengue hemorrhagic fever</td>\n",
        "      <td>            dengue fever</td>\n",
        "      <td> 1</td>\n",
        "      <td>   </td>\n",
        "      <td>   </td>\n",
        "      <td> 14</td>\n",
        "      <td>   </td>\n",
        "      <td>  </td>\n",
        "    </tr>\n",
        "    <tr>\n",
        "      <th>GSE38246</th>\n",
        "      <td> GPL15615</td>\n",
        "      <td>                                        DSS|DHF</td>\n",
        "      <td>                      DF</td>\n",
        "      <td> 0</td>\n",
        "      <td>   </td>\n",
        "      <td> 11</td>\n",
        "      <td> 39</td>\n",
        "      <td>  2</td>\n",
        "      <td> 1</td>\n",
        "    </tr>\n",
        "    <tr>\n",
        "      <th>GSE38246</th>\n",
        "      <td> GPL15615</td>\n",
        "      <td>                                        DSS|DHF</td>\n",
        "      <td>                      DF</td>\n",
        "      <td> 1</td>\n",
        "      <td>   </td>\n",
        "      <td>  9</td>\n",
        "      <td> 36</td>\n",
        "      <td>  4</td>\n",
        "      <td> 3</td>\n",
        "    </tr>\n",
        "    <tr>\n",
        "      <th>GSE40628</th>\n",
        "      <td> GPL16021</td>\n",
        "      <td>                        WHO stage 3|WHO stage 4</td>\n",
        "      <td> WHO stage 1|WHO stage 2</td>\n",
        "      <td>-1</td>\n",
        "      <td>   </td>\n",
        "      <td>   </td>\n",
        "      <td>  4</td>\n",
        "      <td>  3</td>\n",
        "      <td>  </td>\n",
        "    </tr>\n",
        "    <tr>\n",
        "      <th>GSE40628</th>\n",
        "      <td> GPL16021</td>\n",
        "      <td>                        WHO stage 3|WHO stage 4</td>\n",
        "      <td> WHO stage 1|WHO stage 2</td>\n",
        "      <td> 0</td>\n",
        "      <td>   </td>\n",
        "      <td>  1</td>\n",
        "      <td>  5</td>\n",
        "      <td>  4</td>\n",
        "      <td>  </td>\n",
        "    </tr>\n",
        "    <tr>\n",
        "      <th>GSE40628</th>\n",
        "      <td> GPL16021</td>\n",
        "      <td>                        WHO stage 3|WHO stage 4</td>\n",
        "      <td> WHO stage 1|WHO stage 2</td>\n",
        "      <td> 1</td>\n",
        "      <td>   </td>\n",
        "      <td>   </td>\n",
        "      <td>  7</td>\n",
        "      <td>  6</td>\n",
        "      <td>  </td>\n",
        "    </tr>\n",
        "    <tr>\n",
        "      <th>GSE43777</th>\n",
        "      <td>   GPL201</td>\n",
        "      <td>                                            DHF</td>\n",
        "      <td>                      DF</td>\n",
        "      <td> 0</td>\n",
        "      <td> 45</td>\n",
        "      <td> 46</td>\n",
        "      <td> 68</td>\n",
        "      <td>   </td>\n",
        "      <td>  </td>\n",
        "    </tr>\n",
        "    <tr>\n",
        "      <th>GSE43777</th>\n",
        "      <td>   GPL201</td>\n",
        "      <td>                                            DHF</td>\n",
        "      <td>                      DF</td>\n",
        "      <td> 1</td>\n",
        "      <td>  3</td>\n",
        "      <td>  1</td>\n",
        "      <td>  5</td>\n",
        "      <td>   </td>\n",
        "      <td>  </td>\n",
        "    </tr>\n",
        "    <tr>\n",
        "      <th>GSE43777</th>\n",
        "      <td>   GPL570</td>\n",
        "      <td>                                            DHF</td>\n",
        "      <td>                      DF</td>\n",
        "      <td> 0</td>\n",
        "      <td> 12</td>\n",
        "      <td> 15</td>\n",
        "      <td> 25</td>\n",
        "      <td>   </td>\n",
        "      <td>  </td>\n",
        "    </tr>\n",
        "    <tr>\n",
        "      <th>GSE43777</th>\n",
        "      <td>   GPL570</td>\n",
        "      <td>                                            DHF</td>\n",
        "      <td>                      DF</td>\n",
        "      <td> 1</td>\n",
        "      <td> 12</td>\n",
        "      <td> 11</td>\n",
        "      <td> 26</td>\n",
        "      <td>   </td>\n",
        "      <td>  </td>\n",
        "    </tr>\n",
        "  </tbody>\n",
        "</table>\n",
        "</div>"
       ],
       "metadata": {},
       "output_type": "pyout",
       "prompt_number": 7,
       "text": [
        "               GPL                                     caseQueries  \\\n",
        "GSE                                                                  \n",
        "GSE13052   GPL2700                                             DSS   \n",
        "GSE13052   GPL2700                                             DSS   \n",
        "GSE17924   GPL4133                                         DSS|DHF   \n",
        "GSE17924   GPL4133                                         DSS|DHF   \n",
        "GSE18090    GPL570                                             DHF   \n",
        "GSE18090    GPL570                                             DHF   \n",
        "GSE18090    GPL570                                             DHF   \n",
        "GSE25001   GPL6104                           dengue shock syndrome   \n",
        "GSE25001   GPL6104                           dengue shock syndrome   \n",
        "GSE25226   GPL5621  dengue shock syndrome|dengue hemorrhagic fever   \n",
        "GSE25226   GPL5621  dengue shock syndrome|dengue hemorrhagic fever   \n",
        "GSE25226   GPL5621  dengue shock syndrome|dengue hemorrhagic fever   \n",
        "GSE38246  GPL15615                                         DSS|DHF   \n",
        "GSE38246  GPL15615                                         DSS|DHF   \n",
        "GSE40628  GPL16021                         WHO stage 3|WHO stage 4   \n",
        "GSE40628  GPL16021                         WHO stage 3|WHO stage 4   \n",
        "GSE40628  GPL16021                         WHO stage 3|WHO stage 4   \n",
        "GSE43777    GPL201                                             DHF   \n",
        "GSE43777    GPL201                                             DHF   \n",
        "GSE43777    GPL570                                             DHF   \n",
        "GSE43777    GPL570                                             DHF   \n",
        "\n",
        "                   controlQueries  sample_class Convalescent Early_Acute  \\\n",
        "GSE                                                                        \n",
        "GSE13052     uncomplicated dengue             0            6               \n",
        "GSE13052     uncomplicated dengue             1            6               \n",
        "GSE17924                       DF             0                        2   \n",
        "GSE17924                       DF             1                        1   \n",
        "GSE18090                       DF            -1                        1   \n",
        "GSE18090                       DF             0                        2   \n",
        "GSE18090                       DF             1                        1   \n",
        "GSE25001     uncomplicated dengue             0           16          39   \n",
        "GSE25001     uncomplicated dengue             1           18          18   \n",
        "GSE25226             dengue fever            -1            6               \n",
        "GSE25226             dengue fever             0                            \n",
        "GSE25226             dengue fever             1                            \n",
        "GSE38246                       DF             0                       11   \n",
        "GSE38246                       DF             1                        9   \n",
        "GSE40628  WHO stage 1|WHO stage 2            -1                            \n",
        "GSE40628  WHO stage 1|WHO stage 2             0                        1   \n",
        "GSE40628  WHO stage 1|WHO stage 2             1                            \n",
        "GSE43777                       DF             0           45          46   \n",
        "GSE43777                       DF             1            3           1   \n",
        "GSE43777                       DF             0           12          15   \n",
        "GSE43777                       DF             1           12          11   \n",
        "\n",
        "          Late_Acute Later Unknown  \n",
        "GSE                                 \n",
        "GSE13052           9                \n",
        "GSE13052           9                \n",
        "GSE17924          14                \n",
        "GSE17924          31                \n",
        "GSE18090           7                \n",
        "GSE18090           6                \n",
        "GSE18090           9                \n",
        "GSE25001          50    30          \n",
        "GSE25001          19    19          \n",
        "GSE25226           4                \n",
        "GSE25226          20                \n",
        "GSE25226          14                \n",
        "GSE38246          39     2       1  \n",
        "GSE38246          36     4       3  \n",
        "GSE40628           4     3          \n",
        "GSE40628           5     4          \n",
        "GSE40628           7     6          \n",
        "GSE43777          68                \n",
        "GSE43777           5                \n",
        "GSE43777          25                \n",
        "GSE43777          26                "
       ]
      }
     ],
     "prompt_number": 7
    },
    {
     "cell_type": "heading",
     "level": 1,
     "metadata": {
      "internals": {
       "frag_helper": "fragment_end",
       "frag_number": 24,
       "slide_type": "subslide"
      },
      "slideshow": {
       "slide_type": "slide"
      }
     },
     "source": [
      "Robust gene signature for severe dengue"
     ]
    },
    {
     "cell_type": "code",
     "collapsed": false,
     "input": [
      "pd.read_csv(\"robust_dengue_markers.csv\", index_col=0)"
     ],
     "language": "python",
     "metadata": {
      "internals": {
       "frag_helper": "fragment_end",
       "frag_number": 24,
       "slide_helper": "subslide_end"
      },
      "slide_helper": "slide_end",
      "slideshow": {
       "slide_type": "-"
      }
     },
     "outputs": [
      {
       "html": [
        "<div style=\"max-height:1000px;max-width:1500px;overflow:auto;\">\n",
        "<table border=\"1\" class=\"dataframe\">\n",
        "  <thead>\n",
        "    <tr style=\"text-align: right;\">\n",
        "      <th></th>\n",
        "      <th>direction</th>\n",
        "      <th>k</th>\n",
        "      <th>caseDataCount</th>\n",
        "      <th>controlDataCount</th>\n",
        "      <th>TE_fixed</th>\n",
        "      <th>TE_random</th>\n",
        "      <th>pval_fixed</th>\n",
        "      <th>pval_random</th>\n",
        "      <th>absFc</th>\n",
        "      <th>gpl</th>\n",
        "      <th>gse</th>\n",
        "    </tr>\n",
        "    <tr>\n",
        "      <th>myGeneSym</th>\n",
        "      <th></th>\n",
        "      <th></th>\n",
        "      <th></th>\n",
        "      <th></th>\n",
        "      <th></th>\n",
        "      <th></th>\n",
        "      <th></th>\n",
        "      <th></th>\n",
        "      <th></th>\n",
        "      <th></th>\n",
        "      <th></th>\n",
        "    </tr>\n",
        "  </thead>\n",
        "  <tbody>\n",
        "    <tr>\n",
        "      <th>CEACAM8</th>\n",
        "      <td>   up</td>\n",
        "      <td>  8</td>\n",
        "      <td> 128</td>\n",
        "      <td> 226</td>\n",
        "      <td> 0.500616</td>\n",
        "      <td> 0.975921</td>\n",
        "      <td> 6.076384e-11</td>\n",
        "      <td> 0.000034</td>\n",
        "      <td> 2.179</td>\n",
        "      <td> 5</td>\n",
        "      <td> 4</td>\n",
        "    </tr>\n",
        "    <tr>\n",
        "      <th>PGLYRP1</th>\n",
        "      <td>   up</td>\n",
        "      <td>  8</td>\n",
        "      <td> 128</td>\n",
        "      <td> 226</td>\n",
        "      <td> 0.257277</td>\n",
        "      <td> 0.843716</td>\n",
        "      <td> 5.881097e-08</td>\n",
        "      <td> 0.000279</td>\n",
        "      <td> 2.012</td>\n",
        "      <td> 5</td>\n",
        "      <td> 4</td>\n",
        "    </tr>\n",
        "    <tr>\n",
        "      <th>MMP8</th>\n",
        "      <td>   up</td>\n",
        "      <td>  8</td>\n",
        "      <td> 128</td>\n",
        "      <td> 226</td>\n",
        "      <td> 0.578177</td>\n",
        "      <td> 0.722854</td>\n",
        "      <td> 5.664358e-12</td>\n",
        "      <td> 0.000005</td>\n",
        "      <td> 1.762</td>\n",
        "      <td> 4</td>\n",
        "      <td> 3</td>\n",
        "    </tr>\n",
        "    <tr>\n",
        "      <th>DEFA4</th>\n",
        "      <td>   up</td>\n",
        "      <td>  9</td>\n",
        "      <td> 135</td>\n",
        "      <td> 231</td>\n",
        "      <td> 0.416801</td>\n",
        "      <td> 0.870403</td>\n",
        "      <td> 3.096065e-08</td>\n",
        "      <td> 0.000836</td>\n",
        "      <td> 1.663</td>\n",
        "      <td> 5</td>\n",
        "      <td> 4</td>\n",
        "    </tr>\n",
        "    <tr>\n",
        "      <th>ORM1</th>\n",
        "      <td>   up</td>\n",
        "      <td> 10</td>\n",
        "      <td> 175</td>\n",
        "      <td> 210</td>\n",
        "      <td> 0.202684</td>\n",
        "      <td> 0.641718</td>\n",
        "      <td> 4.649591e-06</td>\n",
        "      <td> 0.000745</td>\n",
        "      <td> 1.417</td>\n",
        "      <td> 4</td>\n",
        "      <td> 4</td>\n",
        "    </tr>\n",
        "    <tr>\n",
        "      <th>ARG1</th>\n",
        "      <td>   up</td>\n",
        "      <td>  9</td>\n",
        "      <td> 135</td>\n",
        "      <td> 231</td>\n",
        "      <td> 0.367484</td>\n",
        "      <td> 0.521617</td>\n",
        "      <td> 5.018208e-14</td>\n",
        "      <td> 0.000004</td>\n",
        "      <td> 1.370</td>\n",
        "      <td> 5</td>\n",
        "      <td> 4</td>\n",
        "    </tr>\n",
        "    <tr>\n",
        "      <th>CEACAM6</th>\n",
        "      <td>   up</td>\n",
        "      <td>  9</td>\n",
        "      <td> 135</td>\n",
        "      <td> 231</td>\n",
        "      <td> 0.570631</td>\n",
        "      <td> 0.650184</td>\n",
        "      <td> 5.535201e-10</td>\n",
        "      <td> 0.000305</td>\n",
        "      <td> 1.320</td>\n",
        "      <td> 5</td>\n",
        "      <td> 4</td>\n",
        "    </tr>\n",
        "    <tr>\n",
        "      <th>CTSG</th>\n",
        "      <td>   up</td>\n",
        "      <td> 10</td>\n",
        "      <td> 144</td>\n",
        "      <td> 241</td>\n",
        "      <td> 0.355576</td>\n",
        "      <td> 0.614036</td>\n",
        "      <td> 1.077524e-09</td>\n",
        "      <td> 0.000063</td>\n",
        "      <td> 1.212</td>\n",
        "      <td> 5</td>\n",
        "      <td> 4</td>\n",
        "    </tr>\n",
        "    <tr>\n",
        "      <th>OLFM4</th>\n",
        "      <td>   up</td>\n",
        "      <td>  8</td>\n",
        "      <td> 130</td>\n",
        "      <td> 163</td>\n",
        "      <td> 0.410424</td>\n",
        "      <td> 0.451996</td>\n",
        "      <td> 1.202883e-07</td>\n",
        "      <td> 0.000758</td>\n",
        "      <td> 1.183</td>\n",
        "      <td> 4</td>\n",
        "      <td> 4</td>\n",
        "    </tr>\n",
        "    <tr>\n",
        "      <th>ELANE</th>\n",
        "      <td>   up</td>\n",
        "      <td>  8</td>\n",
        "      <td> 128</td>\n",
        "      <td> 226</td>\n",
        "      <td> 0.357361</td>\n",
        "      <td> 0.807227</td>\n",
        "      <td> 2.196857e-08</td>\n",
        "      <td> 0.000163</td>\n",
        "      <td> 1.151</td>\n",
        "      <td> 5</td>\n",
        "      <td> 4</td>\n",
        "    </tr>\n",
        "    <tr>\n",
        "      <th>BPI</th>\n",
        "      <td>   up</td>\n",
        "      <td>  9</td>\n",
        "      <td> 135</td>\n",
        "      <td> 231</td>\n",
        "      <td> 0.357946</td>\n",
        "      <td> 0.565096</td>\n",
        "      <td> 3.322177e-07</td>\n",
        "      <td> 0.000668</td>\n",
        "      <td> 1.147</td>\n",
        "      <td> 5</td>\n",
        "      <td> 4</td>\n",
        "    </tr>\n",
        "    <tr>\n",
        "      <th>ORM2</th>\n",
        "      <td>   up</td>\n",
        "      <td> 10</td>\n",
        "      <td> 173</td>\n",
        "      <td> 273</td>\n",
        "      <td> 0.255299</td>\n",
        "      <td> 0.353399</td>\n",
        "      <td> 1.873266e-09</td>\n",
        "      <td> 0.000005</td>\n",
        "      <td> 1.132</td>\n",
        "      <td> 4</td>\n",
        "      <td> 3</td>\n",
        "    </tr>\n",
        "    <tr>\n",
        "      <th>TGFBR3</th>\n",
        "      <td> down</td>\n",
        "      <td> 10</td>\n",
        "      <td> 144</td>\n",
        "      <td> 241</td>\n",
        "      <td>-0.165094</td>\n",
        "      <td>-0.305863</td>\n",
        "      <td> 7.611686e-07</td>\n",
        "      <td> 0.000430</td>\n",
        "      <td> 0.689</td>\n",
        "      <td> 4</td>\n",
        "      <td> 3</td>\n",
        "    </tr>\n",
        "    <tr>\n",
        "      <th>CYP4F3</th>\n",
        "      <td>   up</td>\n",
        "      <td>  9</td>\n",
        "      <td> 135</td>\n",
        "      <td> 231</td>\n",
        "      <td> 0.141503</td>\n",
        "      <td> 0.399801</td>\n",
        "      <td> 7.594477e-04</td>\n",
        "      <td> 0.000769</td>\n",
        "      <td> 0.654</td>\n",
        "      <td> 4</td>\n",
        "      <td> 4</td>\n",
        "    </tr>\n",
        "    <tr>\n",
        "      <th>ACOX2</th>\n",
        "      <td>   up</td>\n",
        "      <td>  8</td>\n",
        "      <td> 128</td>\n",
        "      <td> 226</td>\n",
        "      <td> 0.247159</td>\n",
        "      <td> 0.279602</td>\n",
        "      <td> 1.948648e-07</td>\n",
        "      <td> 0.000269</td>\n",
        "      <td> 0.427</td>\n",
        "      <td> 5</td>\n",
        "      <td> 4</td>\n",
        "    </tr>\n",
        "    <tr>\n",
        "      <th>WDR1</th>\n",
        "      <td> down</td>\n",
        "      <td> 11</td>\n",
        "      <td> 156</td>\n",
        "      <td> 255</td>\n",
        "      <td>-0.030170</td>\n",
        "      <td>-0.238189</td>\n",
        "      <td> 1.756270e-05</td>\n",
        "      <td> 0.000869</td>\n",
        "      <td> 0.346</td>\n",
        "      <td> 4</td>\n",
        "      <td> 4</td>\n",
        "    </tr>\n",
        "    <tr>\n",
        "      <th>FSTL3</th>\n",
        "      <td>   up</td>\n",
        "      <td>  9</td>\n",
        "      <td> 137</td>\n",
        "      <td> 236</td>\n",
        "      <td> 0.118795</td>\n",
        "      <td> 0.144712</td>\n",
        "      <td> 3.427163e-06</td>\n",
        "      <td> 0.000194</td>\n",
        "      <td> 0.343</td>\n",
        "      <td> 4</td>\n",
        "      <td> 4</td>\n",
        "    </tr>\n",
        "  </tbody>\n",
        "</table>\n",
        "</div>"
       ],
       "metadata": {},
       "output_type": "pyout",
       "prompt_number": 8,
       "text": [
        "          direction   k  caseDataCount  controlDataCount  TE_fixed  TE_random  \\\n",
        "myGeneSym                                                                       \n",
        "CEACAM8          up   8            128               226  0.500616   0.975921   \n",
        "PGLYRP1          up   8            128               226  0.257277   0.843716   \n",
        "MMP8             up   8            128               226  0.578177   0.722854   \n",
        "DEFA4            up   9            135               231  0.416801   0.870403   \n",
        "ORM1             up  10            175               210  0.202684   0.641718   \n",
        "ARG1             up   9            135               231  0.367484   0.521617   \n",
        "CEACAM6          up   9            135               231  0.570631   0.650184   \n",
        "CTSG             up  10            144               241  0.355576   0.614036   \n",
        "OLFM4            up   8            130               163  0.410424   0.451996   \n",
        "ELANE            up   8            128               226  0.357361   0.807227   \n",
        "BPI              up   9            135               231  0.357946   0.565096   \n",
        "ORM2             up  10            173               273  0.255299   0.353399   \n",
        "TGFBR3         down  10            144               241 -0.165094  -0.305863   \n",
        "CYP4F3           up   9            135               231  0.141503   0.399801   \n",
        "ACOX2            up   8            128               226  0.247159   0.279602   \n",
        "WDR1           down  11            156               255 -0.030170  -0.238189   \n",
        "FSTL3            up   9            137               236  0.118795   0.144712   \n",
        "\n",
        "             pval_fixed  pval_random  absFc  gpl  gse  \n",
        "myGeneSym                                              \n",
        "CEACAM8    6.076384e-11     0.000034  2.179    5    4  \n",
        "PGLYRP1    5.881097e-08     0.000279  2.012    5    4  \n",
        "MMP8       5.664358e-12     0.000005  1.762    4    3  \n",
        "DEFA4      3.096065e-08     0.000836  1.663    5    4  \n",
        "ORM1       4.649591e-06     0.000745  1.417    4    4  \n",
        "ARG1       5.018208e-14     0.000004  1.370    5    4  \n",
        "CEACAM6    5.535201e-10     0.000305  1.320    5    4  \n",
        "CTSG       1.077524e-09     0.000063  1.212    5    4  \n",
        "OLFM4      1.202883e-07     0.000758  1.183    4    4  \n",
        "ELANE      2.196857e-08     0.000163  1.151    5    4  \n",
        "BPI        3.322177e-07     0.000668  1.147    5    4  \n",
        "ORM2       1.873266e-09     0.000005  1.132    4    3  \n",
        "TGFBR3     7.611686e-07     0.000430  0.689    4    3  \n",
        "CYP4F3     7.594477e-04     0.000769  0.654    4    4  \n",
        "ACOX2      1.948648e-07     0.000269  0.427    5    4  \n",
        "WDR1       1.756270e-05     0.000869  0.346    4    4  \n",
        "FSTL3      3.427163e-06     0.000194  0.343    4    4  "
       ]
      }
     ],
     "prompt_number": 8
    },
    {
     "cell_type": "markdown",
     "metadata": {
      "internals": {
       "frag_helper": "fragment_end",
       "frag_number": 24,
       "slide_helper": "subslide_end",
       "slide_type": "subslide"
      },
      "slide_helper": "slide_end",
      "slideshow": {
       "slide_type": "slide"
      }
     },
     "source": [
      "#10-gene signature for severe dengue highlights TNF-alpha pathway\n",
      "![network](network.jpg)"
     ]
    },
    {
     "cell_type": "markdown",
     "metadata": {
      "internals": {
       "frag_helper": "fragment_end",
       "frag_number": 24,
       "slide_helper": "subslide_end",
       "slide_type": "subslide"
      },
      "slide_helper": "slide_end",
      "slideshow": {
       "slide_type": "slide"
      }
     },
     "source": [
      "#Pathogenesis of dengue known to be coordinated by TNF-alpha\n",
      "![Pathogenesis](http://jvi.asm.org/content/80/23/11418/F3.large.jpg)"
     ]
    },
    {
     "cell_type": "markdown",
     "metadata": {
      "internals": {
       "frag_helper": "fragment_end",
       "frag_number": 24,
       "slide_type": "subslide"
      },
      "slideshow": {
       "slide_type": "slide"
      }
     },
     "source": [
      "#Drugs predicted to reverse severe dengue signature\n",
      "* Estriol is an attriactive candidate\n",
      "![drugs](cmap_predictions.png)"
     ]
    },
    {
     "cell_type": "heading",
     "level": 1,
     "metadata": {
      "internals": {
       "frag_helper": "fragment_end",
       "frag_number": 24,
       "slide_type": "subslide"
      },
      "slideshow": {
       "slide_type": "slide"
      }
     },
     "source": [
      "Drug signatures from LINCS"
     ]
    },
    {
     "cell_type": "code",
     "collapsed": false,
     "input": [
      "getIframe('http://lincs.hms.harvard.edu')"
     ],
     "language": "python",
     "metadata": {
      "internals": {
       "frag_helper": "fragment_end",
       "frag_number": 24,
       "slide_helper": "subslide_end"
      },
      "slide_helper": "slide_end",
      "slideshow": {
       "slide_type": "-"
      }
     },
     "outputs": [
      {
       "html": [
        "<iframe src=http://lincs.hms.harvard.edu height=400 width=800></iframe>"
       ],
       "metadata": {},
       "output_type": "pyout",
       "prompt_number": 9,
       "text": [
        "<IPython.core.display.HTML at 0x1093bb1d0>"
       ]
      }
     ],
     "prompt_number": 9
    },
    {
     "cell_type": "heading",
     "level": 1,
     "metadata": {
      "slideshow": {
       "slide_type": "slide"
      }
     },
     "source": [
      "ELANE already confirmed as prognostic biomarker"
     ]
    },
    {
     "cell_type": "code",
     "collapsed": false,
     "input": [
      "getPubmed('10639436')"
     ],
     "language": "python",
     "metadata": {
      "internals": {
       "frag_helper": "fragment_end",
       "frag_number": 24,
       "slide_helper": "subslide_end"
      },
      "slide_helper": "slide_end",
      "slideshow": {
       "slide_type": "-"
      }
     },
     "outputs": [
      {
       "html": [
        "<iframe src=http://www.ncbi.nlm.nih.gov/m/pubmed/10639436 height=400 width=800></iframe>"
       ],
       "metadata": {},
       "output_type": "pyout",
       "prompt_number": 10,
       "text": [
        "<IPython.core.display.HTML at 0x1093bb290>"
       ]
      }
     ],
     "prompt_number": 10
    },
    {
     "cell_type": "markdown",
     "metadata": {
      "internals": {
       "frag_helper": "fragment_end",
       "frag_number": 24,
       "slide_type": "subslide"
      },
      "slideshow": {
       "slide_type": "slide"
      }
     },
     "source": [
      "#Neutrophil Elastase (ELANE) is most significant gene for Severe Dengue\n",
      "![ELANE](ELANE.png)"
     ]
    },
    {
     "cell_type": "heading",
     "level": 1,
     "metadata": {
      "internals": {
       "frag_helper": "fragment_end",
       "frag_number": 24
      },
      "slideshow": {
       "slide_type": "slide"
      }
     },
     "source": [
      "Conclusion: Open data can successfully be used to predict drugs and pognostic biomarkers for dengue"
     ]
    },
    {
     "cell_type": "code",
     "collapsed": false,
     "input": [
      "getIframe('http://stargeo.io/init/analysis/results?analysis_id=15&keywords=&order=balanced_meta.pval_fixed')"
     ],
     "language": "python",
     "metadata": {
      "internals": {
       "frag_helper": "fragment_end",
       "frag_number": 24,
       "slide_helper": "subslide_end"
      },
      "slide_helper": "slide_end",
      "slideshow": {
       "slide_type": "-"
      }
     },
     "outputs": [
      {
       "html": [
        "<iframe src=http://stargeo.io/init/analysis/results?analysis_id=15&keywords=&order=balanced_meta.pval_fixed height=400 width=800></iframe>"
       ],
       "metadata": {},
       "output_type": "pyout",
       "prompt_number": 11,
       "text": [
        "<IPython.core.display.HTML at 0x1093bb310>"
       ]
      }
     ],
     "prompt_number": 11
    },
    {
     "cell_type": "heading",
     "level": 1,
     "metadata": {
      "internals": {
       "frag_helper": "fragment_end",
       "frag_number": 24,
       "slide_type": "subslide"
      },
      "slideshow": {
       "slide_type": "slide"
      }
     },
     "source": [
      "<a href=\"http://stargeo.io/\" target=\"_blank\">STAR Demo!</a>"
     ]
    },
    {
     "cell_type": "markdown",
     "metadata": {
      "internals": {
       "frag_helper": "fragment_end",
       "frag_number": 24
      },
      "slideshow": {
       "slide_type": "-"
      }
     },
     "source": [
      "#250K bio-annotations last month alone\n",
      "![](all_passes.svg)\n",
      "## >90% concordance"
     ]
    },
    {
     "cell_type": "markdown",
     "metadata": {
      "internals": {
       "frag_helper": "fragment_end",
       "frag_number": 24,
       "slide_helper": "subslide_end"
      },
      "slide_helper": "slide_end",
      "slideshow": {
       "slide_type": "-"
      }
     },
     "source": [
      "#STAR bio-annotation Network\n",
      "50+ well defined phenotypes of 80K+ digital samples\n",
      "![](STAR_Network.svg)"
     ]
    },
    {
     "cell_type": "heading",
     "level": 1,
     "metadata": {
      "internals": {
       "frag_helper": "fragment_end",
       "frag_number": 24,
       "slide_helper": "subslide_end",
       "slide_type": "subslide"
      },
      "slide_helper": "slide_end",
      "slideshow": {
       "slide_type": "slide"
      }
     },
     "source": [
      "50+ well defined phenotypes of 80K+ digital samples\n",
      "![](sample_tags.svg)"
     ]
    },
    {
     "cell_type": "markdown",
     "metadata": {
      "internals": {
       "frag_helper": "fragment_end",
       "frag_number": 24,
       "slide_helper": "subslide_end",
       "slide_type": "subslide"
      },
      "slide_helper": "slide_end",
      "slideshow": {
       "slide_type": "slide"
      }
     },
     "source": [
      "#90%+ first-pass concordance towards precision bio-annotation\n",
      "![](precision_manual.svg)"
     ]
    },
    {
     "cell_type": "markdown",
     "metadata": {
      "internals": {
       "frag_helper": "fragment_end",
       "frag_number": 24,
       "slide_type": "subslide"
      },
      "slideshow": {
       "slide_type": "slide"
      }
     },
     "source": [
      "#91%+ first-pass concordance towards precision Hybrid bio-annotation\n",
      "![](precision_hybrid.svg)"
     ]
    },
    {
     "cell_type": "markdown",
     "metadata": {
      "internals": {
       "frag_helper": "fragment_end",
       "frag_number": 24,
       "slide_helper": "subslide_end"
      },
      "slide_helper": "slide_end",
      "slideshow": {
       "slide_type": "-"
      }
     },
     "source": [
      "#Tree of Disease!\n",
      "![](tree.random.svg)\n",
      "* Discrimanates cancer \n",
      "* Discrimanates auto-immunity\n",
      "* Distributes infection!\n",
      "\n"
     ]
    },
    {
     "cell_type": "heading",
     "level": 1,
     "metadata": {
      "internals": {
       "frag_helper": "fragment_end",
       "frag_number": 24,
       "slide_type": "subslide"
      },
      "slideshow": {
       "slide_type": "slide"
      }
     },
     "source": [
      "Thanks Butte Lab!"
     ]
    },
    {
     "cell_type": "code",
     "collapsed": false,
     "input": [
      "getIframe('http://web.stanford.edu/group/buttelab_test1/cgi-bin/wordpress/people/')"
     ],
     "language": "python",
     "metadata": {
      "internals": {
       "frag_helper": "fragment_end",
       "frag_number": 24
      },
      "slideshow": {
       "slide_type": "-"
      }
     },
     "outputs": [
      {
       "html": [
        "<iframe src=http://web.stanford.edu/group/buttelab_test1/cgi-bin/wordpress/people/ height=400 width=800></iframe>"
       ],
       "metadata": {},
       "output_type": "pyout",
       "prompt_number": 12,
       "text": [
        "<IPython.core.display.HTML at 0x1093bb250>"
       ]
      }
     ],
     "prompt_number": 12
    },
    {
     "cell_type": "markdown",
     "metadata": {
      "internals": {
       "frag_helper": "fragment_end",
       "frag_number": 24
      },
      "slideshow": {
       "slide_type": "-"
      }
     },
     "source": [
      "#Thanks stargeo.org community"
     ]
    }
   ],
   "metadata": {}
  }
 ]
}