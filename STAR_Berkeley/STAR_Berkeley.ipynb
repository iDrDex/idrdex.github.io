{
 "metadata": {
  "celltoolbar": "Slideshow",
  "name": "",
  "signature": "sha256:443ce893e602516d3fa608ed0e9c5cee20952c489b2cb4dbc4826456f87bd4e1"
 },
 "nbformat": 3,
 "nbformat_minor": 0,
 "worksheets": [
  {
   "cells": [
    {
     "cell_type": "markdown",
     "metadata": {
      "internals": {
       "slide_type": "subslide"
      },
      "slideshow": {
       "slide_type": "slide"
      }
     },
     "source": [
      "![](http://stargeo.org/init/static/images/stanford_medicine_logo.png)"
     ]
    },
    {
     "cell_type": "markdown",
     "metadata": {
      "internals": {},
      "slideshow": {
       "slide_type": "-"
      }
     },
     "source": [
      "#Search Tag Analyze Resource (STAR)\n",
      "##http://stargeo.org\n",
      "##An online platform to crowd-source genomic disease signatures from open digital samples.\n",
      "###Dexter Hadley, MD/PhD (<dexter@stanford.edu>)"
     ]
    },
    {
     "cell_type": "markdown",
     "metadata": {
      "internals": {
       "slide_helper": "subslide_end"
      },
      "slide_helper": "slide_end",
      "slideshow": {
       "slide_type": "-"
      }
     },
     "source": [
      "![](http://stargeo.org/init/static/images/small_butte_lab_logo.png)"
     ]
    },
    {
     "cell_type": "markdown",
     "metadata": {
      "internals": {
       "slide_type": "subslide"
      },
      "slideshow": {
       "slide_type": "slide"
      }
     },
     "source": [
      "#Outline\n",
      "* Systems medicine to find novel drugs and biomarkers\n",
      "    * Functional genomics and microarrays\n",
      "    * Gene signatures in disease\n",
      "    * Open public functional genomics data\n",
      "* Case study: Using open data to predict severe dengue\n",
      "* DEMO: STAR to crowd-source disease signatures from open digital samples\n",
      "* Web2py implementation and pearls"
     ]
    },
    {
     "cell_type": "code",
     "collapsed": false,
     "input": [
      "from IPython.display import HTML\n",
      "def getIframe(url, height = 400, width = 800):\n",
      "    return HTML('<iframe src=%s height=%s width=%s></iframe>'%(url, height, width))\n",
      "def getWikipedia(page_words, height = 400, width = 800):\n",
      "    page = \"_\".join(page_words.split()).lower()\n",
      "    url = \"http://en.m.wikipedia.org/wiki/%s\"%page\n",
      "    return getIframe(url, height, width)\n",
      "def getPubmed(pmid, height = 400, width = 800):\n",
      "    url = \"http://www.ncbi.nlm.nih.gov/m/pubmed/%s\"%pmid\n",
      "    return getIframe(url, height, width)"
     ],
     "language": "python",
     "metadata": {
      "internals": {
       "slide_helper": "subslide_end"
      },
      "slide_helper": "slide_end",
      "slideshow": {
       "slide_type": "skip"
      }
     },
     "outputs": [],
     "prompt_number": 1
    },
    {
     "cell_type": "heading",
     "level": 1,
     "metadata": {
      "internals": {
       "slide_type": "subslide"
      },
      "slideshow": {
       "slide_type": "slide"
      }
     },
     "source": [
      "Functional genomics experiments measure high-thoughput biological data"
     ]
    },
    {
     "cell_type": "code",
     "collapsed": false,
     "input": [
      "getWikipedia(\"functional genomics\")"
     ],
     "language": "python",
     "metadata": {
      "internals": {
       "slide_helper": "subslide_end"
      },
      "slide_helper": "slide_end",
      "slideshow": {
       "slide_type": "-"
      }
     },
     "outputs": [
      {
       "html": [
        "<iframe src=http://en.m.wikipedia.org/wiki/functional_genomics height=400 width=800></iframe>"
       ],
       "metadata": {},
       "output_type": "pyout",
       "prompt_number": 2,
       "text": [
        "<IPython.core.display.HTML at 0x10676e290>"
       ]
      }
     ],
     "prompt_number": 2
    },
    {
     "cell_type": "heading",
     "level": 1,
     "metadata": {
      "internals": {
       "slide_type": "subslide"
      },
      "slideshow": {
       "slide_type": "slide"
      }
     },
     "source": [
      "Systems Medicine translates this data into novel biomarkers and therapeutics"
     ]
    },
    {
     "cell_type": "code",
     "collapsed": false,
     "input": [
      "getWikipedia(\"systems medicine\")"
     ],
     "language": "python",
     "metadata": {
      "internals": {
       "slide_helper": "subslide_end"
      },
      "slide_helper": "slide_end",
      "slideshow": {
       "slide_type": "-"
      }
     },
     "outputs": [
      {
       "html": [
        "<iframe src=http://en.m.wikipedia.org/wiki/systems_medicine height=400 width=800></iframe>"
       ],
       "metadata": {},
       "output_type": "pyout",
       "prompt_number": 3,
       "text": [
        "<IPython.core.display.HTML at 0x10676e090>"
       ]
      }
     ],
     "prompt_number": 3
    },
    {
     "cell_type": "heading",
     "level": 1,
     "metadata": {
      "internals": {
       "slide_type": "subslide"
      },
      "slideshow": {
       "slide_type": "slide"
      }
     },
     "source": [
      "Microarrays first enabled high-throughput measurement of gene expression"
     ]
    },
    {
     "cell_type": "code",
     "collapsed": false,
     "input": [
      "getWikipedia(\"microarray\")"
     ],
     "language": "python",
     "metadata": {
      "internals": {
       "slide_helper": "subslide_end"
      },
      "slide_helper": "subslide_end",
      "slideshow": {
       "slide_type": "-"
      }
     },
     "outputs": [
      {
       "html": [
        "<iframe src=http://en.m.wikipedia.org/wiki/microarray height=400 width=800></iframe>"
       ],
       "metadata": {},
       "output_type": "pyout",
       "prompt_number": 4,
       "text": [
        "<IPython.core.display.HTML at 0x10676e810>"
       ]
      }
     ],
     "prompt_number": 4
    },
    {
     "cell_type": "heading",
     "level": 1,
     "metadata": {
      "internals": {
       "slide_type": "subslide"
      },
      "slideshow": {
       "slide_type": "subslide"
      }
     },
     "source": [
      "Microarays developed at Stanford over 20 years ago"
     ]
    },
    {
     "cell_type": "code",
     "collapsed": false,
     "input": [
      "getPubmed(7569999)"
     ],
     "language": "python",
     "metadata": {
      "internals": {
       "slide_helper": "subslide_end"
      },
      "slide_helper": "slide_end",
      "slideshow": {
       "slide_type": "-"
      }
     },
     "outputs": [
      {
       "html": [
        "<iframe src=http://www.ncbi.nlm.nih.gov/m/pubmed/7569999 height=400 width=800></iframe>"
       ],
       "metadata": {},
       "output_type": "pyout",
       "prompt_number": 5,
       "text": [
        "<IPython.core.display.HTML at 0x106764e10>"
       ]
      }
     ],
     "prompt_number": 5
    },
    {
     "cell_type": "heading",
     "level": 1,
     "metadata": {
      "internals": {
       "slide_type": "subslide"
      },
      "slideshow": {
       "slide_type": "slide"
      }
     },
     "source": [
      "Explosive growth of functional genomics Big Data"
     ]
    },
    {
     "cell_type": "code",
     "collapsed": false,
     "input": [
      "getIframe('http://www.ncbi.nlm.nih.gov/pmc/articles/PMC3531084/figure/gks1193-F1/', 700)"
     ],
     "language": "python",
     "metadata": {
      "internals": {
       "slide_helper": "subslide_end",
       "slide_type": "subslide"
      },
      "slide_helper": "slide_end",
      "slideshow": {
       "slide_type": "-"
      }
     },
     "outputs": [
      {
       "html": [
        "<iframe src=http://www.ncbi.nlm.nih.gov/pmc/articles/PMC3531084/figure/gks1193-F1/ height=700 width=800></iframe>"
       ],
       "metadata": {},
       "output_type": "pyout",
       "prompt_number": 6,
       "text": [
        "<IPython.core.display.HTML at 0x1067646d0>"
       ]
      }
     ],
     "prompt_number": 6
    },
    {
     "cell_type": "markdown",
     "metadata": {
      "slideshow": {
       "slide_type": "slide"
      }
     },
     "source": [
      "#Over 1.2 million digital microarray samples in GEO today!\n",
      "* Cover the bulk of disease \n",
      "* NIH funded research must be deposited\n",
      "\n",
      "**PROBLEM: No controled schema or ontology to describe the data!**"
     ]
    },
    {
     "cell_type": "code",
     "collapsed": false,
     "input": [
      "getIframe(\"http://www.ncbi.nlm.nih.gov/geo/\")"
     ],
     "language": "python",
     "metadata": {
      "internals": {
       "slide_helper": "subslide_end"
      },
      "slide_helper": "slide_end",
      "slideshow": {
       "slide_type": "-"
      }
     },
     "outputs": [
      {
       "html": [
        "<iframe src=http://www.ncbi.nlm.nih.gov/geo/ height=400 width=800></iframe>"
       ],
       "metadata": {},
       "output_type": "pyout",
       "prompt_number": 7,
       "text": [
        "<IPython.core.display.HTML at 0x106764850>"
       ]
      }
     ],
     "prompt_number": 7
    },
    {
     "cell_type": "markdown",
     "metadata": {
      "slideshow": {
       "slide_type": "subslide"
      }
     },
     "source": [
      "#GEO SOFT format knows no biology!\n",
      "![Soft format](http://www.ncbi.nlm.nih.gov/geo/img/submission_overview.jpg)"
     ]
    },
    {
     "cell_type": "heading",
     "level": 1,
     "metadata": {
      "internals": {
       "slide_type": "subslide"
      },
      "slideshow": {
       "slide_type": "slide"
      }
     },
     "source": [
      "Gene signatures molecularly define disease"
     ]
    },
    {
     "cell_type": "code",
     "collapsed": false,
     "input": [
      "getWikipedia(\"gene signature\")"
     ],
     "language": "python",
     "metadata": {
      "internals": {
       "slide_helper": "subslide_end"
      },
      "slide_helper": "slide_end",
      "slideshow": {
       "slide_type": "-"
      }
     },
     "outputs": [
      {
       "html": [
        "<iframe src=http://en.m.wikipedia.org/wiki/gene_signature height=400 width=800></iframe>"
       ],
       "metadata": {},
       "output_type": "pyout",
       "prompt_number": 8,
       "text": [
        "<IPython.core.display.HTML at 0x10675a710>"
       ]
      }
     ],
     "prompt_number": 8
    },
    {
     "cell_type": "markdown",
     "metadata": {
      "internals": {
       "slide_helper": "subslide_end",
       "slide_type": "subslide"
      },
      "slide_helper": "slide_end",
      "slideshow": {
       "slide_type": "slide"
      }
     },
     "source": [
      "#Case study: Predicting severe dengue gene signatures using open data"
     ]
    },
    {
     "cell_type": "heading",
     "level": 1,
     "metadata": {
      "internals": {
       "slide_type": "subslide"
      },
      "slideshow": {
       "slide_type": "slide"
      }
     },
     "source": [
      "Dengue is a potentially fatal undifrentiated febrile viral illness"
     ]
    },
    {
     "cell_type": "code",
     "collapsed": false,
     "input": [
      "getWikipedia(\"dengue\")"
     ],
     "language": "python",
     "metadata": {
      "internals": {
       "slide_helper": "subslide_end"
      },
      "slide_helper": "slide_end",
      "slideshow": {
       "slide_type": "-"
      }
     },
     "outputs": [
      {
       "html": [
        "<iframe src=http://en.m.wikipedia.org/wiki/dengue height=400 width=800></iframe>"
       ],
       "metadata": {},
       "output_type": "pyout",
       "prompt_number": 9,
       "text": [
        "<IPython.core.display.HTML at 0x10675a590>"
       ]
      }
     ],
     "prompt_number": 9
    },
    {
     "cell_type": "markdown",
     "metadata": {
      "internals": {
       "slide_helper": "subslide_end",
       "slide_type": "subslide"
      },
      "slide_helper": "subslide_end",
      "slideshow": {
       "slide_type": "slide"
      }
     },
     "source": [
      "#Wide range of dengue clinical features\n",
      "![Dengue Symptoms](http://www.nature.com/nrmicro/journal/v5/n7/images/nrmicro1690-i2.jpg)"
     ]
    },
    {
     "cell_type": "markdown",
     "metadata": {
      "internals": {
       "slide_helper": "subslide_end",
       "slide_type": "subslide"
      },
      "slide_helper": "subslide_end",
      "slideshow": {
       "slide_type": "subslide"
      }
     },
     "source": [
      "#Dengue is a significant global health threat\n",
      "* Dengue virus causes a flu-like illness that can progress to fatal severe dengue\n",
      "* 3.6B people at risk \u2014 \u00bd the world!\n",
      "    * 390M estimated dengue infections yearly\n",
      "        * 96M manifest clinically\n",
      "            * 2M cases progress to severe dengue\n",
      "                * 21K fatalities yearly\n",
      "![Dengue Epidemiology](http://www.graphicmail.fr/fr_members/7225/ftp/pictures/2012-09/Epidemiology_of_Dengue.jpg)"
     ]
    },
    {
     "cell_type": "markdown",
     "metadata": {
      "internals": {
       "slide_helper": "subslide_end",
       "slide_type": "subslide"
      },
      "slide_helper": "subslide_end",
      "slideshow": {
       "slide_type": "subslide"
      }
     },
     "source": [
      "#Dengue most impacts the developing world\n",
      "* Severe dengue the leading cause of serious illness and death among children in developing countries\n",
      "    * Especially in Asia and Latin America \n",
      "* Patients usually recover when fluids and electrolytes are administered early \n",
      "    * Lowers fatality rates from 20% to <1%\n",
      "\n",
      "\n",
      "![Dengue Geography](http://www.who.int/entity/csr/disease/dengue/dengue2006.jpg)"
     ]
    },
    {
     "cell_type": "markdown",
     "metadata": {
      "internals": {
       "slide_type": "subslide"
      },
      "slideshow": {
       "slide_type": "subslide"
      }
     },
     "source": [
      "#Dengue is a neglected tropical disease\n",
      "* Accurate molecular diagnostics for dengue virus only recently available\n",
      "* No current prognostic biomarkers for severe dengue complications\n",
      "* No effective drugs or vaccines although many ongoing clinical trials"
     ]
    },
    {
     "cell_type": "code",
     "collapsed": false,
     "input": [
      "getWikipedia(\"neglected tropical disease\")"
     ],
     "language": "python",
     "metadata": {
      "internals": {
       "slide_helper": "subslide_end"
      },
      "slide_helper": "slide_end",
      "slideshow": {
       "slide_type": "-"
      }
     },
     "outputs": [
      {
       "html": [
        "<iframe src=http://en.m.wikipedia.org/wiki/neglected_tropical_disease height=400 width=800></iframe>"
       ],
       "metadata": {},
       "output_type": "pyout",
       "prompt_number": 10,
       "text": [
        "<IPython.core.display.HTML at 0x10675ab10>"
       ]
      }
     ],
     "prompt_number": 10
    },
    {
     "cell_type": "markdown",
     "metadata": {
      "internals": {
       "slide_helper": "subslide_end",
       "slide_type": "subslide"
      },
      "slide_helper": "slide_end",
      "slideshow": {
       "slide_type": "slide"
      }
     },
     "source": [
      "#Revised WHO 2007 diagnostic criteria improved surveillance\n",
      "\n",
      "![Who 2007](http://journal.tropika.net/img/revistas/tropika/2010nahead/a01fig1.jpg)"
     ]
    },
    {
     "cell_type": "markdown",
     "metadata": {
      "internals": {
       "slide_helper": "subslide_end",
       "slide_type": "subslide"
      },
      "slide_helper": "subslide_end",
      "slideshow": {
       "slide_type": "slide"
      }
     },
     "source": [
      "#Reclassification improved sensitivity and specificity to identify cases in need of heightened care\n",
      "![Comparison](http://previews.figshare.com/714284/preview_714284.png)\n",
      "#PROBLEM: Variable phenotype descriptors complicate utility of digital samples"
     ]
    },
    {
     "cell_type": "code",
     "collapsed": false,
     "input": [
      "getPubmed(22087348)"
     ],
     "language": "python",
     "metadata": {
      "internals": {
       "slide_helper": "subslide_end",
       "slide_type": "subslide"
      },
      "slide_helper": "slide_end",
      "slideshow": {
       "slide_type": "subslide"
      }
     },
     "outputs": [
      {
       "html": [
        "<iframe src=http://www.ncbi.nlm.nih.gov/m/pubmed/22087348 height=400 width=800></iframe>"
       ],
       "metadata": {},
       "output_type": "pyout",
       "prompt_number": 11,
       "text": [
        "<IPython.core.display.HTML at 0x10675aa50>"
       ]
      }
     ],
     "prompt_number": 11
    },
    {
     "cell_type": "heading",
     "level": 1,
     "metadata": {
      "internals": {
       "slide_helper": "subslide_end",
       "slide_type": "subslide"
      },
      "slide_helper": "slide_end",
      "slideshow": {
       "slide_type": "slide"
      }
     },
     "source": [
      "Dengue outbreaks are common and can quickly overwhelm the health systems of developing countries"
     ]
    },
    {
     "cell_type": "heading",
     "level": 1,
     "metadata": {
      "internals": {
       "slide_type": "subslide"
      },
      "slideshow": {
       "slide_type": "slide"
      }
     },
     "source": [
      "Our goal is to discover clinically prognostic biomarkers to predict severe dengue"
     ]
    },
    {
     "cell_type": "code",
     "collapsed": false,
     "input": [
      "import pandas as pd\n",
      "from numpy import nan\n",
      "dengue = pd.read_excel(\"Dengue_samples.xlsx\", \"Dengue_samples.GEO.csv\")\n",
      "annotation_summary = dengue.pivot_table(values='GSM',rows=['GSE', 'GPL', 'caseQueries', 'controlQueries', 'sample_class'], cols='phase', aggfunc=len).replace(nan, \"\")\n",
      "acuteDengue = dengue[(dengue.sample_class >= 0) \\\n",
      "                     & (dengue.phase.map(lambda x:str(x).endswith(\"Acute\")))]\n",
      "acute_dengue_summary = acuteDengue.pivot_table(rows = ['GSE'], values = ['GSM'], aggfunc=pd.Series.count, cols=['sample_class'])"
     ],
     "language": "python",
     "metadata": {
      "internals": {
       "slide_helper": "subslide_end"
      },
      "slide_helper": "slide_end",
      "slideshow": {
       "slide_type": "skip"
      }
     },
     "outputs": [
      {
       "output_type": "stream",
       "stream": "stderr",
       "text": [
        "/Users/dex/anaconda/lib/python2.7/site-packages/pandas/util/decorators.py:53: FutureWarning: cols is deprecated, use columns instead\n",
        "  warnings.warn(msg, FutureWarning)\n",
        "/Users/dex/anaconda/lib/python2.7/site-packages/pandas/util/decorators.py:53: FutureWarning: rows is deprecated, use index instead\n",
        "  warnings.warn(msg, FutureWarning)\n"
       ]
      }
     ],
     "prompt_number": 12
    },
    {
     "cell_type": "markdown",
     "metadata": {
      "internals": {
       "slide_type": "subslide"
      },
      "slideshow": {
       "slide_type": "slide"
      }
     },
     "source": [
      "#549 digital samples manually curated from GEO\n",
      "* acute samples with < 7 days of fever\n",
      "* across 8 studies\n",
      "    * 197 severe dengue (cases)\n",
      "        * DHF|DSS\n",
      "    * 352 uncomplicated dengue (controls)\n",
      "        * DF\n",
      "\n",
      "**PROBLEM: Weeks of manual curation!**"
     ]
    },
    {
     "cell_type": "code",
     "collapsed": false,
     "input": [
      "acute_dengue_summary"
     ],
     "language": "python",
     "metadata": {
      "internals": {},
      "slideshow": {
       "slide_type": "-"
      }
     },
     "outputs": [
      {
       "html": [
        "<div style=\"max-height:1000px;max-width:1500px;overflow:auto;\">\n",
        "<table border=\"1\" class=\"dataframe\">\n",
        "  <thead>\n",
        "    <tr>\n",
        "      <th></th>\n",
        "      <th colspan=\"2\" halign=\"left\">GSM</th>\n",
        "    </tr>\n",
        "    <tr>\n",
        "      <th>sample_class</th>\n",
        "      <th>0</th>\n",
        "      <th>1</th>\n",
        "    </tr>\n",
        "    <tr>\n",
        "      <th>GSE</th>\n",
        "      <th></th>\n",
        "      <th></th>\n",
        "    </tr>\n",
        "  </thead>\n",
        "  <tbody>\n",
        "    <tr>\n",
        "      <th>GSE13052</th>\n",
        "      <td>   9</td>\n",
        "      <td>  9</td>\n",
        "    </tr>\n",
        "    <tr>\n",
        "      <th>GSE17924</th>\n",
        "      <td>  16</td>\n",
        "      <td> 32</td>\n",
        "    </tr>\n",
        "    <tr>\n",
        "      <th>GSE18090</th>\n",
        "      <td>   8</td>\n",
        "      <td> 10</td>\n",
        "    </tr>\n",
        "    <tr>\n",
        "      <th>GSE25001</th>\n",
        "      <td>  89</td>\n",
        "      <td> 37</td>\n",
        "    </tr>\n",
        "    <tr>\n",
        "      <th>GSE25226</th>\n",
        "      <td>  20</td>\n",
        "      <td> 14</td>\n",
        "    </tr>\n",
        "    <tr>\n",
        "      <th>GSE38246</th>\n",
        "      <td>  50</td>\n",
        "      <td> 45</td>\n",
        "    </tr>\n",
        "    <tr>\n",
        "      <th>GSE40628</th>\n",
        "      <td>   6</td>\n",
        "      <td>  7</td>\n",
        "    </tr>\n",
        "    <tr>\n",
        "      <th>GSE43777</th>\n",
        "      <td> 154</td>\n",
        "      <td> 43</td>\n",
        "    </tr>\n",
        "  </tbody>\n",
        "</table>\n",
        "</div>"
       ],
       "metadata": {},
       "output_type": "pyout",
       "prompt_number": 13,
       "text": [
        "              GSM    \n",
        "sample_class    0   1\n",
        "GSE                  \n",
        "GSE13052        9   9\n",
        "GSE17924       16  32\n",
        "GSE18090        8  10\n",
        "GSE25001       89  37\n",
        "GSE25226       20  14\n",
        "GSE38246       50  45\n",
        "GSE40628        6   7\n",
        "GSE43777      154  43"
       ]
      }
     ],
     "prompt_number": 13
    },
    {
     "cell_type": "heading",
     "level": 1,
     "metadata": {
      "internals": {
       "slide_type": "subslide"
      },
      "slideshow": {
       "slide_type": "slide"
      }
     },
     "source": [
      "Manual curation is tedious!"
     ]
    },
    {
     "cell_type": "code",
     "collapsed": false,
     "input": [
      "annotation_summary"
     ],
     "language": "python",
     "metadata": {
      "internals": {
       "slide_helper": "subslide_end"
      },
      "slide_helper": "slide_end",
      "slideshow": {
       "slide_type": "-"
      }
     },
     "outputs": [
      {
       "html": [
        "<div style=\"max-height:1000px;max-width:1500px;overflow:auto;\">\n",
        "<table border=\"1\" class=\"dataframe\">\n",
        "  <thead>\n",
        "    <tr style=\"text-align: right;\">\n",
        "      <th></th>\n",
        "      <th></th>\n",
        "      <th></th>\n",
        "      <th></th>\n",
        "      <th>phase</th>\n",
        "      <th>Convalescent</th>\n",
        "      <th>Early_Acute</th>\n",
        "      <th>Late_Acute</th>\n",
        "      <th>Later</th>\n",
        "      <th>Unknown</th>\n",
        "    </tr>\n",
        "    <tr>\n",
        "      <th>GSE</th>\n",
        "      <th>GPL</th>\n",
        "      <th>caseQueries</th>\n",
        "      <th>controlQueries</th>\n",
        "      <th>sample_class</th>\n",
        "      <th></th>\n",
        "      <th></th>\n",
        "      <th></th>\n",
        "      <th></th>\n",
        "      <th></th>\n",
        "    </tr>\n",
        "  </thead>\n",
        "  <tbody>\n",
        "    <tr>\n",
        "      <th rowspan=\"2\" valign=\"top\">GSE13052</th>\n",
        "      <th rowspan=\"2\" valign=\"top\">GPL2700</th>\n",
        "      <th rowspan=\"2\" valign=\"top\">DSS</th>\n",
        "      <th rowspan=\"2\" valign=\"top\">uncomplicated dengue</th>\n",
        "      <th> 0</th>\n",
        "      <td>  6</td>\n",
        "      <td>   </td>\n",
        "      <td>  9</td>\n",
        "      <td>   </td>\n",
        "      <td>  </td>\n",
        "    </tr>\n",
        "    <tr>\n",
        "      <th> 1</th>\n",
        "      <td>  6</td>\n",
        "      <td>   </td>\n",
        "      <td>  9</td>\n",
        "      <td>   </td>\n",
        "      <td>  </td>\n",
        "    </tr>\n",
        "    <tr>\n",
        "      <th rowspan=\"2\" valign=\"top\">GSE17924</th>\n",
        "      <th rowspan=\"2\" valign=\"top\">GPL4133</th>\n",
        "      <th rowspan=\"2\" valign=\"top\">DSS|DHF</th>\n",
        "      <th rowspan=\"2\" valign=\"top\">DF</th>\n",
        "      <th> 0</th>\n",
        "      <td>   </td>\n",
        "      <td>  2</td>\n",
        "      <td> 14</td>\n",
        "      <td>   </td>\n",
        "      <td>  </td>\n",
        "    </tr>\n",
        "    <tr>\n",
        "      <th> 1</th>\n",
        "      <td>   </td>\n",
        "      <td>  1</td>\n",
        "      <td> 31</td>\n",
        "      <td>   </td>\n",
        "      <td>  </td>\n",
        "    </tr>\n",
        "    <tr>\n",
        "      <th rowspan=\"3\" valign=\"top\">GSE18090</th>\n",
        "      <th rowspan=\"3\" valign=\"top\">GPL570</th>\n",
        "      <th rowspan=\"3\" valign=\"top\">DHF</th>\n",
        "      <th rowspan=\"3\" valign=\"top\">DF</th>\n",
        "      <th>-1</th>\n",
        "      <td>   </td>\n",
        "      <td>  1</td>\n",
        "      <td>  7</td>\n",
        "      <td>   </td>\n",
        "      <td>  </td>\n",
        "    </tr>\n",
        "    <tr>\n",
        "      <th> 0</th>\n",
        "      <td>   </td>\n",
        "      <td>  2</td>\n",
        "      <td>  6</td>\n",
        "      <td>   </td>\n",
        "      <td>  </td>\n",
        "    </tr>\n",
        "    <tr>\n",
        "      <th> 1</th>\n",
        "      <td>   </td>\n",
        "      <td>  1</td>\n",
        "      <td>  9</td>\n",
        "      <td>   </td>\n",
        "      <td>  </td>\n",
        "    </tr>\n",
        "    <tr>\n",
        "      <th rowspan=\"2\" valign=\"top\">GSE25001</th>\n",
        "      <th rowspan=\"2\" valign=\"top\">GPL6104</th>\n",
        "      <th rowspan=\"2\" valign=\"top\">dengue shock syndrome</th>\n",
        "      <th rowspan=\"2\" valign=\"top\">uncomplicated dengue</th>\n",
        "      <th> 0</th>\n",
        "      <td> 16</td>\n",
        "      <td> 39</td>\n",
        "      <td> 50</td>\n",
        "      <td> 30</td>\n",
        "      <td>  </td>\n",
        "    </tr>\n",
        "    <tr>\n",
        "      <th> 1</th>\n",
        "      <td> 18</td>\n",
        "      <td> 18</td>\n",
        "      <td> 19</td>\n",
        "      <td> 19</td>\n",
        "      <td>  </td>\n",
        "    </tr>\n",
        "    <tr>\n",
        "      <th rowspan=\"3\" valign=\"top\">GSE25226</th>\n",
        "      <th rowspan=\"3\" valign=\"top\">GPL5621</th>\n",
        "      <th rowspan=\"3\" valign=\"top\">dengue shock syndrome|dengue hemorrhagic fever</th>\n",
        "      <th rowspan=\"3\" valign=\"top\">dengue fever</th>\n",
        "      <th>-1</th>\n",
        "      <td>  6</td>\n",
        "      <td>   </td>\n",
        "      <td>  4</td>\n",
        "      <td>   </td>\n",
        "      <td>  </td>\n",
        "    </tr>\n",
        "    <tr>\n",
        "      <th> 0</th>\n",
        "      <td>   </td>\n",
        "      <td>   </td>\n",
        "      <td> 20</td>\n",
        "      <td>   </td>\n",
        "      <td>  </td>\n",
        "    </tr>\n",
        "    <tr>\n",
        "      <th> 1</th>\n",
        "      <td>   </td>\n",
        "      <td>   </td>\n",
        "      <td> 14</td>\n",
        "      <td>   </td>\n",
        "      <td>  </td>\n",
        "    </tr>\n",
        "    <tr>\n",
        "      <th rowspan=\"2\" valign=\"top\">GSE38246</th>\n",
        "      <th rowspan=\"2\" valign=\"top\">GPL15615</th>\n",
        "      <th rowspan=\"2\" valign=\"top\">DSS|DHF</th>\n",
        "      <th rowspan=\"2\" valign=\"top\">DF</th>\n",
        "      <th> 0</th>\n",
        "      <td>   </td>\n",
        "      <td> 11</td>\n",
        "      <td> 39</td>\n",
        "      <td>  2</td>\n",
        "      <td> 1</td>\n",
        "    </tr>\n",
        "    <tr>\n",
        "      <th> 1</th>\n",
        "      <td>   </td>\n",
        "      <td>  9</td>\n",
        "      <td> 36</td>\n",
        "      <td>  4</td>\n",
        "      <td> 3</td>\n",
        "    </tr>\n",
        "    <tr>\n",
        "      <th rowspan=\"3\" valign=\"top\">GSE40628</th>\n",
        "      <th rowspan=\"3\" valign=\"top\">GPL16021</th>\n",
        "      <th rowspan=\"3\" valign=\"top\">WHO stage 3|WHO stage 4</th>\n",
        "      <th rowspan=\"3\" valign=\"top\">WHO stage 1|WHO stage 2</th>\n",
        "      <th>-1</th>\n",
        "      <td>   </td>\n",
        "      <td>   </td>\n",
        "      <td>  4</td>\n",
        "      <td>  3</td>\n",
        "      <td>  </td>\n",
        "    </tr>\n",
        "    <tr>\n",
        "      <th> 0</th>\n",
        "      <td>   </td>\n",
        "      <td>  1</td>\n",
        "      <td>  5</td>\n",
        "      <td>  4</td>\n",
        "      <td>  </td>\n",
        "    </tr>\n",
        "    <tr>\n",
        "      <th> 1</th>\n",
        "      <td>   </td>\n",
        "      <td>   </td>\n",
        "      <td>  7</td>\n",
        "      <td>  6</td>\n",
        "      <td>  </td>\n",
        "    </tr>\n",
        "    <tr>\n",
        "      <th rowspan=\"4\" valign=\"top\">GSE43777</th>\n",
        "      <th rowspan=\"2\" valign=\"top\">GPL201</th>\n",
        "      <th rowspan=\"2\" valign=\"top\">DHF</th>\n",
        "      <th rowspan=\"2\" valign=\"top\">DF</th>\n",
        "      <th> 0</th>\n",
        "      <td> 45</td>\n",
        "      <td> 46</td>\n",
        "      <td> 68</td>\n",
        "      <td>   </td>\n",
        "      <td>  </td>\n",
        "    </tr>\n",
        "    <tr>\n",
        "      <th> 1</th>\n",
        "      <td>  3</td>\n",
        "      <td>  1</td>\n",
        "      <td>  5</td>\n",
        "      <td>   </td>\n",
        "      <td>  </td>\n",
        "    </tr>\n",
        "    <tr>\n",
        "      <th rowspan=\"2\" valign=\"top\">GPL570</th>\n",
        "      <th rowspan=\"2\" valign=\"top\">DHF</th>\n",
        "      <th rowspan=\"2\" valign=\"top\">DF</th>\n",
        "      <th> 0</th>\n",
        "      <td> 12</td>\n",
        "      <td> 15</td>\n",
        "      <td> 25</td>\n",
        "      <td>   </td>\n",
        "      <td>  </td>\n",
        "    </tr>\n",
        "    <tr>\n",
        "      <th> 1</th>\n",
        "      <td> 12</td>\n",
        "      <td> 11</td>\n",
        "      <td> 26</td>\n",
        "      <td>   </td>\n",
        "      <td>  </td>\n",
        "    </tr>\n",
        "  </tbody>\n",
        "</table>\n",
        "</div>"
       ],
       "metadata": {},
       "output_type": "pyout",
       "prompt_number": 14,
       "text": [
        "phase                                                                                                 Convalescent  \\\n",
        "GSE      GPL      caseQueries                                    controlQueries          sample_class                \n",
        "GSE13052 GPL2700  DSS                                            uncomplicated dengue     0                      6   \n",
        "                                                                                          1                      6   \n",
        "GSE17924 GPL4133  DSS|DHF                                        DF                       0                          \n",
        "                                                                                          1                          \n",
        "GSE18090 GPL570   DHF                                            DF                      -1                          \n",
        "                                                                                          0                          \n",
        "                                                                                          1                          \n",
        "GSE25001 GPL6104  dengue shock syndrome                          uncomplicated dengue     0                     16   \n",
        "                                                                                          1                     18   \n",
        "GSE25226 GPL5621  dengue shock syndrome|dengue hemorrhagic fever dengue fever            -1                      6   \n",
        "                                                                                          0                          \n",
        "                                                                                          1                          \n",
        "GSE38246 GPL15615 DSS|DHF                                        DF                       0                          \n",
        "                                                                                          1                          \n",
        "GSE40628 GPL16021 WHO stage 3|WHO stage 4                        WHO stage 1|WHO stage 2 -1                          \n",
        "                                                                                          0                          \n",
        "                                                                                          1                          \n",
        "GSE43777 GPL201   DHF                                            DF                       0                     45   \n",
        "                                                                                          1                      3   \n",
        "         GPL570   DHF                                            DF                       0                     12   \n",
        "                                                                                          1                     12   \n",
        "\n",
        "phase                                                                                                 Early_Acute  \\\n",
        "GSE      GPL      caseQueries                                    controlQueries          sample_class               \n",
        "GSE13052 GPL2700  DSS                                            uncomplicated dengue     0                         \n",
        "                                                                                          1                         \n",
        "GSE17924 GPL4133  DSS|DHF                                        DF                       0                     2   \n",
        "                                                                                          1                     1   \n",
        "GSE18090 GPL570   DHF                                            DF                      -1                     1   \n",
        "                                                                                          0                     2   \n",
        "                                                                                          1                     1   \n",
        "GSE25001 GPL6104  dengue shock syndrome                          uncomplicated dengue     0                    39   \n",
        "                                                                                          1                    18   \n",
        "GSE25226 GPL5621  dengue shock syndrome|dengue hemorrhagic fever dengue fever            -1                         \n",
        "                                                                                          0                         \n",
        "                                                                                          1                         \n",
        "GSE38246 GPL15615 DSS|DHF                                        DF                       0                    11   \n",
        "                                                                                          1                     9   \n",
        "GSE40628 GPL16021 WHO stage 3|WHO stage 4                        WHO stage 1|WHO stage 2 -1                         \n",
        "                                                                                          0                     1   \n",
        "                                                                                          1                         \n",
        "GSE43777 GPL201   DHF                                            DF                       0                    46   \n",
        "                                                                                          1                     1   \n",
        "         GPL570   DHF                                            DF                       0                    15   \n",
        "                                                                                          1                    11   \n",
        "\n",
        "phase                                                                                                  Late_Acute  \\\n",
        "GSE      GPL      caseQueries                                    controlQueries          sample_class               \n",
        "GSE13052 GPL2700  DSS                                            uncomplicated dengue     0                     9   \n",
        "                                                                                          1                     9   \n",
        "GSE17924 GPL4133  DSS|DHF                                        DF                       0                    14   \n",
        "                                                                                          1                    31   \n",
        "GSE18090 GPL570   DHF                                            DF                      -1                     7   \n",
        "                                                                                          0                     6   \n",
        "                                                                                          1                     9   \n",
        "GSE25001 GPL6104  dengue shock syndrome                          uncomplicated dengue     0                    50   \n",
        "                                                                                          1                    19   \n",
        "GSE25226 GPL5621  dengue shock syndrome|dengue hemorrhagic fever dengue fever            -1                     4   \n",
        "                                                                                          0                    20   \n",
        "                                                                                          1                    14   \n",
        "GSE38246 GPL15615 DSS|DHF                                        DF                       0                    39   \n",
        "                                                                                          1                    36   \n",
        "GSE40628 GPL16021 WHO stage 3|WHO stage 4                        WHO stage 1|WHO stage 2 -1                     4   \n",
        "                                                                                          0                     5   \n",
        "                                                                                          1                     7   \n",
        "GSE43777 GPL201   DHF                                            DF                       0                    68   \n",
        "                                                                                          1                     5   \n",
        "         GPL570   DHF                                            DF                       0                    25   \n",
        "                                                                                          1                    26   \n",
        "\n",
        "phase                                                                                                 Later  \\\n",
        "GSE      GPL      caseQueries                                    controlQueries          sample_class         \n",
        "GSE13052 GPL2700  DSS                                            uncomplicated dengue     0                   \n",
        "                                                                                          1                   \n",
        "GSE17924 GPL4133  DSS|DHF                                        DF                       0                   \n",
        "                                                                                          1                   \n",
        "GSE18090 GPL570   DHF                                            DF                      -1                   \n",
        "                                                                                          0                   \n",
        "                                                                                          1                   \n",
        "GSE25001 GPL6104  dengue shock syndrome                          uncomplicated dengue     0              30   \n",
        "                                                                                          1              19   \n",
        "GSE25226 GPL5621  dengue shock syndrome|dengue hemorrhagic fever dengue fever            -1                   \n",
        "                                                                                          0                   \n",
        "                                                                                          1                   \n",
        "GSE38246 GPL15615 DSS|DHF                                        DF                       0               2   \n",
        "                                                                                          1               4   \n",
        "GSE40628 GPL16021 WHO stage 3|WHO stage 4                        WHO stage 1|WHO stage 2 -1               3   \n",
        "                                                                                          0               4   \n",
        "                                                                                          1               6   \n",
        "GSE43777 GPL201   DHF                                            DF                       0                   \n",
        "                                                                                          1                   \n",
        "         GPL570   DHF                                            DF                       0                   \n",
        "                                                                                          1                   \n",
        "\n",
        "phase                                                                                                 Unknown  \n",
        "GSE      GPL      caseQueries                                    controlQueries          sample_class          \n",
        "GSE13052 GPL2700  DSS                                            uncomplicated dengue     0                    \n",
        "                                                                                          1                    \n",
        "GSE17924 GPL4133  DSS|DHF                                        DF                       0                    \n",
        "                                                                                          1                    \n",
        "GSE18090 GPL570   DHF                                            DF                      -1                    \n",
        "                                                                                          0                    \n",
        "                                                                                          1                    \n",
        "GSE25001 GPL6104  dengue shock syndrome                          uncomplicated dengue     0                    \n",
        "                                                                                          1                    \n",
        "GSE25226 GPL5621  dengue shock syndrome|dengue hemorrhagic fever dengue fever            -1                    \n",
        "                                                                                          0                    \n",
        "                                                                                          1                    \n",
        "GSE38246 GPL15615 DSS|DHF                                        DF                       0                 1  \n",
        "                                                                                          1                 3  \n",
        "GSE40628 GPL16021 WHO stage 3|WHO stage 4                        WHO stage 1|WHO stage 2 -1                    \n",
        "                                                                                          0                    \n",
        "                                                                                          1                    \n",
        "GSE43777 GPL201   DHF                                            DF                       0                    \n",
        "                                                                                          1                    \n",
        "         GPL570   DHF                                            DF                       0                    \n",
        "                                                                                          1                    "
       ]
      }
     ],
     "prompt_number": 14
    },
    {
     "cell_type": "code",
     "collapsed": false,
     "input": [
      "meta = pd.read_csv('dss_dhf.acute.meta.csv')\n",
      "meta.columns = [col.replace(\".\",\"_\") for col in meta.columns]\n",
      "meta = meta.query('k>2 and pval_random < 0.001')\\\n",
      "    .sort('pval_random').set_index(\"myGeneSym\")\n",
      "def uniCat(fields, fieldSep=\"; \"):\n",
      "    \"Unique concatenation of \"\n",
      "    return fieldSep.join([str(i) for i in set(fields)])\n",
      "\n",
      "samr = pd.read_csv('dss_dhf.samr.acutePhase.csv')\n",
      "samr['absFc'] = abs(samr.log2foldChange)\n",
      "samrMeta = samr.dropna(subset=['myGeneSym', 'log2foldChange']) \\\n",
      "    .groupby([\"myGeneSym\", \"direction\"]) \\\n",
      "    .agg({\"gse\": pd.Series.nunique,\n",
      "          \"gpl\": pd.Series.nunique,\n",
      "          \"subset\": uniCat,\n",
      "          \"absFc\": pd.Series.max,\n",
      "          \"Gene Name\": uniCat,\n",
      "          \"myGeneId\": uniCat}) \\\n",
      "    .query('gpl>3') \\\n",
      "    .reset_index() \\\n",
      "    .set_index([\"myGeneSym\"]) \\\n",
      "    .sort(\"absFc\", ascending=False)\n",
      "robust = meta.join(samrMeta, how = \"inner\")['direction k caseDataCount controlDataCount TE_fixed TE_random pval_fixed pval_random absFc gpl gse'.split()]"
     ],
     "language": "python",
     "metadata": {
      "internals": {
       "slide_helper": "subslide_end"
      },
      "slide_helper": "slide_end",
      "slideshow": {
       "slide_type": "skip"
      }
     },
     "outputs": [],
     "prompt_number": 15
    },
    {
     "cell_type": "heading",
     "level": 1,
     "metadata": {
      "internals": {
       "slide_type": "subslide"
      },
      "slideshow": {
       "slide_type": "slide"
      }
     },
     "source": [
      "Robust gene signature for severe dengue"
     ]
    },
    {
     "cell_type": "code",
     "collapsed": false,
     "input": [
      "robust"
     ],
     "language": "python",
     "metadata": {
      "internals": {
       "slide_helper": "subslide_end"
      },
      "slide_helper": "subslide_end",
      "slideshow": {
       "slide_type": "-"
      }
     },
     "outputs": [
      {
       "html": [
        "<div style=\"max-height:1000px;max-width:1500px;overflow:auto;\">\n",
        "<table border=\"1\" class=\"dataframe\">\n",
        "  <thead>\n",
        "    <tr style=\"text-align: right;\">\n",
        "      <th></th>\n",
        "      <th>direction</th>\n",
        "      <th>k</th>\n",
        "      <th>caseDataCount</th>\n",
        "      <th>controlDataCount</th>\n",
        "      <th>TE_fixed</th>\n",
        "      <th>TE_random</th>\n",
        "      <th>pval_fixed</th>\n",
        "      <th>pval_random</th>\n",
        "      <th>absFc</th>\n",
        "      <th>gpl</th>\n",
        "      <th>gse</th>\n",
        "    </tr>\n",
        "    <tr>\n",
        "      <th>myGeneSym</th>\n",
        "      <th></th>\n",
        "      <th></th>\n",
        "      <th></th>\n",
        "      <th></th>\n",
        "      <th></th>\n",
        "      <th></th>\n",
        "      <th></th>\n",
        "      <th></th>\n",
        "      <th></th>\n",
        "      <th></th>\n",
        "      <th></th>\n",
        "    </tr>\n",
        "  </thead>\n",
        "  <tbody>\n",
        "    <tr>\n",
        "      <th>CEACAM8</th>\n",
        "      <td>   up</td>\n",
        "      <td>  8</td>\n",
        "      <td> 128</td>\n",
        "      <td> 226</td>\n",
        "      <td> 0.500616</td>\n",
        "      <td> 0.975921</td>\n",
        "      <td> 6.076384e-11</td>\n",
        "      <td> 0.000034</td>\n",
        "      <td> 2.179</td>\n",
        "      <td> 5</td>\n",
        "      <td> 4</td>\n",
        "    </tr>\n",
        "    <tr>\n",
        "      <th>PGLYRP1</th>\n",
        "      <td>   up</td>\n",
        "      <td>  8</td>\n",
        "      <td> 128</td>\n",
        "      <td> 226</td>\n",
        "      <td> 0.257277</td>\n",
        "      <td> 0.843716</td>\n",
        "      <td> 5.881097e-08</td>\n",
        "      <td> 0.000279</td>\n",
        "      <td> 2.012</td>\n",
        "      <td> 5</td>\n",
        "      <td> 4</td>\n",
        "    </tr>\n",
        "    <tr>\n",
        "      <th>MMP8</th>\n",
        "      <td>   up</td>\n",
        "      <td>  8</td>\n",
        "      <td> 128</td>\n",
        "      <td> 226</td>\n",
        "      <td> 0.578177</td>\n",
        "      <td> 0.722854</td>\n",
        "      <td> 5.664358e-12</td>\n",
        "      <td> 0.000005</td>\n",
        "      <td> 1.762</td>\n",
        "      <td> 4</td>\n",
        "      <td> 3</td>\n",
        "    </tr>\n",
        "    <tr>\n",
        "      <th>DEFA4</th>\n",
        "      <td>   up</td>\n",
        "      <td>  9</td>\n",
        "      <td> 135</td>\n",
        "      <td> 231</td>\n",
        "      <td> 0.416801</td>\n",
        "      <td> 0.870403</td>\n",
        "      <td> 3.096065e-08</td>\n",
        "      <td> 0.000836</td>\n",
        "      <td> 1.663</td>\n",
        "      <td> 5</td>\n",
        "      <td> 4</td>\n",
        "    </tr>\n",
        "    <tr>\n",
        "      <th>ORM1</th>\n",
        "      <td>   up</td>\n",
        "      <td> 10</td>\n",
        "      <td> 175</td>\n",
        "      <td> 210</td>\n",
        "      <td> 0.202684</td>\n",
        "      <td> 0.641718</td>\n",
        "      <td> 4.649591e-06</td>\n",
        "      <td> 0.000745</td>\n",
        "      <td> 1.417</td>\n",
        "      <td> 4</td>\n",
        "      <td> 4</td>\n",
        "    </tr>\n",
        "    <tr>\n",
        "      <th>ARG1</th>\n",
        "      <td>   up</td>\n",
        "      <td>  9</td>\n",
        "      <td> 135</td>\n",
        "      <td> 231</td>\n",
        "      <td> 0.367484</td>\n",
        "      <td> 0.521617</td>\n",
        "      <td> 5.018208e-14</td>\n",
        "      <td> 0.000004</td>\n",
        "      <td> 1.370</td>\n",
        "      <td> 5</td>\n",
        "      <td> 4</td>\n",
        "    </tr>\n",
        "    <tr>\n",
        "      <th>CEACAM6</th>\n",
        "      <td>   up</td>\n",
        "      <td>  9</td>\n",
        "      <td> 135</td>\n",
        "      <td> 231</td>\n",
        "      <td> 0.570631</td>\n",
        "      <td> 0.650184</td>\n",
        "      <td> 5.535201e-10</td>\n",
        "      <td> 0.000305</td>\n",
        "      <td> 1.320</td>\n",
        "      <td> 5</td>\n",
        "      <td> 4</td>\n",
        "    </tr>\n",
        "    <tr>\n",
        "      <th>CTSG</th>\n",
        "      <td>   up</td>\n",
        "      <td> 10</td>\n",
        "      <td> 144</td>\n",
        "      <td> 241</td>\n",
        "      <td> 0.355576</td>\n",
        "      <td> 0.614036</td>\n",
        "      <td> 1.077524e-09</td>\n",
        "      <td> 0.000063</td>\n",
        "      <td> 1.212</td>\n",
        "      <td> 5</td>\n",
        "      <td> 4</td>\n",
        "    </tr>\n",
        "    <tr>\n",
        "      <th>OLFM4</th>\n",
        "      <td>   up</td>\n",
        "      <td>  8</td>\n",
        "      <td> 130</td>\n",
        "      <td> 163</td>\n",
        "      <td> 0.410424</td>\n",
        "      <td> 0.451996</td>\n",
        "      <td> 1.202883e-07</td>\n",
        "      <td> 0.000758</td>\n",
        "      <td> 1.183</td>\n",
        "      <td> 4</td>\n",
        "      <td> 4</td>\n",
        "    </tr>\n",
        "    <tr>\n",
        "      <th>ELANE</th>\n",
        "      <td>   up</td>\n",
        "      <td>  8</td>\n",
        "      <td> 128</td>\n",
        "      <td> 226</td>\n",
        "      <td> 0.357361</td>\n",
        "      <td> 0.807227</td>\n",
        "      <td> 2.196857e-08</td>\n",
        "      <td> 0.000163</td>\n",
        "      <td> 1.151</td>\n",
        "      <td> 5</td>\n",
        "      <td> 4</td>\n",
        "    </tr>\n",
        "    <tr>\n",
        "      <th>BPI</th>\n",
        "      <td>   up</td>\n",
        "      <td>  9</td>\n",
        "      <td> 135</td>\n",
        "      <td> 231</td>\n",
        "      <td> 0.357946</td>\n",
        "      <td> 0.565096</td>\n",
        "      <td> 3.322177e-07</td>\n",
        "      <td> 0.000668</td>\n",
        "      <td> 1.147</td>\n",
        "      <td> 5</td>\n",
        "      <td> 4</td>\n",
        "    </tr>\n",
        "    <tr>\n",
        "      <th>ORM2</th>\n",
        "      <td>   up</td>\n",
        "      <td> 10</td>\n",
        "      <td> 173</td>\n",
        "      <td> 273</td>\n",
        "      <td> 0.255299</td>\n",
        "      <td> 0.353399</td>\n",
        "      <td> 1.873266e-09</td>\n",
        "      <td> 0.000005</td>\n",
        "      <td> 1.132</td>\n",
        "      <td> 4</td>\n",
        "      <td> 3</td>\n",
        "    </tr>\n",
        "    <tr>\n",
        "      <th>TGFBR3</th>\n",
        "      <td> down</td>\n",
        "      <td> 10</td>\n",
        "      <td> 144</td>\n",
        "      <td> 241</td>\n",
        "      <td>-0.165094</td>\n",
        "      <td>-0.305863</td>\n",
        "      <td> 7.611686e-07</td>\n",
        "      <td> 0.000430</td>\n",
        "      <td> 0.689</td>\n",
        "      <td> 4</td>\n",
        "      <td> 3</td>\n",
        "    </tr>\n",
        "    <tr>\n",
        "      <th>CYP4F3</th>\n",
        "      <td>   up</td>\n",
        "      <td>  9</td>\n",
        "      <td> 135</td>\n",
        "      <td> 231</td>\n",
        "      <td> 0.141503</td>\n",
        "      <td> 0.399801</td>\n",
        "      <td> 7.594477e-04</td>\n",
        "      <td> 0.000769</td>\n",
        "      <td> 0.654</td>\n",
        "      <td> 4</td>\n",
        "      <td> 4</td>\n",
        "    </tr>\n",
        "    <tr>\n",
        "      <th>ACOX2</th>\n",
        "      <td>   up</td>\n",
        "      <td>  8</td>\n",
        "      <td> 128</td>\n",
        "      <td> 226</td>\n",
        "      <td> 0.247159</td>\n",
        "      <td> 0.279602</td>\n",
        "      <td> 1.948648e-07</td>\n",
        "      <td> 0.000269</td>\n",
        "      <td> 0.427</td>\n",
        "      <td> 5</td>\n",
        "      <td> 4</td>\n",
        "    </tr>\n",
        "    <tr>\n",
        "      <th>WDR1</th>\n",
        "      <td> down</td>\n",
        "      <td> 11</td>\n",
        "      <td> 156</td>\n",
        "      <td> 255</td>\n",
        "      <td>-0.030170</td>\n",
        "      <td>-0.238189</td>\n",
        "      <td> 1.756270e-05</td>\n",
        "      <td> 0.000869</td>\n",
        "      <td> 0.346</td>\n",
        "      <td> 4</td>\n",
        "      <td> 4</td>\n",
        "    </tr>\n",
        "    <tr>\n",
        "      <th>FSTL3</th>\n",
        "      <td>   up</td>\n",
        "      <td>  9</td>\n",
        "      <td> 137</td>\n",
        "      <td> 236</td>\n",
        "      <td> 0.118795</td>\n",
        "      <td> 0.144712</td>\n",
        "      <td> 3.427163e-06</td>\n",
        "      <td> 0.000194</td>\n",
        "      <td> 0.343</td>\n",
        "      <td> 4</td>\n",
        "      <td> 4</td>\n",
        "    </tr>\n",
        "  </tbody>\n",
        "</table>\n",
        "</div>"
       ],
       "metadata": {},
       "output_type": "pyout",
       "prompt_number": 16,
       "text": [
        "          direction   k  caseDataCount  controlDataCount  TE_fixed  TE_random  \\\n",
        "myGeneSym                                                                       \n",
        "CEACAM8          up   8            128               226  0.500616   0.975921   \n",
        "PGLYRP1          up   8            128               226  0.257277   0.843716   \n",
        "MMP8             up   8            128               226  0.578177   0.722854   \n",
        "DEFA4            up   9            135               231  0.416801   0.870403   \n",
        "ORM1             up  10            175               210  0.202684   0.641718   \n",
        "ARG1             up   9            135               231  0.367484   0.521617   \n",
        "CEACAM6          up   9            135               231  0.570631   0.650184   \n",
        "CTSG             up  10            144               241  0.355576   0.614036   \n",
        "OLFM4            up   8            130               163  0.410424   0.451996   \n",
        "ELANE            up   8            128               226  0.357361   0.807227   \n",
        "BPI              up   9            135               231  0.357946   0.565096   \n",
        "ORM2             up  10            173               273  0.255299   0.353399   \n",
        "TGFBR3         down  10            144               241 -0.165094  -0.305863   \n",
        "CYP4F3           up   9            135               231  0.141503   0.399801   \n",
        "ACOX2            up   8            128               226  0.247159   0.279602   \n",
        "WDR1           down  11            156               255 -0.030170  -0.238189   \n",
        "FSTL3            up   9            137               236  0.118795   0.144712   \n",
        "\n",
        "             pval_fixed  pval_random  absFc  gpl  gse  \n",
        "myGeneSym                                              \n",
        "CEACAM8    6.076384e-11     0.000034  2.179    5    4  \n",
        "PGLYRP1    5.881097e-08     0.000279  2.012    5    4  \n",
        "MMP8       5.664358e-12     0.000005  1.762    4    3  \n",
        "DEFA4      3.096065e-08     0.000836  1.663    5    4  \n",
        "ORM1       4.649591e-06     0.000745  1.417    4    4  \n",
        "ARG1       5.018208e-14     0.000004  1.370    5    4  \n",
        "CEACAM6    5.535201e-10     0.000305  1.320    5    4  \n",
        "CTSG       1.077524e-09     0.000063  1.212    5    4  \n",
        "OLFM4      1.202883e-07     0.000758  1.183    4    4  \n",
        "ELANE      2.196857e-08     0.000163  1.151    5    4  \n",
        "BPI        3.322177e-07     0.000668  1.147    5    4  \n",
        "ORM2       1.873266e-09     0.000005  1.132    4    3  \n",
        "TGFBR3     7.611686e-07     0.000430  0.689    4    3  \n",
        "CYP4F3     7.594477e-04     0.000769  0.654    4    4  \n",
        "ACOX2      1.948648e-07     0.000269  0.427    5    4  \n",
        "WDR1       1.756270e-05     0.000869  0.346    4    4  \n",
        "FSTL3      3.427163e-06     0.000194  0.343    4    4  "
       ]
      }
     ],
     "prompt_number": 16
    },
    {
     "cell_type": "code",
     "collapsed": false,
     "input": [
      "getWikipedia(\"Meta-analysis\")"
     ],
     "language": "python",
     "metadata": {
      "internals": {
       "slide_helper": "subslide_end",
       "slide_type": "subslide"
      },
      "slide_helper": "subslide_end",
      "slideshow": {
       "slide_type": "subslide"
      }
     },
     "outputs": [
      {
       "html": [
        "<iframe src=http://en.m.wikipedia.org/wiki/meta-analysis height=400 width=800></iframe>"
       ],
       "metadata": {},
       "output_type": "pyout",
       "prompt_number": 17,
       "text": [
        "<IPython.core.display.HTML at 0x106778e50>"
       ]
      }
     ],
     "prompt_number": 17
    },
    {
     "cell_type": "code",
     "collapsed": false,
     "input": [
      "meta.head(20)"
     ],
     "language": "python",
     "metadata": {
      "internals": {
       "slide_helper": "subslide_end",
       "slide_type": "subslide"
      },
      "slide_helper": "subslide_end",
      "slideshow": {
       "slide_type": "subslide"
      }
     },
     "outputs": [
      {
       "html": [
        "<div style=\"max-height:1000px;max-width:1500px;overflow:auto;\">\n",
        "<table border=\"1\" class=\"dataframe\">\n",
        "  <thead>\n",
        "    <tr style=\"text-align: right;\">\n",
        "      <th></th>\n",
        "      <th>C</th>\n",
        "      <th>Q</th>\n",
        "      <th>TE_fixed</th>\n",
        "      <th>TE_random</th>\n",
        "      <th>alpha</th>\n",
        "      <th>alternative</th>\n",
        "      <th>caseDataCount</th>\n",
        "      <th>comb_fixed</th>\n",
        "      <th>comb_random</th>\n",
        "      <th>controlDataCount</th>\n",
        "      <th>...</th>\n",
        "      <th>seTE_predict</th>\n",
        "      <th>seTE_random</th>\n",
        "      <th>sm</th>\n",
        "      <th>tau</th>\n",
        "      <th>tau_common</th>\n",
        "      <th>upper_fixed</th>\n",
        "      <th>upper_predict</th>\n",
        "      <th>upper_random</th>\n",
        "      <th>zval_fixed</th>\n",
        "      <th>zval_random</th>\n",
        "    </tr>\n",
        "    <tr>\n",
        "      <th>myGeneSym</th>\n",
        "      <th></th>\n",
        "      <th></th>\n",
        "      <th></th>\n",
        "      <th></th>\n",
        "      <th></th>\n",
        "      <th></th>\n",
        "      <th></th>\n",
        "      <th></th>\n",
        "      <th></th>\n",
        "      <th></th>\n",
        "      <th></th>\n",
        "      <th></th>\n",
        "      <th></th>\n",
        "      <th></th>\n",
        "      <th></th>\n",
        "      <th></th>\n",
        "      <th></th>\n",
        "      <th></th>\n",
        "      <th></th>\n",
        "      <th></th>\n",
        "      <th></th>\n",
        "    </tr>\n",
        "  </thead>\n",
        "  <tbody>\n",
        "    <tr>\n",
        "      <th>LOC284219</th>\n",
        "      <td>   56.226844</td>\n",
        "      <td>  0.422073</td>\n",
        "      <td> 0.456832</td>\n",
        "      <td> 0.456832</td>\n",
        "      <td> 0.05</td>\n",
        "      <td>  larger</td>\n",
        "      <td>  46</td>\n",
        "      <td> True</td>\n",
        "      <td> True</td>\n",
        "      <td>  46</td>\n",
        "      <td>...</td>\n",
        "      <td> 0.074331</td>\n",
        "      <td> 0.074331</td>\n",
        "      <td> MD</td>\n",
        "      <td> 0.000000</td>\n",
        "      <td> False</td>\n",
        "      <td> 0.602518</td>\n",
        "      <td> 1.401297</td>\n",
        "      <td> 0.602518</td>\n",
        "      <td> 6.145911</td>\n",
        "      <td> 6.145911</td>\n",
        "    </tr>\n",
        "    <tr>\n",
        "      <th>COLCA1</th>\n",
        "      <td>   12.136628</td>\n",
        "      <td>  0.476979</td>\n",
        "      <td> 1.311279</td>\n",
        "      <td> 1.311279</td>\n",
        "      <td> 0.05</td>\n",
        "      <td>  larger</td>\n",
        "      <td>  46</td>\n",
        "      <td> True</td>\n",
        "      <td> True</td>\n",
        "      <td>  46</td>\n",
        "      <td>...</td>\n",
        "      <td> 0.214744</td>\n",
        "      <td> 0.214744</td>\n",
        "      <td> MD</td>\n",
        "      <td> 0.000000</td>\n",
        "      <td> False</td>\n",
        "      <td> 1.732170</td>\n",
        "      <td> 4.039865</td>\n",
        "      <td> 1.732170</td>\n",
        "      <td> 6.106229</td>\n",
        "      <td> 6.106229</td>\n",
        "    </tr>\n",
        "    <tr>\n",
        "      <th>FCRL6</th>\n",
        "      <td>  113.947260</td>\n",
        "      <td>  3.497460</td>\n",
        "      <td>-0.405312</td>\n",
        "      <td>-0.405312</td>\n",
        "      <td> 0.05</td>\n",
        "      <td> smaller</td>\n",
        "      <td>  91</td>\n",
        "      <td> True</td>\n",
        "      <td> True</td>\n",
        "      <td> 145</td>\n",
        "      <td>...</td>\n",
        "      <td> 0.072759</td>\n",
        "      <td> 0.072759</td>\n",
        "      <td> MD</td>\n",
        "      <td> 0.000000</td>\n",
        "      <td> False</td>\n",
        "      <td>-0.262707</td>\n",
        "      <td>-0.173760</td>\n",
        "      <td>-0.262707</td>\n",
        "      <td>-5.570607</td>\n",
        "      <td>-5.570607</td>\n",
        "    </tr>\n",
        "    <tr>\n",
        "      <th>CRISP2</th>\n",
        "      <td>  496.713113</td>\n",
        "      <td>  8.138336</td>\n",
        "      <td> 0.215215</td>\n",
        "      <td> 0.214802</td>\n",
        "      <td> 0.05</td>\n",
        "      <td>  larger</td>\n",
        "      <td> 135</td>\n",
        "      <td> True</td>\n",
        "      <td> True</td>\n",
        "      <td> 231</td>\n",
        "      <td>...</td>\n",
        "      <td> 0.043100</td>\n",
        "      <td> 0.039738</td>\n",
        "      <td> MD</td>\n",
        "      <td> 0.016688</td>\n",
        "      <td> False</td>\n",
        "      <td> 0.291384</td>\n",
        "      <td> 0.316717</td>\n",
        "      <td> 0.292687</td>\n",
        "      <td> 5.537860</td>\n",
        "      <td> 5.405468</td>\n",
        "    </tr>\n",
        "    <tr>\n",
        "      <th>HCG11</th>\n",
        "      <td>   24.953046</td>\n",
        "      <td>  1.552639</td>\n",
        "      <td>-0.808354</td>\n",
        "      <td>-0.808354</td>\n",
        "      <td> 0.05</td>\n",
        "      <td> smaller</td>\n",
        "      <td>  46</td>\n",
        "      <td> True</td>\n",
        "      <td> True</td>\n",
        "      <td>  46</td>\n",
        "      <td>...</td>\n",
        "      <td> 0.149724</td>\n",
        "      <td> 0.149724</td>\n",
        "      <td> MD</td>\n",
        "      <td> 0.000000</td>\n",
        "      <td> False</td>\n",
        "      <td>-0.514901</td>\n",
        "      <td> 1.094069</td>\n",
        "      <td>-0.514901</td>\n",
        "      <td>-5.398963</td>\n",
        "      <td>-5.398963</td>\n",
        "    </tr>\n",
        "    <tr>\n",
        "      <th>KIR2DS3</th>\n",
        "      <td>  295.695020</td>\n",
        "      <td>  4.730661</td>\n",
        "      <td>-0.252032</td>\n",
        "      <td>-0.252032</td>\n",
        "      <td> 0.05</td>\n",
        "      <td> smaller</td>\n",
        "      <td> 106</td>\n",
        "      <td> True</td>\n",
        "      <td> True</td>\n",
        "      <td> 222</td>\n",
        "      <td>...</td>\n",
        "      <td> 0.046703</td>\n",
        "      <td> 0.046703</td>\n",
        "      <td> MD</td>\n",
        "      <td> 0.000000</td>\n",
        "      <td> False</td>\n",
        "      <td>-0.160496</td>\n",
        "      <td>-0.137754</td>\n",
        "      <td>-0.160496</td>\n",
        "      <td>-5.396486</td>\n",
        "      <td>-5.396486</td>\n",
        "    </tr>\n",
        "    <tr>\n",
        "      <th>ID1</th>\n",
        "      <td>  234.921711</td>\n",
        "      <td>  7.218822</td>\n",
        "      <td> 0.287990</td>\n",
        "      <td> 0.287990</td>\n",
        "      <td> 0.05</td>\n",
        "      <td>  larger</td>\n",
        "      <td> 144</td>\n",
        "      <td> True</td>\n",
        "      <td> True</td>\n",
        "      <td> 241</td>\n",
        "      <td>...</td>\n",
        "      <td> 0.053785</td>\n",
        "      <td> 0.053785</td>\n",
        "      <td> MD</td>\n",
        "      <td> 0.000000</td>\n",
        "      <td> False</td>\n",
        "      <td> 0.393408</td>\n",
        "      <td> 0.412020</td>\n",
        "      <td> 0.393408</td>\n",
        "      <td> 5.354435</td>\n",
        "      <td> 5.354435</td>\n",
        "    </tr>\n",
        "    <tr>\n",
        "      <th>LOC389834</th>\n",
        "      <td>  133.566898</td>\n",
        "      <td>  4.301134</td>\n",
        "      <td> 0.372822</td>\n",
        "      <td> 0.377887</td>\n",
        "      <td> 0.05</td>\n",
        "      <td>  larger</td>\n",
        "      <td>  83</td>\n",
        "      <td> True</td>\n",
        "      <td> True</td>\n",
        "      <td> 135</td>\n",
        "      <td>...</td>\n",
        "      <td> 0.088637</td>\n",
        "      <td> 0.074846</td>\n",
        "      <td> MD</td>\n",
        "      <td> 0.047482</td>\n",
        "      <td> False</td>\n",
        "      <td> 0.509200</td>\n",
        "      <td> 0.659968</td>\n",
        "      <td> 0.524582</td>\n",
        "      <td> 5.358038</td>\n",
        "      <td> 5.048873</td>\n",
        "    </tr>\n",
        "    <tr>\n",
        "      <th>ZBED3-AS1</th>\n",
        "      <td>   44.558692</td>\n",
        "      <td>  0.286587</td>\n",
        "      <td> 0.452796</td>\n",
        "      <td> 0.452796</td>\n",
        "      <td> 0.05</td>\n",
        "      <td>  larger</td>\n",
        "      <td>  46</td>\n",
        "      <td> True</td>\n",
        "      <td> True</td>\n",
        "      <td>  46</td>\n",
        "      <td>...</td>\n",
        "      <td> 0.090371</td>\n",
        "      <td> 0.090371</td>\n",
        "      <td> MD</td>\n",
        "      <td> 0.000000</td>\n",
        "      <td> False</td>\n",
        "      <td> 0.629921</td>\n",
        "      <td> 1.601073</td>\n",
        "      <td> 0.629921</td>\n",
        "      <td> 5.010392</td>\n",
        "      <td> 5.010392</td>\n",
        "    </tr>\n",
        "    <tr>\n",
        "      <th>TEX41</th>\n",
        "      <td>   39.620150</td>\n",
        "      <td>  1.020047</td>\n",
        "      <td> 0.583145</td>\n",
        "      <td> 0.583145</td>\n",
        "      <td> 0.05</td>\n",
        "      <td>  larger</td>\n",
        "      <td>  46</td>\n",
        "      <td> True</td>\n",
        "      <td> True</td>\n",
        "      <td>  46</td>\n",
        "      <td>...</td>\n",
        "      <td> 0.116699</td>\n",
        "      <td> 0.116699</td>\n",
        "      <td> MD</td>\n",
        "      <td> 0.000000</td>\n",
        "      <td> False</td>\n",
        "      <td> 0.811871</td>\n",
        "      <td> 2.065947</td>\n",
        "      <td> 0.811871</td>\n",
        "      <td> 4.997002</td>\n",
        "      <td> 4.997002</td>\n",
        "    </tr>\n",
        "    <tr>\n",
        "      <th>ABCA13</th>\n",
        "      <td>  111.185723</td>\n",
        "      <td>  6.018226</td>\n",
        "      <td> 0.395743</td>\n",
        "      <td> 0.395702</td>\n",
        "      <td> 0.05</td>\n",
        "      <td>  larger</td>\n",
        "      <td> 123</td>\n",
        "      <td> True</td>\n",
        "      <td> True</td>\n",
        "      <td> 158</td>\n",
        "      <td>...</td>\n",
        "      <td> 0.082675</td>\n",
        "      <td> 0.081678</td>\n",
        "      <td> MD</td>\n",
        "      <td> 0.012803</td>\n",
        "      <td> False</td>\n",
        "      <td> 0.555312</td>\n",
        "      <td> 0.608225</td>\n",
        "      <td> 0.555787</td>\n",
        "      <td> 4.860886</td>\n",
        "      <td> 4.844681</td>\n",
        "    </tr>\n",
        "    <tr>\n",
        "      <th>CCNT2-AS1</th>\n",
        "      <td>   18.589950</td>\n",
        "      <td>  1.483340</td>\n",
        "      <td> 0.838158</td>\n",
        "      <td> 0.838158</td>\n",
        "      <td> 0.05</td>\n",
        "      <td>  larger</td>\n",
        "      <td>  53</td>\n",
        "      <td> True</td>\n",
        "      <td> True</td>\n",
        "      <td>  51</td>\n",
        "      <td>...</td>\n",
        "      <td> 0.174634</td>\n",
        "      <td> 0.174634</td>\n",
        "      <td> MD</td>\n",
        "      <td> 0.000000</td>\n",
        "      <td> False</td>\n",
        "      <td> 1.180434</td>\n",
        "      <td> 1.589547</td>\n",
        "      <td> 1.180434</td>\n",
        "      <td> 4.799520</td>\n",
        "      <td> 4.799520</td>\n",
        "    </tr>\n",
        "    <tr>\n",
        "      <th>CHST10</th>\n",
        "      <td> 2143.635364</td>\n",
        "      <td>  9.486731</td>\n",
        "      <td>-0.108307</td>\n",
        "      <td>-0.109394</td>\n",
        "      <td> 0.05</td>\n",
        "      <td> smaller</td>\n",
        "      <td> 135</td>\n",
        "      <td> True</td>\n",
        "      <td> True</td>\n",
        "      <td> 231</td>\n",
        "      <td>...</td>\n",
        "      <td> 0.034915</td>\n",
        "      <td> 0.022923</td>\n",
        "      <td> MD</td>\n",
        "      <td> 0.026335</td>\n",
        "      <td> False</td>\n",
        "      <td>-0.074625</td>\n",
        "      <td>-0.026834</td>\n",
        "      <td>-0.064465</td>\n",
        "      <td>-6.302408</td>\n",
        "      <td>-4.772193</td>\n",
        "    </tr>\n",
        "    <tr>\n",
        "      <th>LINC00959</th>\n",
        "      <td>   50.254029</td>\n",
        "      <td>  0.243389</td>\n",
        "      <td>-0.523638</td>\n",
        "      <td>-0.523638</td>\n",
        "      <td> 0.05</td>\n",
        "      <td> smaller</td>\n",
        "      <td>  46</td>\n",
        "      <td> True</td>\n",
        "      <td> True</td>\n",
        "      <td>  46</td>\n",
        "      <td>...</td>\n",
        "      <td> 0.110535</td>\n",
        "      <td> 0.110535</td>\n",
        "      <td> MD</td>\n",
        "      <td> 0.000000</td>\n",
        "      <td> False</td>\n",
        "      <td>-0.306993</td>\n",
        "      <td> 0.880843</td>\n",
        "      <td>-0.306993</td>\n",
        "      <td>-4.737302</td>\n",
        "      <td>-4.737302</td>\n",
        "    </tr>\n",
        "    <tr>\n",
        "      <th>ARHGAP29</th>\n",
        "      <td> 1535.657267</td>\n",
        "      <td>  7.783995</td>\n",
        "      <td> 0.101735</td>\n",
        "      <td> 0.101735</td>\n",
        "      <td> 0.05</td>\n",
        "      <td>  larger</td>\n",
        "      <td> 135</td>\n",
        "      <td> True</td>\n",
        "      <td> True</td>\n",
        "      <td> 231</td>\n",
        "      <td>...</td>\n",
        "      <td> 0.021572</td>\n",
        "      <td> 0.021572</td>\n",
        "      <td> MD</td>\n",
        "      <td> 0.000000</td>\n",
        "      <td> False</td>\n",
        "      <td> 0.144016</td>\n",
        "      <td> 0.152746</td>\n",
        "      <td> 0.144016</td>\n",
        "      <td> 4.715953</td>\n",
        "      <td> 4.715953</td>\n",
        "    </tr>\n",
        "    <tr>\n",
        "      <th>SALL3</th>\n",
        "      <td> 1189.160703</td>\n",
        "      <td>  5.456909</td>\n",
        "      <td> 0.119788</td>\n",
        "      <td> 0.119788</td>\n",
        "      <td> 0.05</td>\n",
        "      <td>  larger</td>\n",
        "      <td> 123</td>\n",
        "      <td> True</td>\n",
        "      <td> True</td>\n",
        "      <td> 158</td>\n",
        "      <td>...</td>\n",
        "      <td> 0.025621</td>\n",
        "      <td> 0.025621</td>\n",
        "      <td> MD</td>\n",
        "      <td> 0.000000</td>\n",
        "      <td> False</td>\n",
        "      <td> 0.170004</td>\n",
        "      <td> 0.185649</td>\n",
        "      <td> 0.170004</td>\n",
        "      <td> 4.675418</td>\n",
        "      <td> 4.675418</td>\n",
        "    </tr>\n",
        "    <tr>\n",
        "      <th>TP53TG3B</th>\n",
        "      <td>   19.548867</td>\n",
        "      <td>  0.325383</td>\n",
        "      <td> 0.803733</td>\n",
        "      <td> 0.803733</td>\n",
        "      <td> 0.05</td>\n",
        "      <td>  larger</td>\n",
        "      <td>  46</td>\n",
        "      <td> True</td>\n",
        "      <td> True</td>\n",
        "      <td>  46</td>\n",
        "      <td>...</td>\n",
        "      <td> 0.172353</td>\n",
        "      <td> 0.172353</td>\n",
        "      <td> MD</td>\n",
        "      <td> 0.000000</td>\n",
        "      <td> False</td>\n",
        "      <td> 1.141539</td>\n",
        "      <td> 2.993690</td>\n",
        "      <td> 1.141539</td>\n",
        "      <td> 4.663284</td>\n",
        "      <td> 4.663284</td>\n",
        "    </tr>\n",
        "    <tr>\n",
        "      <th>AGAP10</th>\n",
        "      <td>  104.773460</td>\n",
        "      <td>  2.047296</td>\n",
        "      <td>-0.328814</td>\n",
        "      <td>-0.329914</td>\n",
        "      <td> 0.05</td>\n",
        "      <td> smaller</td>\n",
        "      <td>  46</td>\n",
        "      <td> True</td>\n",
        "      <td> True</td>\n",
        "      <td>  46</td>\n",
        "      <td>...</td>\n",
        "      <td> 0.074200</td>\n",
        "      <td> 0.071093</td>\n",
        "      <td> MD</td>\n",
        "      <td> 0.021246</td>\n",
        "      <td> False</td>\n",
        "      <td>-0.192573</td>\n",
        "      <td> 0.612883</td>\n",
        "      <td>-0.190574</td>\n",
        "      <td>-4.730315</td>\n",
        "      <td>-4.640605</td>\n",
        "    </tr>\n",
        "    <tr>\n",
        "      <th>LINC00668</th>\n",
        "      <td>   19.420633</td>\n",
        "      <td>  1.133599</td>\n",
        "      <td> 0.654638</td>\n",
        "      <td> 0.654638</td>\n",
        "      <td> 0.05</td>\n",
        "      <td>  larger</td>\n",
        "      <td>  46</td>\n",
        "      <td> True</td>\n",
        "      <td> True</td>\n",
        "      <td>  46</td>\n",
        "      <td>...</td>\n",
        "      <td> 0.141361</td>\n",
        "      <td> 0.141361</td>\n",
        "      <td> MD</td>\n",
        "      <td> 0.000000</td>\n",
        "      <td> False</td>\n",
        "      <td> 0.931700</td>\n",
        "      <td> 2.450794</td>\n",
        "      <td> 0.931700</td>\n",
        "      <td> 4.630981</td>\n",
        "      <td> 4.630981</td>\n",
        "    </tr>\n",
        "    <tr>\n",
        "      <th>ARG1</th>\n",
        "      <td>  299.905493</td>\n",
        "      <td> 23.825774</td>\n",
        "      <td> 0.367484</td>\n",
        "      <td> 0.521617</td>\n",
        "      <td> 0.05</td>\n",
        "      <td>  larger</td>\n",
        "      <td> 135</td>\n",
        "      <td> True</td>\n",
        "      <td> True</td>\n",
        "      <td> 231</td>\n",
        "      <td>...</td>\n",
        "      <td> 0.256129</td>\n",
        "      <td> 0.113282</td>\n",
        "      <td> MD</td>\n",
        "      <td> 0.229715</td>\n",
        "      <td> False</td>\n",
        "      <td> 0.463120</td>\n",
        "      <td> 1.127266</td>\n",
        "      <td> 0.743645</td>\n",
        "      <td> 7.531169</td>\n",
        "      <td> 4.604610</td>\n",
        "    </tr>\n",
        "  </tbody>\n",
        "</table>\n",
        "<p>20 rows \u00d7 40 columns</p>\n",
        "</div>"
       ],
       "metadata": {},
       "output_type": "pyout",
       "prompt_number": 18,
       "text": [
        "                     C          Q  TE_fixed  TE_random  alpha alternative  \\\n",
        "myGeneSym                                                                   \n",
        "LOC284219    56.226844   0.422073  0.456832   0.456832   0.05      larger   \n",
        "COLCA1       12.136628   0.476979  1.311279   1.311279   0.05      larger   \n",
        "FCRL6       113.947260   3.497460 -0.405312  -0.405312   0.05     smaller   \n",
        "CRISP2      496.713113   8.138336  0.215215   0.214802   0.05      larger   \n",
        "HCG11        24.953046   1.552639 -0.808354  -0.808354   0.05     smaller   \n",
        "KIR2DS3     295.695020   4.730661 -0.252032  -0.252032   0.05     smaller   \n",
        "ID1         234.921711   7.218822  0.287990   0.287990   0.05      larger   \n",
        "LOC389834   133.566898   4.301134  0.372822   0.377887   0.05      larger   \n",
        "ZBED3-AS1    44.558692   0.286587  0.452796   0.452796   0.05      larger   \n",
        "TEX41        39.620150   1.020047  0.583145   0.583145   0.05      larger   \n",
        "ABCA13      111.185723   6.018226  0.395743   0.395702   0.05      larger   \n",
        "CCNT2-AS1    18.589950   1.483340  0.838158   0.838158   0.05      larger   \n",
        "CHST10     2143.635364   9.486731 -0.108307  -0.109394   0.05     smaller   \n",
        "LINC00959    50.254029   0.243389 -0.523638  -0.523638   0.05     smaller   \n",
        "ARHGAP29   1535.657267   7.783995  0.101735   0.101735   0.05      larger   \n",
        "SALL3      1189.160703   5.456909  0.119788   0.119788   0.05      larger   \n",
        "TP53TG3B     19.548867   0.325383  0.803733   0.803733   0.05      larger   \n",
        "AGAP10      104.773460   2.047296 -0.328814  -0.329914   0.05     smaller   \n",
        "LINC00668    19.420633   1.133599  0.654638   0.654638   0.05      larger   \n",
        "ARG1        299.905493  23.825774  0.367484   0.521617   0.05      larger   \n",
        "\n",
        "           caseDataCount comb_fixed comb_random  controlDataCount  \\\n",
        "myGeneSym                                                           \n",
        "LOC284219             46       True        True                46   \n",
        "COLCA1                46       True        True                46   \n",
        "FCRL6                 91       True        True               145   \n",
        "CRISP2               135       True        True               231   \n",
        "HCG11                 46       True        True                46   \n",
        "KIR2DS3              106       True        True               222   \n",
        "ID1                  144       True        True               241   \n",
        "LOC389834             83       True        True               135   \n",
        "ZBED3-AS1             46       True        True                46   \n",
        "TEX41                 46       True        True                46   \n",
        "ABCA13               123       True        True               158   \n",
        "CCNT2-AS1             53       True        True                51   \n",
        "CHST10               135       True        True               231   \n",
        "LINC00959             46       True        True                46   \n",
        "ARHGAP29             135       True        True               231   \n",
        "SALL3                123       True        True               158   \n",
        "TP53TG3B              46       True        True                46   \n",
        "AGAP10                46       True        True                46   \n",
        "LINC00668             46       True        True                46   \n",
        "ARG1                 135       True        True               231   \n",
        "\n",
        "                 ...         seTE_predict  seTE_random  sm       tau  \\\n",
        "myGeneSym        ...                                                   \n",
        "LOC284219        ...             0.074331     0.074331  MD  0.000000   \n",
        "COLCA1           ...             0.214744     0.214744  MD  0.000000   \n",
        "FCRL6            ...             0.072759     0.072759  MD  0.000000   \n",
        "CRISP2           ...             0.043100     0.039738  MD  0.016688   \n",
        "HCG11            ...             0.149724     0.149724  MD  0.000000   \n",
        "KIR2DS3          ...             0.046703     0.046703  MD  0.000000   \n",
        "ID1              ...             0.053785     0.053785  MD  0.000000   \n",
        "LOC389834        ...             0.088637     0.074846  MD  0.047482   \n",
        "ZBED3-AS1        ...             0.090371     0.090371  MD  0.000000   \n",
        "TEX41            ...             0.116699     0.116699  MD  0.000000   \n",
        "ABCA13           ...             0.082675     0.081678  MD  0.012803   \n",
        "CCNT2-AS1        ...             0.174634     0.174634  MD  0.000000   \n",
        "CHST10           ...             0.034915     0.022923  MD  0.026335   \n",
        "LINC00959        ...             0.110535     0.110535  MD  0.000000   \n",
        "ARHGAP29         ...             0.021572     0.021572  MD  0.000000   \n",
        "SALL3            ...             0.025621     0.025621  MD  0.000000   \n",
        "TP53TG3B         ...             0.172353     0.172353  MD  0.000000   \n",
        "AGAP10           ...             0.074200     0.071093  MD  0.021246   \n",
        "LINC00668        ...             0.141361     0.141361  MD  0.000000   \n",
        "ARG1             ...             0.256129     0.113282  MD  0.229715   \n",
        "\n",
        "           tau_common  upper_fixed  upper_predict  upper_random  zval_fixed  \\\n",
        "myGeneSym                                                                     \n",
        "LOC284219       False     0.602518       1.401297      0.602518    6.145911   \n",
        "COLCA1          False     1.732170       4.039865      1.732170    6.106229   \n",
        "FCRL6           False    -0.262707      -0.173760     -0.262707   -5.570607   \n",
        "CRISP2          False     0.291384       0.316717      0.292687    5.537860   \n",
        "HCG11           False    -0.514901       1.094069     -0.514901   -5.398963   \n",
        "KIR2DS3         False    -0.160496      -0.137754     -0.160496   -5.396486   \n",
        "ID1             False     0.393408       0.412020      0.393408    5.354435   \n",
        "LOC389834       False     0.509200       0.659968      0.524582    5.358038   \n",
        "ZBED3-AS1       False     0.629921       1.601073      0.629921    5.010392   \n",
        "TEX41           False     0.811871       2.065947      0.811871    4.997002   \n",
        "ABCA13          False     0.555312       0.608225      0.555787    4.860886   \n",
        "CCNT2-AS1       False     1.180434       1.589547      1.180434    4.799520   \n",
        "CHST10          False    -0.074625      -0.026834     -0.064465   -6.302408   \n",
        "LINC00959       False    -0.306993       0.880843     -0.306993   -4.737302   \n",
        "ARHGAP29        False     0.144016       0.152746      0.144016    4.715953   \n",
        "SALL3           False     0.170004       0.185649      0.170004    4.675418   \n",
        "TP53TG3B        False     1.141539       2.993690      1.141539    4.663284   \n",
        "AGAP10          False    -0.192573       0.612883     -0.190574   -4.730315   \n",
        "LINC00668       False     0.931700       2.450794      0.931700    4.630981   \n",
        "ARG1            False     0.463120       1.127266      0.743645    7.531169   \n",
        "\n",
        "           zval_random  \n",
        "myGeneSym               \n",
        "LOC284219     6.145911  \n",
        "COLCA1        6.106229  \n",
        "FCRL6        -5.570607  \n",
        "CRISP2        5.405468  \n",
        "HCG11        -5.398963  \n",
        "KIR2DS3      -5.396486  \n",
        "ID1           5.354435  \n",
        "LOC389834     5.048873  \n",
        "ZBED3-AS1     5.010392  \n",
        "TEX41         4.997002  \n",
        "ABCA13        4.844681  \n",
        "CCNT2-AS1     4.799520  \n",
        "CHST10       -4.772193  \n",
        "LINC00959    -4.737302  \n",
        "ARHGAP29      4.715953  \n",
        "SALL3         4.675418  \n",
        "TP53TG3B      4.663284  \n",
        "AGAP10       -4.640605  \n",
        "LINC00668     4.630981  \n",
        "ARG1          4.604610  \n",
        "\n",
        "[20 rows x 40 columns]"
       ]
      }
     ],
     "prompt_number": 18
    },
    {
     "cell_type": "code",
     "collapsed": false,
     "input": [
      "getPubmed(11309499)"
     ],
     "language": "python",
     "metadata": {
      "internals": {
       "slide_helper": "subslide_end",
       "slide_type": "subslide"
      },
      "slide_helper": "subslide_end",
      "slideshow": {
       "slide_type": "subslide"
      }
     },
     "outputs": [
      {
       "html": [
        "<iframe src=http://www.ncbi.nlm.nih.gov/m/pubmed/11309499 height=400 width=800></iframe>"
       ],
       "metadata": {},
       "output_type": "pyout",
       "prompt_number": 19,
       "text": [
        "<IPython.core.display.HTML at 0x106778810>"
       ]
      }
     ],
     "prompt_number": 19
    },
    {
     "cell_type": "code",
     "collapsed": false,
     "input": [
      "samrMeta.head(20)"
     ],
     "language": "python",
     "metadata": {
      "internals": {
       "slide_helper": "subslide_end",
       "slide_type": "subslide"
      },
      "slide_helper": "slide_end",
      "slideshow": {
       "slide_type": "subslide"
      }
     },
     "outputs": [
      {
       "html": [
        "<div style=\"max-height:1000px;max-width:1500px;overflow:auto;\">\n",
        "<table border=\"1\" class=\"dataframe\">\n",
        "  <thead>\n",
        "    <tr style=\"text-align: right;\">\n",
        "      <th></th>\n",
        "      <th>direction</th>\n",
        "      <th>gpl</th>\n",
        "      <th>subset</th>\n",
        "      <th>absFc</th>\n",
        "      <th>myGeneId</th>\n",
        "      <th>gse</th>\n",
        "      <th>Gene Name</th>\n",
        "    </tr>\n",
        "    <tr>\n",
        "      <th>myGeneSym</th>\n",
        "      <th></th>\n",
        "      <th></th>\n",
        "      <th></th>\n",
        "      <th></th>\n",
        "      <th></th>\n",
        "      <th></th>\n",
        "      <th></th>\n",
        "    </tr>\n",
        "  </thead>\n",
        "  <tbody>\n",
        "    <tr>\n",
        "      <th>LTF</th>\n",
        "      <td>   up</td>\n",
        "      <td> 5</td>\n",
        "      <td> Acute</td>\n",
        "      <td> 2.236</td>\n",
        "      <td>   4057.0</td>\n",
        "      <td> 4</td>\n",
        "      <td>      202018_s_at; GI_4505042-S; ILMN_1677920; 386</td>\n",
        "    </tr>\n",
        "    <tr>\n",
        "      <th>CEACAM8</th>\n",
        "      <td>   up</td>\n",
        "      <td> 5</td>\n",
        "      <td> Acute</td>\n",
        "      <td> 2.179</td>\n",
        "      <td>   1088.0</td>\n",
        "      <td> 4</td>\n",
        "      <td>     ILMN_1806056; 33483; 206676_at; GI_21314599-S</td>\n",
        "    </tr>\n",
        "    <tr>\n",
        "      <th>GNG11</th>\n",
        "      <td> down</td>\n",
        "      <td> 4</td>\n",
        "      <td> Acute</td>\n",
        "      <td> 2.108</td>\n",
        "      <td>   2791.0</td>\n",
        "      <td> 4</td>\n",
        "      <td>        GI_20127455-S; hHC016102; 204115_at; 35745</td>\n",
        "    </tr>\n",
        "    <tr>\n",
        "      <th>PGLYRP1</th>\n",
        "      <td>   up</td>\n",
        "      <td> 5</td>\n",
        "      <td> Acute</td>\n",
        "      <td> 2.012</td>\n",
        "      <td>   8993.0</td>\n",
        "      <td> 4</td>\n",
        "      <td>      207384_at; GI_4827035-S; 19234; ILMN_1704870</td>\n",
        "    </tr>\n",
        "    <tr>\n",
        "      <th>DEFA1B</th>\n",
        "      <td>   up</td>\n",
        "      <td> 4</td>\n",
        "      <td> Acute</td>\n",
        "      <td> 1.864</td>\n",
        "      <td> 728358.0</td>\n",
        "      <td> 3</td>\n",
        "      <td>    24052; ILMN_1725661; 205033_s_at; ILMN_1679357</td>\n",
        "    </tr>\n",
        "    <tr>\n",
        "      <th>GFI1B</th>\n",
        "      <td> down</td>\n",
        "      <td> 4</td>\n",
        "      <td> Acute</td>\n",
        "      <td> 1.817</td>\n",
        "      <td>   8328.0</td>\n",
        "      <td> 4</td>\n",
        "      <td>         hHC015691; 208501_at; ILMN_1742548; 25210</td>\n",
        "    </tr>\n",
        "    <tr>\n",
        "      <th>MMP8</th>\n",
        "      <td>   up</td>\n",
        "      <td> 4</td>\n",
        "      <td> Acute</td>\n",
        "      <td> 1.762</td>\n",
        "      <td>   4317.0</td>\n",
        "      <td> 3</td>\n",
        "      <td>         207329_at; ILMN_1736026; 22517; 231688_at</td>\n",
        "    </tr>\n",
        "    <tr>\n",
        "      <th>PRKAR2B</th>\n",
        "      <td> down</td>\n",
        "      <td> 4</td>\n",
        "      <td> Acute</td>\n",
        "      <td> 1.685</td>\n",
        "      <td>   5577.0</td>\n",
        "      <td> 4</td>\n",
        "      <td> hHA037907; 13628; 203680_at; 14195; 39069; GI_...</td>\n",
        "    </tr>\n",
        "    <tr>\n",
        "      <th>DEFA4</th>\n",
        "      <td>   up</td>\n",
        "      <td> 5</td>\n",
        "      <td> Acute</td>\n",
        "      <td> 1.663</td>\n",
        "      <td>   1669.0</td>\n",
        "      <td> 4</td>\n",
        "      <td>      207269_at; 20104; ILMN_1753347; GI_4503302-S</td>\n",
        "    </tr>\n",
        "    <tr>\n",
        "      <th>MMD</th>\n",
        "      <td> down</td>\n",
        "      <td> 4</td>\n",
        "      <td> Acute</td>\n",
        "      <td> 1.649</td>\n",
        "      <td>  23531.0</td>\n",
        "      <td> 4</td>\n",
        "      <td>          5818; GI_6912507-S; 203414_at; hHC003590</td>\n",
        "    </tr>\n",
        "    <tr>\n",
        "      <th>MMP9</th>\n",
        "      <td>   up</td>\n",
        "      <td> 5</td>\n",
        "      <td> Acute</td>\n",
        "      <td> 1.639</td>\n",
        "      <td>   4318.0</td>\n",
        "      <td> 4</td>\n",
        "      <td> 14852; 203936_s_at; 1570; 25413; 14430; 44612;...</td>\n",
        "    </tr>\n",
        "    <tr>\n",
        "      <th>TUBB1</th>\n",
        "      <td> down</td>\n",
        "      <td> 5</td>\n",
        "      <td> Acute</td>\n",
        "      <td> 1.577</td>\n",
        "      <td>  81027.0</td>\n",
        "      <td> 4</td>\n",
        "      <td>       hHC006527; 208601_s_at; ILMN_1793065; 38416</td>\n",
        "    </tr>\n",
        "    <tr>\n",
        "      <th>CXCL5</th>\n",
        "      <td> down</td>\n",
        "      <td> 4</td>\n",
        "      <td> Acute</td>\n",
        "      <td> 1.483</td>\n",
        "      <td>   6374.0</td>\n",
        "      <td> 4</td>\n",
        "      <td> ILMN_1752562; 207852_at; 20264; GI_41872613-S;...</td>\n",
        "    </tr>\n",
        "    <tr>\n",
        "      <th>VSIG4</th>\n",
        "      <td>   up</td>\n",
        "      <td> 4</td>\n",
        "      <td> Acute</td>\n",
        "      <td> 1.464</td>\n",
        "      <td>  11326.0</td>\n",
        "      <td> 4</td>\n",
        "      <td>       ILMN_1669409; GI_6005957-S; 204787_at; 9308</td>\n",
        "    </tr>\n",
        "    <tr>\n",
        "      <th>LCN2</th>\n",
        "      <td>   up</td>\n",
        "      <td> 5</td>\n",
        "      <td> Acute</td>\n",
        "      <td> 1.423</td>\n",
        "      <td>   3934.0</td>\n",
        "      <td> 4</td>\n",
        "      <td>     GI_38455401-S; ILMN_1692223; 33122; 212531_at</td>\n",
        "    </tr>\n",
        "    <tr>\n",
        "      <th>ORM1</th>\n",
        "      <td>   up</td>\n",
        "      <td> 4</td>\n",
        "      <td> Acute</td>\n",
        "      <td> 1.417</td>\n",
        "      <td>   5004.0</td>\n",
        "      <td> 4</td>\n",
        "      <td>      GI_9257231-S; 205040_at; 18324; ILMN_1696584</td>\n",
        "    </tr>\n",
        "    <tr>\n",
        "      <th>SPTAN1</th>\n",
        "      <td> down</td>\n",
        "      <td> 4</td>\n",
        "      <td> Acute</td>\n",
        "      <td> 1.396</td>\n",
        "      <td>   6709.0</td>\n",
        "      <td> 4</td>\n",
        "      <td>       214925_s_at; hHR013165; ILMN_1663526; 23650</td>\n",
        "    </tr>\n",
        "    <tr>\n",
        "      <th>SPARC</th>\n",
        "      <td> down</td>\n",
        "      <td> 4</td>\n",
        "      <td> Acute</td>\n",
        "      <td> 1.379</td>\n",
        "      <td>   6678.0</td>\n",
        "      <td> 3</td>\n",
        "      <td>   hHC008811; 212667_at; 200665_s_at; GI_4507170-S</td>\n",
        "    </tr>\n",
        "    <tr>\n",
        "      <th>ARG1</th>\n",
        "      <td>   up</td>\n",
        "      <td> 5</td>\n",
        "      <td> Acute</td>\n",
        "      <td> 1.370</td>\n",
        "      <td>    383.0</td>\n",
        "      <td> 4</td>\n",
        "      <td> 44005; ILMN_1812281; 206177_s_at; 231663_s_at;...</td>\n",
        "    </tr>\n",
        "    <tr>\n",
        "      <th>HP</th>\n",
        "      <td>   up</td>\n",
        "      <td> 4</td>\n",
        "      <td> Acute</td>\n",
        "      <td> 1.342</td>\n",
        "      <td>   3240.0</td>\n",
        "      <td> 3</td>\n",
        "      <td>                  26034; 206697_s_at; ILMN_1812433</td>\n",
        "    </tr>\n",
        "  </tbody>\n",
        "</table>\n",
        "</div>"
       ],
       "metadata": {},
       "output_type": "pyout",
       "prompt_number": 20,
       "text": [
        "          direction  gpl subset  absFc  myGeneId  gse  \\\n",
        "myGeneSym                                               \n",
        "LTF              up    5  Acute  2.236    4057.0    4   \n",
        "CEACAM8          up    5  Acute  2.179    1088.0    4   \n",
        "GNG11          down    4  Acute  2.108    2791.0    4   \n",
        "PGLYRP1          up    5  Acute  2.012    8993.0    4   \n",
        "DEFA1B           up    4  Acute  1.864  728358.0    3   \n",
        "GFI1B          down    4  Acute  1.817    8328.0    4   \n",
        "MMP8             up    4  Acute  1.762    4317.0    3   \n",
        "PRKAR2B        down    4  Acute  1.685    5577.0    4   \n",
        "DEFA4            up    5  Acute  1.663    1669.0    4   \n",
        "MMD            down    4  Acute  1.649   23531.0    4   \n",
        "MMP9             up    5  Acute  1.639    4318.0    4   \n",
        "TUBB1          down    5  Acute  1.577   81027.0    4   \n",
        "CXCL5          down    4  Acute  1.483    6374.0    4   \n",
        "VSIG4            up    4  Acute  1.464   11326.0    4   \n",
        "LCN2             up    5  Acute  1.423    3934.0    4   \n",
        "ORM1             up    4  Acute  1.417    5004.0    4   \n",
        "SPTAN1         down    4  Acute  1.396    6709.0    4   \n",
        "SPARC          down    4  Acute  1.379    6678.0    3   \n",
        "ARG1             up    5  Acute  1.370     383.0    4   \n",
        "HP               up    4  Acute  1.342    3240.0    3   \n",
        "\n",
        "                                                   Gene Name  \n",
        "myGeneSym                                                     \n",
        "LTF             202018_s_at; GI_4505042-S; ILMN_1677920; 386  \n",
        "CEACAM8        ILMN_1806056; 33483; 206676_at; GI_21314599-S  \n",
        "GNG11             GI_20127455-S; hHC016102; 204115_at; 35745  \n",
        "PGLYRP1         207384_at; GI_4827035-S; 19234; ILMN_1704870  \n",
        "DEFA1B        24052; ILMN_1725661; 205033_s_at; ILMN_1679357  \n",
        "GFI1B              hHC015691; 208501_at; ILMN_1742548; 25210  \n",
        "MMP8               207329_at; ILMN_1736026; 22517; 231688_at  \n",
        "PRKAR2B    hHA037907; 13628; 203680_at; 14195; 39069; GI_...  \n",
        "DEFA4           207269_at; 20104; ILMN_1753347; GI_4503302-S  \n",
        "MMD                 5818; GI_6912507-S; 203414_at; hHC003590  \n",
        "MMP9       14852; 203936_s_at; 1570; 25413; 14430; 44612;...  \n",
        "TUBB1            hHC006527; 208601_s_at; ILMN_1793065; 38416  \n",
        "CXCL5      ILMN_1752562; 207852_at; 20264; GI_41872613-S;...  \n",
        "VSIG4            ILMN_1669409; GI_6005957-S; 204787_at; 9308  \n",
        "LCN2           GI_38455401-S; ILMN_1692223; 33122; 212531_at  \n",
        "ORM1            GI_9257231-S; 205040_at; 18324; ILMN_1696584  \n",
        "SPTAN1           214925_s_at; hHR013165; ILMN_1663526; 23650  \n",
        "SPARC        hHC008811; 212667_at; 200665_s_at; GI_4507170-S  \n",
        "ARG1       44005; ILMN_1812281; 206177_s_at; 231663_s_at;...  \n",
        "HP                          26034; 206697_s_at; ILMN_1812433  "
       ]
      }
     ],
     "prompt_number": 20
    },
    {
     "cell_type": "markdown",
     "metadata": {
      "internals": {
       "slide_helper": "subslide_end",
       "slide_type": "subslide"
      },
      "slide_helper": "slide_end",
      "slideshow": {
       "slide_type": "slide"
      }
     },
     "source": [
      "#10-gene signature for severe dengue highlights TNF-alpha pathway\n",
      "![network](https://copy.com/st4jRb0GU8GiztHg%2Fnetwork.jpg)"
     ]
    },
    {
     "cell_type": "markdown",
     "metadata": {
      "internals": {
       "slide_helper": "subslide_end",
       "slide_type": "subslide"
      },
      "slide_helper": "subslide_end",
      "slideshow": {
       "slide_type": "slide"
      }
     },
     "source": [
      "#Pathogenesis of dengue known to be coordinated by TNF-alpha\n",
      "![Pathogenesis](http://jvi.asm.org/content/80/23/11418/F3.large.jpg)"
     ]
    },
    {
     "cell_type": "code",
     "collapsed": false,
     "input": [
      "getWikipedia(\"Tumor necrosis factor alpha\")"
     ],
     "language": "python",
     "metadata": {
      "internals": {
       "slide_helper": "subslide_end",
       "slide_type": "subslide"
      },
      "slide_helper": "slide_end",
      "slideshow": {
       "slide_type": "subslide"
      }
     },
     "outputs": [
      {
       "html": [
        "<iframe src=http://en.m.wikipedia.org/wiki/tumor_necrosis_factor_alpha height=400 width=800></iframe>"
       ],
       "metadata": {},
       "output_type": "pyout",
       "prompt_number": 21,
       "text": [
        "<IPython.core.display.HTML at 0x106778f10>"
       ]
      }
     ],
     "prompt_number": 21
    },
    {
     "cell_type": "markdown",
     "metadata": {
      "internals": {
       "slide_helper": "subslide_end",
       "slide_type": "subslide"
      },
      "slide_helper": "subslide_end",
      "slideshow": {
       "slide_type": "slide"
      }
     },
     "source": [
      "#Neutrophil Elastase (ELANE) is most significant gene for Severe Dengue\n",
      "\n",
      "![ELANE](https://copy.com/IpfQODYIGeezR4Pw%2FELANE.png)"
     ]
    },
    {
     "cell_type": "heading",
     "level": 1,
     "metadata": {
      "internals": {
       "slide_type": "subslide"
      },
      "slideshow": {
       "slide_type": "slide"
      }
     },
     "source": [
      "ELANE already confirmed as severe dengue biomarker"
     ]
    },
    {
     "cell_type": "code",
     "collapsed": false,
     "input": [
      "getPubmed('10639436')"
     ],
     "language": "python",
     "metadata": {
      "internals": {},
      "slideshow": {
       "slide_type": "-"
      }
     },
     "outputs": [
      {
       "html": [
        "<iframe src=http://www.ncbi.nlm.nih.gov/m/pubmed/10639436 height=400 width=800></iframe>"
       ],
       "metadata": {},
       "output_type": "pyout",
       "prompt_number": 22,
       "text": [
        "<IPython.core.display.HTML at 0x106778f50>"
       ]
      }
     ],
     "prompt_number": 22
    },
    {
     "cell_type": "markdown",
     "metadata": {
      "internals": {
       "slide_helper": "subslide_end",
       "slide_type": "subslide"
      },
      "slide_helper": "subslide_end",
      "slideshow": {
       "slide_type": "slide"
      }
     },
     "source": [
      "#Drugs predicted to reverse severe dengue signature\n",
      "* Estriol is an attriactive candidate\n",
      "![drugs](https://copy.com/jySz72aPIXXncuqu?download=1)"
     ]
    },
    {
     "cell_type": "heading",
     "level": 1,
     "metadata": {
      "internals": {
       "slide_type": "subslide"
      },
      "slideshow": {
       "slide_type": "subslide"
      }
     },
     "source": [
      "Drug signatures from LINCS"
     ]
    },
    {
     "cell_type": "code",
     "collapsed": false,
     "input": [
      "getIframe('http://lincs.hms.harvard.edu')"
     ],
     "language": "python",
     "metadata": {
      "internals": {
       "slide_helper": "subslide_end"
      },
      "slide_helper": "slide_end",
      "slideshow": {
       "slide_type": "-"
      }
     },
     "outputs": [
      {
       "html": [
        "<iframe src=http://lincs.hms.harvard.edu height=400 width=800></iframe>"
       ],
       "metadata": {},
       "output_type": "pyout",
       "prompt_number": 23,
       "text": [
        "<IPython.core.display.HTML at 0x106778ad0>"
       ]
      }
     ],
     "prompt_number": 23
    },
    {
     "cell_type": "markdown",
     "metadata": {
      "slideshow": {
       "slide_type": "slide"
      }
     },
     "source": [
      "#Conclusion: Open data can successfully be used to predict pognostic biomarkers for dengue"
     ]
    },
    {
     "cell_type": "markdown",
     "metadata": {
      "internals": {
       "slide_type": "subslide"
      },
      "slideshow": {
       "slide_type": "slide"
      }
     },
     "source": [
      "#STAR: Search Tag Analyze Resource\n",
      "An online platform to crowd-source genomic disease signatures from open digital samples."
     ]
    },
    {
     "cell_type": "code",
     "collapsed": false,
     "input": [
      "getIframe('http://stargeo.org')"
     ],
     "language": "python",
     "metadata": {
      "internals": {
       "slide_helper": "subslide_end"
      },
      "slide_helper": "slide_end",
      "slideshow": {
       "slide_type": "-"
      }
     },
     "outputs": [
      {
       "html": [
        "<iframe src=http://stargeo.org height=400 width=800></iframe>"
       ],
       "metadata": {},
       "output_type": "pyout",
       "prompt_number": 24,
       "text": [
        "<IPython.core.display.HTML at 0x106778450>"
       ]
      }
     ],
     "prompt_number": 24
    },
    {
     "cell_type": "heading",
     "level": 1,
     "metadata": {
      "slideshow": {
       "slide_type": "slide"
      }
     },
     "source": [
      "DEMO"
     ]
    },
    {
     "cell_type": "markdown",
     "metadata": {
      "internals": {
       "slide_helper": "subslide_end",
       "slide_type": "subslide"
      },
      "slide_helper": "slide_end",
      "slideshow": {
       "slide_type": "slide"
      }
     },
     "source": [
      "#STAR implementation\n",
      "* web2py as a framework\n",
      "* DB design\n",
      "* Dynamic tables\n",
      "* Full Text Search\n",
      "* Caching counts\n",
      "* Form models"
     ]
    },
    {
     "cell_type": "markdown",
     "metadata": {
      "internals": {
       "slide_helper": "subslide_end",
       "slide_type": "subslide"
      },
      "slide_helper": "slide_end",
      "slideshow": {
       "slide_type": "slide"
      }
     },
     "source": [
      "#Why Web2py?\n",
      "   \n",
      "* Rapid development\n",
      "    * Really high level\n",
      "        * **SQLFORM.grid!**\n",
      "        * Authentication\n",
      "        * Scheduler\n",
      "* Easy deployment\n",
      "    * framework has everythg built in\n",
      "    * applications are transportable\n",
      "* Active community"
     ]
    },
    {
     "cell_type": "markdown",
     "metadata": {
      "internals": {
       "slide_helper": "subslide_end",
       "slide_type": "subslide"
      },
      "slide_helper": "slide_end",
      "slideshow": {
       "slide_type": "slide"
      }
     },
     "source": [
      "#GEO SOFT format\n",
      "![Soft format](http://www.ncbi.nlm.nih.gov/geo/img/submission_overview.jpg)"
     ]
    },
    {
     "cell_type": "markdown",
     "metadata": {
      "internals": {
       "slide_helper": "subslide_end",
       "slide_type": "subslide"
      },
      "slide_helper": "subslide_end",
      "slideshow": {
       "slide_type": "slide"
      }
     },
     "source": [
      "#STAR schema\n",
      "![STAR schema](https://copy.com/PXzW3xC2vL33s2NR/schema.png)"
     ]
    },
    {
     "cell_type": "markdown",
     "metadata": {
      "internals": {
       "slide_helper": "subslide_end",
       "slide_type": "subslide"
      },
      "slide_helper": "slide_end",
      "slideshow": {
       "slide_type": "subslide"
      }
     },
     "source": [
      "#Full schema\n",
      "![Full schema](https://copy.com/gwczCfn28yCMM7jk%2Ffull_schema.png)"
     ]
    },
    {
     "cell_type": "markdown",
     "metadata": {
      "internals": {
       "slide_helper": "subslide_end",
       "slide_type": "subslide"
      },
      "slide_helper": "subslide_end",
      "slideshow": {
       "slide_type": "slide"
      }
     },
     "source": [
      "#Implementing dynamic tables for entities\n",
      "* Store individual attributes \n",
      "* Store headers as indexed atributes\n",
      "    * Maintain fidelity with callbacks in controllers\n",
      "        * onupdate\n",
      "        * ondelete\n",
      "        * oncreate\n",
      "* Model dynamic view with headers\n",
      "    * Construct view with raw SQL\n",
      "    * **migrate=False** is critical with self-maintained views"
     ]
    },
    {
     "cell_type": "markdown",
     "metadata": {
      "internals": {
       "slide_helper": "subslide_end",
       "slide_type": "subslide"
      },
      "slide_helper": "slide_end",
      "slideshow": {
       "slide_type": "subslide"
      }
     },
     "source": [
      "#In model:\n",
      "\n",
      "    Sample = db.define_table('sample',\n",
      "                             Field('id', 'id', readable=False, writable=False),\n",
      "                             Field('series_id', 'reference series', writable=False),\n",
      "                             Field('platform_id', 'reference platform', writable=False),\n",
      "                             Field('gsm_name', 'text', writable=False),\n",
      "                             format='%(gsm_name)s',  # _%(series_id.gse_name)s_%(platform_id.gpl_name)s',\n",
      "                             migrate='sample.table'\n",
      "    )\n",
      "\n",
      "    Sample_Attribute = db.define_table('sample_attribute',\n",
      "                                       Field('id', 'id', readable=False, writable=False),\n",
      "                                       Field('sample_id', 'reference sample', writable=False),\n",
      "                                       Field('attribute_name', 'string', 256),\n",
      "                                       Field('attribute_value', 'text', writable=False),\n",
      "                                       format='%(attribute_name)s_%(attribute_value)s',\n",
      "                                       migrate='sample_attribute.table'\n",
      "    )\n",
      "\n",
      "    Sample_Attribute_Header = db.define_table('sample_attribute_header',\n",
      "                                              Field('id', 'id', readable=False, writable=False),\n",
      "                                              Field('header'),\n",
      "                                              Field('num', 'integer'),\n",
      "                                              migrate='sample_attribute_header'\n",
      "    )\n",
      "\n",
      "    Sample_View = db.define_table('sample_view',\n",
      "                                  Field('id', 'id', readable=False, writable=False),\n",
      "                                  Field('series_id', 'reference series', writable=False),\n",
      "                                  Field('platform_id', 'reference platform', writable=False),\n",
      "                                  Field('sample_id', 'reference sample', writable=False),\n",
      "                                  *[Field(rec.header, 'text',\n",
      "                                          writable=False,\n",
      "                                          represent=lambda value, row: value or \"\")\n",
      "                                    for rec in db(Sample_Attribute_Header).select()],\n",
      "                                  migrate=False)"
     ]
    },
    {
     "cell_type": "markdown",
     "metadata": {
      "internals": {
       "slide_helper": "subslide_end",
       "slide_type": "subslide"
      },
      "slide_helper": "subslide_end",
      "slideshow": {
       "slide_type": "slide"
      }
     },
     "source": [
      "#FTS implementation\n",
      "\n",
      "* Query keywords against an unmodeled FTS index on the view\n",
      "* Store matching record ids from the view to a view_results table\n",
      "    * view_results also stores the query \n",
      "    * must use use 'integer' to reference the dynamic view\n",
      "        * Field('sample_view_id', **'integer'**,...\n",
      "* View results with a join of the view to entity table\n",
      "    * avoids the prohibitive IN(efficient) queries\n"
     ]
    },
    {
     "cell_type": "markdown",
     "metadata": {
      "internals": {
       "slide_helper": "subslide_end",
       "slide_type": "subslide"
      },
      "slide_helper": "slide_end",
      "slideshow": {
       "slide_type": "subslide"
      }
     },
     "source": [
      "#In model:\n",
      "\n",
      "    Sample_View = db.define_table('sample_view',\n",
      "                                  Field('id', 'id', readable=False, writable=False),\n",
      "                                  Field('series_id', 'reference series', writable=False),\n",
      "                                  Field('platform_id', 'reference platform', writable=False),\n",
      "                                  Field('sample_id', 'reference sample', writable=False),\n",
      "                                  *[Field(rec.header, 'text',\n",
      "                                          writable=False,\n",
      "                                          represent=lambda value, row: value or \"\")\n",
      "                                    for rec in db(Sample_Attribute_Header).select()],\n",
      "                                  migrate=False)\n",
      "\n",
      "    Sample_View_Results = db.define_table('sample_view_results',\n",
      "                                          Field('id', 'id', readable=False, writable=False),\n",
      "                                          Field('sample_view_id', 'integer', readable=False, writable=False),\n",
      "                                          Field('search_id', 'reference search', readable=False, writable=False),\n",
      "                                          format='%(keywords)s',\n",
      "                                          migrate='sample_view_results.table'\n",
      "    )"
     ]
    },
    {
     "cell_type": "markdown",
     "metadata": {
      "slideshow": {
       "slide_type": "slide"
      }
     },
     "source": [
      "#Caching stats\n",
      "* All counts on home page are manually cached\n",
      "* Callbacks to update_counts from SQLFORM.grid\n",
      "    * ondelete\n",
      "    * onupdate\n",
      "    * oncreate"
     ]
    },
    {
     "cell_type": "markdown",
     "metadata": {
      "slideshow": {
       "slide_type": "subslide"
      }
     },
     "source": [
      "# In model:\n",
      "    Count = db.define_table('count',\n",
      "                            Field('id', 'id', readable=False, writable=False),\n",
      "                            Field('what'),\n",
      "                            Field('count', 'integer'),\n",
      "                            migrate=\"count.table\"\n",
      "    )\n",
      "    \n",
      "    def update_counts():\n",
      "        Count.truncate()\n",
      "        Count.insert(what='analysis', count=db(Analysis).count())\n",
      "        Count.insert(what='platform', count=db(Platform).count())\n",
      "        Count.insert(what='platform_probe', count=db(Platform_Probe).count())\n",
      "        Count.insert(what='tag', count=db(Tag).count())\n",
      "        Count.insert(what='sample', count=db(Sample).count())\n",
      "        Count.insert(what='sample_attribute', count=db(Sample_Attribute).count())\n",
      "        Count.insert(what='sample_tag', count=db(Sample_Tag).count())\n",
      "        Count.insert(what='series', count=db(Series).count())\n",
      "        Count.insert(what='series_attribute', count=db(Series_Attribute).count())\n",
      "        Count.insert(what='series_tag', count=db(Series_Tag).count())\n",
      "        Count.insert(what='auth_user', count=db(db['auth_user']).count())\n",
      "        db.commit()\n"
     ]
    },
    {
     "cell_type": "markdown",
     "metadata": {
      "slideshow": {
       "slide_type": "slide"
      }
     },
     "source": [
      "#Form models\n",
      "* Allow the SQLFORM to save variable states\n",
      "* Sored in gluon.Storage object in the session\n",
      "* Calling controlers set the form model before redirect\n"
     ]
    },
    {
     "cell_type": "markdown",
     "metadata": {
      "slideshow": {
       "slide_type": "subslide"
      }
     },
     "source": [
      "#In controller:\n",
      "    def __update_form_model():\n",
      "        # build a new form model for this series_id if none exists or new series_id\n",
      "\n",
      "        from gluon.storage import Storage\n",
      "\n",
      "        if not session.tag_form_vars:\n",
      "            session.tag_form_vars = Storage()\n",
      "\n",
      "        # update model from requests if same series_id\n",
      "        for var in Series_Tag.fields[1:]:\n",
      "            if var in request.vars:\n",
      "                session.tag_form_vars[var] = request.vars[var]\n",
      "        # checkboxes are special case as only requested when checked\n",
      "        session.tag_form_vars.show_invariant = request.vars.show_invariant\n",
      "\n",
      "        # update the defaults based on form model\n",
      "        for var in Series_Tag.fields[1:]:\n",
      "            Series_Tag[var].default = session.tag_form_vars[var]\n",
      "\n",
      "    def index():\n",
      "        __update_form_model()\n",
      "        return dict(form = SQLFORM(Series_Tag,\n",
      "                       _id='form',\n",
      "                       submit_button=\"Continue\",\n",
      "                       formname='form',\n",
      "                       hidden=dict(series_id=series_id))\n",
      "\n",
      "\n"
     ]
    }
   ],
   "metadata": {}
  }
 ]
}